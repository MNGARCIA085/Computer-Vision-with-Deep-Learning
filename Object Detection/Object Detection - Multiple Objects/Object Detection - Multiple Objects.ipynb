{
 "cells": [
  {
   "cell_type": "markdown",
   "id": "18659af4-9392-452c-862d-43179a629407",
   "metadata": {},
   "source": [
    "# <b> <center> <font color='#7B241C'> OBJECT DETECTION - MULTIPLE OBJECTS </font> </center> </b>"
   ]
  },
  {
   "cell_type": "markdown",
   "id": "b9416852-5c53-4f48-aae1-fa8c850c146c",
   "metadata": {},
   "source": [
    "## <font color='blue'> Table of Contents </font>\n",
    "\n",
    "1. [Introduction](#1)\n",
    "2. [Setup](#2)\n",
    "3. [Helper Functions](#3)\n",
    "4. [Data Generation and Pre-processing](#4)\n",
    "5. [Build, compile and train the model](#5)\n",
    "6. [Making predictions](#6)\n",
    "7. [References](#references)"
   ]
  },
  {
   "cell_type": "markdown",
   "id": "5d1bc174-8566-4cd2-a889-058ee4e5b976",
   "metadata": {},
   "source": [
    "<a name=\"1\"></a>\n",
    "## <b> <font color='red'> 1. Introduction </font> </b>\n",
    "\n",
    "In this notebook, we train an object detection model capable of identifying and localizing multiple objects within the same image. Unlike simple classification tasks, object detection involves predicting both the class and bounding box for each object present.\n",
    "\n",
    "To simplify data acquisition and maintain control over object placement and variety, we use synthetic data—artificially generated images containing different shapes (e.g., circles, squares) positioned at random locations. This allows us to simulate real-world conditions where multiple distinct objects can appear simultaneously in a single frame.\n",
    "\n",
    "The main goals of this notebook are:\n",
    "\n",
    "Generate a synthetic dataset with labeled bounding boxes and classes for multiple objects per image.\n",
    "\n",
    "Build and train an object detection model.\n",
    "\n",
    "Evaluate the model’s ability to detect and localize each object in new images.\n",
    "\n",
    "This project is a foundational step for tasks like automated visual inspection, multi-object tracking, and real-time detection systems."
   ]
  },
  {
   "cell_type": "markdown",
   "id": "3032e93f-b570-4bfe-bbe2-19d6becdf472",
   "metadata": {},
   "source": [
    "<a name=\"2\"></a>\n",
    "## <b> <font color='red'> 2. Setup </font> </b>"
   ]
  },
  {
   "cell_type": "code",
   "execution_count": 20,
   "id": "2c51f9f4-cc98-4e2c-8f49-762293f19bb8",
   "metadata": {},
   "outputs": [],
   "source": [
    "import tensorflow as tf\n",
    "import numpy as np\n",
    "from PIL import Image, ImageDraw\n",
    "import random\n",
    "import matplotlib.pyplot as plt\n",
    "import matplotlib.patches as patches\n",
    "from tensorflow.keras import layers, Model"
   ]
  },
  {
   "cell_type": "code",
   "execution_count": 2,
   "id": "1816ce72-b64f-4a44-97d1-50a403645f28",
   "metadata": {},
   "outputs": [],
   "source": [
    "tf.random.set_seed(42)"
   ]
  },
  {
   "cell_type": "markdown",
   "id": "90108a0c-92de-4e87-8b84-9caa1daa87a9",
   "metadata": {},
   "source": [
    "<a name=\"3\"></a>\n",
    "## <b> <font color='red'> 3. Helper Functions </font> </b>"
   ]
  },
  {
   "cell_type": "code",
   "execution_count": 3,
   "id": "327b8607-3f48-4a56-ae38-da74d314aeba",
   "metadata": {},
   "outputs": [],
   "source": [
    "def plot_sample(img_array, labels, bboxes):\n",
    "    fig, ax = plt.subplots()\n",
    "    ax.imshow(img_array)\n",
    "\n",
    "    class_names = [\"square\", \"circle\"]\n",
    "    colors = [\"violet\", \"yellow\"]\n",
    "\n",
    "    for cls in range(len(labels)):\n",
    "        if labels[cls]:  # if object is present\n",
    "            x1, y1, x2, y2 = bboxes[cls] * IMG_SIZE  # denormalize\n",
    "            width, height = x2 - x1, y2 - y1\n",
    "            rect = patches.Rectangle((x1, y1), width, height,\n",
    "                                     linewidth=2, edgecolor=colors[cls],\n",
    "                                     facecolor='none')\n",
    "            ax.add_patch(rect)\n",
    "            ax.text(x1, y1 - 5, class_names[cls], color=colors[cls], fontsize=12)\n",
    "\n",
    "    plt.axis(\"off\")\n",
    "    plt.show()\n"
   ]
  },
  {
   "cell_type": "markdown",
   "id": "351497aa-8051-4814-99ac-08f3b66bec86",
   "metadata": {},
   "source": [
    "<a name=\"4\"></a>\n",
    "## <b> <font color='red'> 4. Data Generation and Pre-processing </font> </b>\n",
    "\n",
    "We will generate synthetic data."
   ]
  },
  {
   "cell_type": "code",
   "execution_count": 4,
   "id": "0043603c-e372-472a-a34e-cccc173df088",
   "metadata": {},
   "outputs": [],
   "source": [
    "IMG_SIZE = 64\n",
    "NUM_CLASSES = 2  # red square, blue circle\n",
    "\n",
    "# ==== DATA GENERATION ====\n",
    "def generate_sample():\n",
    "    img = Image.new(\"RGB\", (IMG_SIZE, IMG_SIZE), \"black\")\n",
    "    draw = ImageDraw.Draw(img)\n",
    "\n",
    "    labels = np.zeros(NUM_CLASSES)\n",
    "    bboxes = np.zeros((NUM_CLASSES, 4))  # x1, y1, x2, y2\n",
    "\n",
    "    for cls in range(NUM_CLASSES):\n",
    "        x1, y1 = random.randint(5, 30), random.randint(5, 30)\n",
    "        x2, y2 = x1 + 20, y1 + 20\n",
    "\n",
    "        if cls == 0: draw.rectangle([x1, y1, x2, y2], fill=\"red\")\n",
    "        if cls == 1: draw.ellipse([x1, y1, x2, y2], fill=\"blue\")\n",
    "\n",
    "        labels[cls] = 1\n",
    "        bboxes[cls] = np.array([x1, y1, x2, y2]) / IMG_SIZE  # normalize\n",
    "\n",
    "    img_array = np.array(img) / 255.0\n",
    "    return img_array, labels, bboxes"
   ]
  },
  {
   "cell_type": "code",
   "execution_count": 5,
   "id": "1937ffdc-3f6d-456a-be2d-7d177f8ba4d0",
   "metadata": {},
   "outputs": [
    {
     "data": {
      "image/png": "[encoded data removed]",
      "text/plain": [
       "<Figure size 640x480 with 1 Axes>"
      ]
     },
     "metadata": {},
     "output_type": "display_data"
    }
   ],
   "source": [
    "# Example usage:\n",
    "img_array, labels, bboxes = generate_sample()\n",
    "plot_sample(img_array, labels, bboxes)"
   ]
  },
  {
   "cell_type": "markdown",
   "id": "7a57a545-e4ea-498d-b651-d4a238cdca57",
   "metadata": {},
   "source": [
    "Let's create the dataset."
   ]
  },
  {
   "cell_type": "code",
   "execution_count": 6,
   "id": "c5e1d443-dfab-4ab9-907c-50231876d22a",
   "metadata": {},
   "outputs": [],
   "source": [
    "def create_dataset(num_samples=1000):\n",
    "    X, y_cls, y_bbox = [], [], []\n",
    "    for _ in range(num_samples):\n",
    "        img, labels, bboxes = generate_sample()\n",
    "        X.append(img)\n",
    "        y_cls.append(labels)\n",
    "        y_bbox.append(bboxes)\n",
    "    return np.array(X), np.array(y_cls), np.array(y_bbox)\n",
    "\n",
    "X_train, y_train_cls, y_train_bbox = create_dataset()"
   ]
  },
  {
   "cell_type": "markdown",
   "id": "48a18284-1e3b-4aaa-8eae-c81b85916c87",
   "metadata": {},
   "source": [
    "Now, let's create the TF Datasets."
   ]
  },
  {
   "cell_type": "code",
   "execution_count": 7,
   "id": "ba65a004-6423-4899-9b68-1a49ad853321",
   "metadata": {},
   "outputs": [],
   "source": [
    "# Generate training and validation sets\n",
    "X_train, y_train_cls, y_train_bbox = create_dataset(num_samples=1000)\n",
    "X_val, y_val_cls, y_val_bbox = create_dataset(num_samples=200)\n",
    "\n",
    "# Create TensorFlow Datasets\n",
    "train_ds = tf.data.Dataset.from_tensor_slices(\n",
    "    (X_train, {\"cls\": y_train_cls, \"bbox\": y_train_bbox})\n",
    ")\n",
    "\n",
    "val_ds = tf.data.Dataset.from_tensor_slices(\n",
    "    (X_val, {\"cls\": y_val_cls, \"bbox\": y_val_bbox})\n",
    ")\n",
    "\n",
    "# Shuffle, batch, and prefetch\n",
    "BATCH_SIZE = 32\n",
    "\n",
    "train_ds = (\n",
    "    train_ds.shuffle(buffer_size=len(X_train))\n",
    "            .batch(BATCH_SIZE)\n",
    "            .prefetch(tf.data.AUTOTUNE)\n",
    ")\n",
    "\n",
    "# no shuffle\n",
    "val_ds = (\n",
    "    val_ds.batch(BATCH_SIZE)\n",
    "          .prefetch(tf.data.AUTOTUNE)\n",
    ")\n"
   ]
  },
  {
   "cell_type": "markdown",
   "id": "e0c63c18-c02e-43e5-8542-80720c09e157",
   "metadata": {},
   "source": [
    "<a name=\"5\"></a>\n",
    "## <b> <font color='red'> 5. Build, compile and train the model </font> </b>"
   ]
  },
  {
   "cell_type": "code",
   "execution_count": 8,
   "id": "4a72c429-5f15-4598-9c27-3469b0cb8b38",
   "metadata": {},
   "outputs": [
    {
     "name": "stdout",
     "output_type": "stream",
     "text": [
      "Model: \"model\"\n",
      "__________________________________________________________________________________________________\n",
      " Layer (type)                Output Shape                 Param #   Connected to                  \n",
      "==================================================================================================\n",
      " input_1 (InputLayer)        [(None, 64, 64, 3)]          0         []                            \n",
      "                                                                                                  \n",
      " conv2d (Conv2D)             (None, 64, 64, 32)           896       ['input_1[0][0]']             \n",
      "                                                                                                  \n",
      " max_pooling2d (MaxPooling2  (None, 32, 32, 32)           0         ['conv2d[0][0]']              \n",
      " D)                                                                                               \n",
      "                                                                                                  \n",
      " conv2d_1 (Conv2D)           (None, 32, 32, 64)           18496     ['max_pooling2d[0][0]']       \n",
      "                                                                                                  \n",
      " max_pooling2d_1 (MaxPoolin  (None, 16, 16, 64)           0         ['conv2d_1[0][0]']            \n",
      " g2D)                                                                                             \n",
      "                                                                                                  \n",
      " flatten (Flatten)           (None, 16384)                0         ['max_pooling2d_1[0][0]']     \n",
      "                                                                                                  \n",
      " dense (Dense)               (None, 128)                  2097280   ['flatten[0][0]']             \n",
      "                                                                                                  \n",
      " dense_1 (Dense)             (None, 8)                    1032      ['dense[0][0]']               \n",
      "                                                                                                  \n",
      " cls (Dense)                 (None, 2)                    258       ['dense[0][0]']               \n",
      "                                                                                                  \n",
      " bbox (Reshape)              (None, 2, 4)                 0         ['dense_1[0][0]']             \n",
      "                                                                                                  \n",
      "==================================================================================================\n",
      "Total params: 2117962 (8.08 MB)\n",
      "Trainable params: 2117962 (8.08 MB)\n",
      "Non-trainable params: 0 (0.00 Byte)\n",
      "__________________________________________________________________________________________________\n"
     ]
    }
   ],
   "source": [
    "def create_simple_model(img_size=64, num_classes=2):\n",
    "    inputs = layers.Input(shape=(img_size, img_size, 3))\n",
    "\n",
    "    x = layers.Conv2D(32, 3, activation='relu', padding='same')(inputs)\n",
    "    x = layers.MaxPooling2D()(x)\n",
    "    x = layers.Conv2D(64, 3, activation='relu', padding='same')(x)\n",
    "    x = layers.MaxPooling2D()(x)\n",
    "    x = layers.Flatten()(x)\n",
    "    x = layers.Dense(128, activation='relu')(x)\n",
    "\n",
    "    # Output for classification: multi-label (presence of each class)\n",
    "    cls_output = layers.Dense(num_classes, activation='sigmoid', name='cls')(x)\n",
    "\n",
    "    # Output for bounding boxes: 4 coordinates per class (x1, y1, x2, y2)\n",
    "    bbox_output = layers.Dense(num_classes * 4, activation='sigmoid')(x)\n",
    "    bbox_output = layers.Reshape((num_classes, 4), name='bbox')(bbox_output)\n",
    "\n",
    "    model = Model(inputs=inputs, outputs=[cls_output, bbox_output])\n",
    "    return model\n",
    "\n",
    "\n",
    "NUM_CLASSES = 2 # circle and square\n",
    "\n",
    "# Example usage\n",
    "model = create_simple_model(img_size=IMG_SIZE, num_classes=NUM_CLASSES)\n",
    "model.summary()\n"
   ]
  },
  {
   "cell_type": "code",
   "execution_count": 9,
   "id": "93c7de84-6df8-4f64-aff4-80c13cd743da",
   "metadata": {},
   "outputs": [
    {
     "name": "stdout",
     "output_type": "stream",
     "text": [
      "Epoch 1/10\n",
      "32/32 [==============================] - 4s 84ms/step - loss: 0.0542 - cls_loss: 0.0317 - bbox_loss: 0.0225 - cls_binary_accuracy: 0.9865 - bbox_mean_absolute_error: 0.1076 - val_loss: 0.0033 - val_cls_loss: 6.7335e-05 - val_bbox_loss: 0.0033 - val_cls_binary_accuracy: 1.0000 - val_bbox_mean_absolute_error: 0.0452\n",
      "Epoch 2/10\n",
      "32/32 [==============================] - 3s 79ms/step - loss: 0.0013 - cls_loss: 8.0293e-05 - bbox_loss: 0.0012 - cls_binary_accuracy: 1.0000 - bbox_mean_absolute_error: 0.0264 - val_loss: 7.3242e-04 - val_cls_loss: 7.4082e-05 - val_bbox_loss: 6.5834e-04 - val_cls_binary_accuracy: 1.0000 - val_bbox_mean_absolute_error: 0.0193\n",
      "Epoch 3/10\n",
      "32/32 [==============================] - 3s 81ms/step - loss: 4.7393e-04 - cls_loss: 4.9340e-05 - bbox_loss: 4.2459e-04 - cls_binary_accuracy: 1.0000 - bbox_mean_absolute_error: 0.0157 - val_loss: 4.4110e-04 - val_cls_loss: 3.5815e-05 - val_bbox_loss: 4.0529e-04 - val_cls_binary_accuracy: 1.0000 - val_bbox_mean_absolute_error: 0.0147\n",
      "Epoch 4/10\n",
      "32/32 [==============================] - 3s 81ms/step - loss: 3.1248e-04 - cls_loss: 2.6354e-05 - bbox_loss: 2.8613e-04 - cls_binary_accuracy: 1.0000 - bbox_mean_absolute_error: 0.0126 - val_loss: 3.4191e-04 - val_cls_loss: 2.1080e-05 - val_bbox_loss: 3.2083e-04 - val_cls_binary_accuracy: 1.0000 - val_bbox_mean_absolute_error: 0.0127\n",
      "Epoch 5/10\n",
      "32/32 [==============================] - 3s 80ms/step - loss: 2.3954e-04 - cls_loss: 1.5707e-05 - bbox_loss: 2.2383e-04 - cls_binary_accuracy: 1.0000 - bbox_mean_absolute_error: 0.0109 - val_loss: 2.7961e-04 - val_cls_loss: 1.3086e-05 - val_bbox_loss: 2.6652e-04 - val_cls_binary_accuracy: 1.0000 - val_bbox_mean_absolute_error: 0.0117\n",
      "Epoch 6/10\n",
      "32/32 [==============================] - 3s 81ms/step - loss: 1.8705e-04 - cls_loss: 1.0318e-05 - bbox_loss: 1.7673e-04 - cls_binary_accuracy: 1.0000 - bbox_mean_absolute_error: 0.0097 - val_loss: 2.3263e-04 - val_cls_loss: 8.8215e-06 - val_bbox_loss: 2.2381e-04 - val_cls_binary_accuracy: 1.0000 - val_bbox_mean_absolute_error: 0.0103\n",
      "Epoch 7/10\n",
      "32/32 [==============================] - 3s 80ms/step - loss: 1.5192e-04 - cls_loss: 7.1899e-06 - bbox_loss: 1.4473e-04 - cls_binary_accuracy: 1.0000 - bbox_mean_absolute_error: 0.0087 - val_loss: 2.0437e-04 - val_cls_loss: 6.4022e-06 - val_bbox_loss: 1.9797e-04 - val_cls_binary_accuracy: 1.0000 - val_bbox_mean_absolute_error: 0.0100\n",
      "Epoch 8/10\n",
      "32/32 [==============================] - 3s 82ms/step - loss: 1.3282e-04 - cls_loss: 5.3985e-06 - bbox_loss: 1.2742e-04 - cls_binary_accuracy: 1.0000 - bbox_mean_absolute_error: 0.0081 - val_loss: 1.8600e-04 - val_cls_loss: 4.9786e-06 - val_bbox_loss: 1.8102e-04 - val_cls_binary_accuracy: 1.0000 - val_bbox_mean_absolute_error: 0.0093\n",
      "Epoch 9/10\n",
      "32/32 [==============================] - 3s 82ms/step - loss: 1.1623e-04 - cls_loss: 4.2696e-06 - bbox_loss: 1.1196e-04 - cls_binary_accuracy: 1.0000 - bbox_mean_absolute_error: 0.0076 - val_loss: 1.6426e-04 - val_cls_loss: 3.9911e-06 - val_bbox_loss: 1.6027e-04 - val_cls_binary_accuracy: 1.0000 - val_bbox_mean_absolute_error: 0.0086\n",
      "Epoch 10/10\n",
      "32/32 [==============================] - 3s 82ms/step - loss: 1.0789e-04 - cls_loss: 3.5168e-06 - bbox_loss: 1.0437e-04 - cls_binary_accuracy: 1.0000 - bbox_mean_absolute_error: 0.0074 - val_loss: 1.5603e-04 - val_cls_loss: 3.4832e-06 - val_bbox_loss: 1.5255e-04 - val_cls_binary_accuracy: 1.0000 - val_bbox_mean_absolute_error: 0.0083\n"
     ]
    }
   ],
   "source": [
    "# Compile example (adjust loss and metrics as needed)\n",
    "model.compile(\n",
    "    optimizer='adam',\n",
    "    loss={\n",
    "        \"cls\": tf.keras.losses.BinaryCrossentropy(from_logits=False),\n",
    "        \"bbox\": tf.keras.losses.MeanSquaredError()\n",
    "    },\n",
    "    metrics={\n",
    "        \"cls\": tf.keras.metrics.BinaryAccuracy(),\n",
    "        \"bbox\": tf.keras.metrics.MeanAbsoluteError()\n",
    "    }\n",
    ")\n",
    "\n",
    "# Fit the model using the datasets created before\n",
    "history = model.fit(\n",
    "    train_ds,\n",
    "    validation_data=val_ds,\n",
    "    epochs=10\n",
    ")\n"
   ]
  },
  {
   "cell_type": "markdown",
   "id": "8cbf2e2b-96f7-4688-a337-3c5022f2555d",
   "metadata": {},
   "source": [
    "<a name=\"6\"></a>\n",
    "## <b> <font color='red'> 6. Making predictions </font> </b>"
   ]
  },
  {
   "cell_type": "code",
   "execution_count": null,
   "id": "9419fe5d-c6eb-4978-9dd1-2b50137466d0",
   "metadata": {},
   "outputs": [],
   "source": [
    "img = X_val[7]\n",
    "pred_cls, pred_bbox = model.predict(np.expand_dims(img, 0), verbose=0)"
   ]
  },
  {
   "cell_type": "code",
   "execution_count": 18,
   "id": "05071f08-54d2-48cf-8457-e05209577420",
   "metadata": {},
   "outputs": [
    {
     "data": {
      "text/plain": [
       "array([[0.99999833, 0.9999991 ]], dtype=float32)"
      ]
     },
     "execution_count": 18,
     "metadata": {},
     "output_type": "execute_result"
    }
   ],
   "source": [
    "pred_cls"
   ]
  },
  {
   "cell_type": "markdown",
   "id": "b9592bc3-6a25-43ac-b537-72307966fcd5",
   "metadata": {},
   "source": [
    "**Classification output**\n",
    "\n",
    "Shape: (1, 2) — 1 sample, 2 classes.\n",
    "\n",
    "Each value is between 0 and 1, representing the predicted probability (confidence) that each class is present in the image.\n",
    "\n",
    "In this example:\n",
    "\n",
    "- Class 0 (e.g., square) confidence ≈ 0.99999833 → very confident the object is present.\n",
    "\n",
    "- Class 1 (e.g., circle) confidence ≈ 0.9999991 → very confident the object is present."
   ]
  },
  {
   "cell_type": "code",
   "execution_count": 16,
   "id": "4760679b-1f2c-4dd9-9acf-e8d0f665b950",
   "metadata": {},
   "outputs": [
    {
     "data": {
      "text/plain": [
       "array([[[0.47013748, 0.2053786 , 0.7740922 , 0.5240758 ],\n",
       "        [0.19972506, 0.18141209, 0.5215569 , 0.4973964 ]]], dtype=float32)"
      ]
     },
     "execution_count": 16,
     "metadata": {},
     "output_type": "execute_result"
    }
   ],
   "source": [
    "pred_bbox"
   ]
  },
  {
   "cell_type": "markdown",
   "id": "21696e8a-1ad2-4807-af60-0a742e8a6b2e",
   "metadata": {},
   "source": [
    "**Bounding Box Output**\n",
    "\n",
    "Shape: (1, 2, 4) — 1 sample, 2 classes, 4 coordinates per box.\n",
    "\n",
    "Each bounding box is represented as [x1, y1, x2, y2], normalized between 0 and 1 relative to image size.\n",
    "\n",
    "- For class 0 (square):\n",
    "    - Bounding box: [0.4701, 0.2053, 0.7741, 0.5241] <br> <br>\n",
    "\n",
    "\n",
    "- For class 1 (circle):\n",
    "    - Bounding box: [0.1997, 0.1814, 0.5216, 0.4974]"
   ]
  },
  {
   "cell_type": "code",
   "execution_count": 12,
   "id": "ea81e910-8e0f-4f03-8d9a-ab4c0d308f6a",
   "metadata": {},
   "outputs": [],
   "source": [
    "# ==== INFERENCE EXAMPLE ====\n",
    "def show_prediction(model, X, idx=0):\n",
    "    img = X[idx]\n",
    "    pred_cls, pred_bbox = model.predict(np.expand_dims(img, 0), verbose=0)\n",
    "    pred_cls, pred_bbox = pred_cls[0], pred_bbox[0]\n",
    "\n",
    "    fig, ax = plt.subplots()\n",
    "    ax.imshow(img)\n",
    "\n",
    "    class_names = [\"Red Square\", \"Blue Circle\"]\n",
    "    colors = ['violet', 'yellow']\n",
    "\n",
    "    for i in range(NUM_CLASSES):\n",
    "        confidence = pred_cls[i]\n",
    "        if confidence > 0.5:\n",
    "            x1, y1, x2, y2 = pred_bbox[i] * IMG_SIZE\n",
    "            width, height = x2 - x1, y2 - y1\n",
    "            rect = plt.Rectangle((x1, y1), width, height,\n",
    "                                 edgecolor=colors[i], facecolor='none', linewidth=2)\n",
    "            ax.add_patch(rect)\n",
    "            ax.text(x1, y1 - 2, f\"{class_names[i]} ({confidence:.2f})\",\n",
    "                    color=colors[i], fontsize=8, backgroundcolor='black')\n",
    "    plt.axis('off')\n",
    "    plt.show()\n"
   ]
  },
  {
   "cell_type": "code",
   "execution_count": 19,
   "id": "0f866402-cb07-42de-a23b-be601e7074b0",
   "metadata": {},
   "outputs": [
    {
     "data": {
      "image/png": "[encoded data removed]",
      "text/plain": [
       "<Figure size 640x480 with 1 Axes>"
      ]
     },
     "metadata": {},
     "output_type": "display_data"
    }
   ],
   "source": [
    "show_prediction(model, X_val, 9)"
   ]
  },
  {
   "cell_type": "markdown",
   "id": "a1ee4499-ead4-4177-8ffe-62ec8839e491",
   "metadata": {},
   "source": [
    "<a name=\"references\"></a>\n",
    "## <b> <font color='red'> References </font>  </b>\n",
    "\n",
    "[Advanced Computer Vision with TF](https://www.coursera.org/learn/advanced-computer-vision-with-tensorflow?specialization=tensorflow-advanced-techniques)"
   ]
  }
 ],
 "metadata": {
  "kernelspec": {
   "display_name": "Python 3 (ipykernel)",
   "language": "python",
   "name": "python3"
  },
  "language_info": {
   "codemirror_mode": {
    "name": "ipython",
    "version": 3
   },
   "file_extension": ".py",
   "mimetype": "text/x-python",
   "name": "python",
   "nbconvert_exporter": "python",
   "pygments_lexer": "ipython3",
   "version": "3.10.12"
  }
 },
 "nbformat": 4,
 "nbformat_minor": 5
}
