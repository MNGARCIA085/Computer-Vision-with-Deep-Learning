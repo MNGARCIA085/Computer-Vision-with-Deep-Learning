{
 "cells": [
  {
   "cell_type": "code",
   "execution_count": null,
   "id": "453f396c-aad3-4a50-8c4a-ef5f6e0fc77a",
   "metadata": {},
   "outputs": [],
   "source": []
  },
  {
   "cell_type": "code",
   "execution_count": null,
   "id": "e3996e4a-6196-41e6-b417-a29c1f7324b1",
   "metadata": {},
   "outputs": [],
   "source": []
  },
  {
   "cell_type": "code",
   "execution_count": 1,
   "id": "dacc54e9-7902-4989-8104-4dff91bf838e",
   "metadata": {},
   "outputs": [],
   "source": [
    "from PIL import Image, ImageDraw\n",
    "import numpy as np\n",
    "import os, random\n",
    "\n",
    "os.makedirs(\"images\", exist_ok=True)\n",
    "os.makedirs(\"labels\", exist_ok=True)\n",
    "\n",
    "for i in range(1000):\n",
    "    img = Image.new(\"RGB\", (64, 64), (255, 255, 255))\n",
    "    draw = ImageDraw.Draw(img)\n",
    "    x, y = random.randint(10, 54), random.randint(10, 54)\n",
    "    size = 10\n",
    "    draw.rectangle([x-size, y-size, x+size, y+size], fill=(255, 0, 0))\n",
    "    img.save(f\"images/{i}.png\")\n",
    "    with open(f\"labels/{i}.txt\", \"w\") as f:\n",
    "        f.write(f\"{x},{y}\")\n"
   ]
  },
  {
   "cell_type": "code",
   "execution_count": 3,
   "id": "7e02f4b6-3a28-43ba-bcec-9e31ee883665",
   "metadata": {},
   "outputs": [
    {
     "name": "stdout",
     "output_type": "stream",
     "text": [
      "C3_W1_Lab_1_transfer_learning_cats_dogs.ipynb  images\n",
      "C3_W1_Lab_2_Transfer_Learning_CIFAR_10.ipynb   labels\n",
      "C3_W1_Lab_3_Object_Localization.ipynb\t       Untitled.ipynb\n"
     ]
    }
   ],
   "source": [
    "!ls"
   ]
  },
  {
   "cell_type": "code",
   "execution_count": null,
   "id": "d4f90bc7-ff7e-495b-87a3-2391149d8ee2",
   "metadata": {},
   "outputs": [],
   "source": []
  },
  {
   "cell_type": "code",
   "execution_count": null,
   "id": "a73ea1ee-7855-4008-8a8a-53e987e3db5c",
   "metadata": {},
   "outputs": [],
   "source": []
  },
  {
   "cell_type": "code",
   "execution_count": null,
   "id": "133019f6-a226-41d2-8f33-1392d93bcdcb",
   "metadata": {},
   "outputs": [],
   "source": []
  },
  {
   "cell_type": "code",
   "execution_count": null,
   "id": "b67f59c5-b468-433c-b760-bbf222914dc3",
   "metadata": {},
   "outputs": [],
   "source": []
  },
  {
   "cell_type": "code",
   "execution_count": null,
   "id": "de4eed9c-2ffb-4901-b5a5-c1f6988162a6",
   "metadata": {},
   "outputs": [],
   "source": [
    "# second dataset so the classifier "
   ]
  },
  {
   "cell_type": "code",
   "execution_count": 68,
   "id": "b2f3ea12-722d-4282-a779-7caddea14e93",
   "metadata": {},
   "outputs": [
    {
     "data": {
      "image/png": "[encoded data removed]",
      "text/plain": [
       "<Figure size 1000x200 with 5 Axes>"
      ]
     },
     "metadata": {},
     "output_type": "display_data"
    }
   ],
   "source": [
    "import random\n",
    "from PIL import Image, ImageDraw\n",
    "import xml.etree.ElementTree as ET\n",
    "import matplotlib.pyplot as plt\n",
    "import os\n",
    "\n",
    "# Directories\n",
    "img_dir = \"shape_dataset/images\"\n",
    "ann_dir = \"shape_dataset/annotations\"\n",
    "os.makedirs(img_dir, exist_ok=True)\n",
    "os.makedirs(ann_dir, exist_ok=True)\n",
    "\n",
    "# Image and shape parameters\n",
    "img_size = 64\n",
    "shape_size = 10\n",
    "num_images = 50  # Number of images to generate\n",
    "\n",
    "# Function to create bounding box XML\n",
    "def create_voc_xml(filename, width, height, bbox, shape_name, folder=\"images\"):\n",
    "    annotation = ET.Element(\"annotation\")\n",
    "    ET.SubElement(annotation, \"folder\").text = folder\n",
    "    ET.SubElement(annotation, \"filename\").text = filename\n",
    "    ET.SubElement(annotation, \"path\").text = os.path.join(folder, filename)\n",
    "\n",
    "    size = ET.SubElement(annotation, \"size\")\n",
    "    ET.SubElement(size, \"width\").text = str(width)\n",
    "    ET.SubElement(size, \"height\").text = str(height)\n",
    "    ET.SubElement(size, \"depth\").text = \"3\"\n",
    "\n",
    "    ET.SubElement(annotation, \"segmented\").text = \"0\"\n",
    "\n",
    "    obj = ET.SubElement(annotation, \"object\")\n",
    "    ET.SubElement(obj, \"name\").text = shape_name\n",
    "    ET.SubElement(obj, \"pose\").text = \"Unspecified\"\n",
    "    ET.SubElement(obj, \"truncated\").text = \"0\"\n",
    "    ET.SubElement(obj, \"difficult\").text = \"0\"\n",
    "\n",
    "    bndbox = ET.SubElement(obj, \"bndbox\")\n",
    "    ET.SubElement(bndbox, \"xmin\").text = str(bbox[0])\n",
    "    ET.SubElement(bndbox, \"ymin\").text = str(bbox[1])\n",
    "    ET.SubElement(bndbox, \"xmax\").text = str(bbox[2])\n",
    "    ET.SubElement(bndbox, \"ymax\").text = str(bbox[3])\n",
    "\n",
    "    return ET.ElementTree(annotation)\n",
    "\n",
    "# Function to draw shapes (circle or square) and return the bounding box\n",
    "def draw_shape(img_size, shape_type=\"square\"):\n",
    "    shape_size = 10\n",
    "    img = Image.new(\"RGB\", (img_size, img_size), (255, 255, 255))\n",
    "    draw = ImageDraw.Draw(img)\n",
    "\n",
    "    x, y = random.randint(shape_size, img_size - shape_size), random.randint(shape_size, img_size - shape_size)\n",
    "    xmin, ymin = x - shape_size, y - shape_size\n",
    "    xmax, ymax = x + shape_size, y + shape_size\n",
    "\n",
    "    if shape_type == \"square\":\n",
    "        draw.rectangle([xmin, ymin, xmax, ymax], fill=(255, 0, 0))\n",
    "    elif shape_type == \"circle\":\n",
    "        draw.ellipse([xmin, ymin, xmax, ymax], fill=(0, 0, 255))\n",
    "\n",
    "    return img, (xmin, ymin, xmax, ymax), shape_type\n",
    "\n",
    "# Generate images and annotations\n",
    "for i in range(num_images):\n",
    "    shape_type = random.choice([\"square\", \"circle\"])\n",
    "    img, bbox, shape_name = draw_shape(img_size, shape_type)\n",
    "    img_filename = f\"{i:04d}.png\"\n",
    "    img.save(os.path.join(img_dir, img_filename))\n",
    "\n",
    "    xml_filename = f\"{i:04d}.xml\"\n",
    "    tree = create_voc_xml(img_filename, img_size, img_size, bbox, shape_name)\n",
    "    tree.write(os.path.join(ann_dir, xml_filename))\n",
    "\n",
    "# Function to draw bounding box on an image for display\n",
    "def draw_bbox(image_path, xml_path):\n",
    "    img = Image.open(image_path).convert(\"RGB\")\n",
    "    tree = ET.parse(xml_path)\n",
    "    root = tree.getroot()\n",
    "    bndbox = root.find(\".//bndbox\")\n",
    "    box = [int(bndbox.find(tag).text) for tag in [\"xmin\", \"ymin\", \"xmax\", \"ymax\"]]\n",
    "    \n",
    "    draw = ImageDraw.Draw(img)\n",
    "    draw.rectangle(box, outline=\"green\", width=2)\n",
    "    return img\n",
    "\n",
    "# Display a few images with bounding boxes\n",
    "plt.figure(figsize=(10, 2))\n",
    "for i, fname in enumerate(sorted(os.listdir(img_dir))[:5]):\n",
    "    img_path = os.path.join(img_dir, fname)\n",
    "    xml_path = os.path.join(ann_dir, fname.replace(\".png\", \".xml\"))\n",
    "    img_with_bbox = draw_bbox(img_path, xml_path)\n",
    "    plt.subplot(1, 5, i+1)\n",
    "    plt.imshow(img_with_bbox)\n",
    "    plt.axis(\"off\")\n",
    "plt.tight_layout()\n",
    "plt.show()\n"
   ]
  },
  {
   "cell_type": "code",
   "execution_count": null,
   "id": "a3077406-26af-483c-abce-2a9ff1eb1045",
   "metadata": {},
   "outputs": [],
   "source": []
  },
  {
   "cell_type": "markdown",
   "id": "d23019a8-3034-4c48-ab9a-82bd2eb3a18d",
   "metadata": {},
   "source": [
    "### Preparing the datasets"
   ]
  },
  {
   "cell_type": "code",
   "execution_count": 69,
   "id": "0d42a71d-644a-460f-a7b4-3d3020811e06",
   "metadata": {},
   "outputs": [],
   "source": [
    "import tensorflow as tf\n",
    "import xml.etree.ElementTree as ET\n",
    "import os\n",
    "import random\n",
    "\n",
    "IMG_DIR = \"shape_dataset/images\"\n",
    "ANN_DIR = \"shape_dataset/annotations\"\n",
    "\n",
    "def parse_xml(xml_file):\n",
    "    tree = ET.parse(xml_file)\n",
    "    root = tree.getroot()\n",
    "\n",
    "    label = root.find(\".//name\").text\n",
    "    label = 0 if label == \"square\" else 1  # square=0, circle=1\n",
    "\n",
    "    bbox = root.find(\".//bndbox\")\n",
    "    xmin = int(bbox.find(\"xmin\").text)\n",
    "    ymin = int(bbox.find(\"ymin\").text)\n",
    "    xmax = int(bbox.find(\"xmax\").text)\n",
    "    ymax = int(bbox.find(\"ymax\").text)\n",
    "\n",
    "    # Normalize bbox coordinates to [0, 1]\n",
    "    bbox_norm = [xmin / 64, ymin / 64, xmax / 64, ymax / 64]\n",
    "    return label, bbox_norm\n",
    "\n",
    "# Build dataset entries\n",
    "samples = []\n",
    "for fname in sorted(os.listdir(IMG_DIR)):\n",
    "    if fname.endswith(\".png\"):\n",
    "        img_path = os.path.join(IMG_DIR, fname)\n",
    "        xml_path = os.path.join(ANN_DIR, fname.replace(\".png\", \".xml\"))\n",
    "        label, bbox = parse_xml(xml_path)\n",
    "        samples.append((img_path, label, bbox))\n",
    "\n",
    "random.shuffle(samples)\n",
    "split_idx = int(0.8 * len(samples))\n",
    "train_samples = samples[:split_idx]\n",
    "val_samples = samples[split_idx:]\n"
   ]
  },
  {
   "cell_type": "code",
   "execution_count": 72,
   "id": "af5178a4-44a5-4647-b57c-3fb0c29ac889",
   "metadata": {},
   "outputs": [],
   "source": [
    "def load_example(img_path, label, bbox):\n",
    "    img = tf.io.read_file(img_path)\n",
    "    img = tf.image.decode_png(img, channels=3)\n",
    "    img = tf.image.convert_image_dtype(img, tf.float32)  # scale [0,1]\n",
    "    return img, {\"label\": label, \"bbox\": bbox}\n",
    "\n",
    "def make_dataset(samples, batch_size=4):\n",
    "    img_paths, labels, bboxes = zip(*samples)\n",
    "    ds = tf.data.Dataset.from_tensor_slices((list(img_paths), list(labels), list(bboxes)))\n",
    "    ds = ds.map(lambda x, y, z: load_example(x, y, z))\n",
    "    ds = ds.shuffle(100).batch(batch_size).prefetch(tf.data.AUTOTUNE)\n",
    "    return ds\n",
    "\n",
    "train_ds = make_dataset(train_samples, batch_size=1)\n",
    "val_ds = make_dataset(val_samples, batch_size=1)\n"
   ]
  },
  {
   "cell_type": "markdown",
   "id": "caa228a0-3a97-444b-ad18-db5ba1964364",
   "metadata": {},
   "source": [
    "train_ds and val_ds are tf.data.Dataset objects.\n",
    "\n",
    "Each item is a tuple:\n",
    "(image, {\"label\": shape_class, \"bbox\": normalized_box})"
   ]
  },
  {
   "cell_type": "code",
   "execution_count": 73,
   "id": "e06e0cb5-a84c-4fd3-b77a-6090c973c1a3",
   "metadata": {},
   "outputs": [
    {
     "name": "stdout",
     "output_type": "stream",
     "text": [
      "Images: (1, 64, 64, 3)\n",
      "Labels: tf.Tensor([1], shape=(1,), dtype=int32)\n",
      "BBoxes: tf.Tensor([[0.40625  0.015625 0.71875  0.328125]], shape=(1, 4), dtype=float32)\n"
     ]
    }
   ],
   "source": [
    "for images, targets in train_ds.take(1):\n",
    "    print(\"Images:\", images.shape)\n",
    "    print(\"Labels:\", targets[\"label\"])\n",
    "    print(\"BBoxes:\", targets[\"bbox\"])\n"
   ]
  },
  {
   "cell_type": "code",
   "execution_count": null,
   "id": "daae801a-80e6-43b9-acf8-da2be949466e",
   "metadata": {},
   "outputs": [],
   "source": []
  },
  {
   "cell_type": "code",
   "execution_count": null,
   "id": "f6675381-1dc1-4213-9326-58d0da025469",
   "metadata": {},
   "outputs": [],
   "source": []
  },
  {
   "cell_type": "code",
   "execution_count": null,
   "id": "d697d88f-3087-423a-b3c2-d582b4182d5b",
   "metadata": {},
   "outputs": [],
   "source": []
  },
  {
   "cell_type": "code",
   "execution_count": 25,
   "id": "54294f4e-5144-4ca1-ae80-a0bf47285007",
   "metadata": {},
   "outputs": [
    {
     "name": "stderr",
     "output_type": "stream",
     "text": [
      "2025-05-07 17:20:51.123856: E external/local_xla/xla/stream_executor/cuda/cuda_dnn.cc:9261] Unable to register cuDNN factory: Attempting to register factory for plugin cuDNN when one has already been registered\n",
      "2025-05-07 17:20:51.123894: E external/local_xla/xla/stream_executor/cuda/cuda_fft.cc:607] Unable to register cuFFT factory: Attempting to register factory for plugin cuFFT when one has already been registered\n",
      "2025-05-07 17:20:51.125168: E external/local_xla/xla/stream_executor/cuda/cuda_blas.cc:1515] Unable to register cuBLAS factory: Attempting to register factory for plugin cuBLAS when one has already been registered\n",
      "2025-05-07 17:20:51.132014: I tensorflow/core/platform/cpu_feature_guard.cc:182] This TensorFlow binary is optimized to use available CPU instructions in performance-critical operations.\n",
      "To enable the following instructions: AVX2 FMA, in other operations, rebuild TensorFlow with the appropriate compiler flags.\n",
      "2025-05-07 17:20:53.032983: W tensorflow/compiler/tf2tensorrt/utils/py_utils.cc:38] TF-TRT Warning: Could not find TensorRT\n"
     ]
    }
   ],
   "source": [
    "import tensorflow as tf"
   ]
  },
  {
   "cell_type": "code",
   "execution_count": 74,
   "id": "37526d7b-75d0-4747-a540-fea31838c8d4",
   "metadata": {},
   "outputs": [
    {
     "name": "stdout",
     "output_type": "stream",
     "text": [
      "Model: \"model_6\"\n",
      "__________________________________________________________________________________________________\n",
      " Layer (type)                Output Shape                 Param #   Connected to                  \n",
      "==================================================================================================\n",
      " input_7 (InputLayer)        [(None, 64, 64, 3)]          0         []                            \n",
      "                                                                                                  \n",
      " conv2d_18 (Conv2D)          (None, 62, 62, 16)           448       ['input_7[0][0]']             \n",
      "                                                                                                  \n",
      " average_pooling2d_18 (Aver  (None, 31, 31, 16)           0         ['conv2d_18[0][0]']           \n",
      " agePooling2D)                                                                                    \n",
      "                                                                                                  \n",
      " conv2d_19 (Conv2D)          (None, 29, 29, 32)           4640      ['average_pooling2d_18[0][0]']\n",
      "                                                                                                  \n",
      " average_pooling2d_19 (Aver  (None, 14, 14, 32)           0         ['conv2d_19[0][0]']           \n",
      " agePooling2D)                                                                                    \n",
      "                                                                                                  \n",
      " conv2d_20 (Conv2D)          (None, 12, 12, 64)           18496     ['average_pooling2d_19[0][0]']\n",
      "                                                                                                  \n",
      " average_pooling2d_20 (Aver  (None, 6, 6, 64)             0         ['conv2d_20[0][0]']           \n",
      " agePooling2D)                                                                                    \n",
      "                                                                                                  \n",
      " flatten_6 (Flatten)         (None, 2304)                 0         ['average_pooling2d_20[0][0]']\n",
      "                                                                                                  \n",
      " dense_6 (Dense)             (None, 128)                  295040    ['flatten_6[0][0]']           \n",
      "                                                                                                  \n",
      " classification (Dense)      (None, 2)                    258       ['dense_6[0][0]']             \n",
      "                                                                                                  \n",
      " bounding_box (Dense)        (None, 4)                    516       ['dense_6[0][0]']             \n",
      "                                                                                                  \n",
      "==================================================================================================\n",
      "Total params: 319398 (1.22 MB)\n",
      "Trainable params: 319398 (1.22 MB)\n",
      "Non-trainable params: 0 (0.00 Byte)\n",
      "__________________________________________________________________________________________________\n"
     ]
    }
   ],
   "source": [
    "import tensorflow as tf\n",
    "\n",
    "# Feature extractor\n",
    "def feature_extractor(inputs):\n",
    "    x = tf.keras.layers.Conv2D(16, kernel_size=3, activation='relu')(inputs)\n",
    "    x = tf.keras.layers.AveragePooling2D((2, 2))(x)\n",
    "    x = tf.keras.layers.Conv2D(32, kernel_size=3, activation='relu')(x)\n",
    "    x = tf.keras.layers.AveragePooling2D((2, 2))(x)\n",
    "    x = tf.keras.layers.Conv2D(64, kernel_size=3, activation='relu')(x)\n",
    "    x = tf.keras.layers.AveragePooling2D((2, 2))(x)\n",
    "    return x\n",
    "\n",
    "# Dense layers\n",
    "def dense_layers(inputs):\n",
    "    x = tf.keras.layers.Flatten()(inputs)\n",
    "    x = tf.keras.layers.Dense(128, activation='relu')(x)\n",
    "    return x\n",
    "\n",
    "# Classification branch (2 classes)\n",
    "def classifier(inputs):\n",
    "    return tf.keras.layers.Dense(2, activation='softmax', name='classification')(inputs)\n",
    "\n",
    "# Bounding box regression branch (4 values)\n",
    "def bounding_box_regression(inputs):\n",
    "    return tf.keras.layers.Dense(4, name='bounding_box')(inputs)\n",
    "\n",
    "# Complete model\n",
    "def final_model(inputs):\n",
    "    features = feature_extractor(inputs)\n",
    "    dense = dense_layers(features)\n",
    "    class_out = classifier(dense)\n",
    "    bbox_out = bounding_box_regression(dense)\n",
    "    return tf.keras.Model(inputs=inputs, outputs=[class_out, bbox_out])\n",
    "\n",
    "# Compile model\n",
    "def define_and_compile_model(input_shape=(64, 64, 3)):\n",
    "    inputs = tf.keras.layers.Input(shape=input_shape)\n",
    "    model = final_model(inputs)\n",
    "    model.compile(\n",
    "        optimizer='adam',\n",
    "        loss={\n",
    "            'classification': 'sparse_categorical_crossentropy',\n",
    "            'bounding_box': 'mse'\n",
    "        },\n",
    "        metrics={\n",
    "            'classification': 'accuracy',\n",
    "            'bounding_box': 'mse'\n",
    "        }\n",
    "    )\n",
    "    return model\n",
    "\n",
    "# Instantiate and summarize\n",
    "model = define_and_compile_model()\n",
    "model.summary()\n"
   ]
  },
  {
   "cell_type": "code",
   "execution_count": null,
   "id": "4b2dcbe1-575d-4bb5-9193-ee708969e32c",
   "metadata": {},
   "outputs": [],
   "source": []
  },
  {
   "cell_type": "code",
   "execution_count": null,
   "id": "227d510f-fdc4-4d78-9e4a-2d9781e873ab",
   "metadata": {},
   "outputs": [],
   "source": []
  },
  {
   "cell_type": "markdown",
   "id": "765de788-6625-4608-91df-e2ad3a1a2f7b",
   "metadata": {},
   "source": [
    "Each item muste be:\n",
    "\n",
    "(image_tensor, {\"classification\": int_label, \"bounding_box\": [xmin, ymin, xmax, ymax]})\n",
    "\n",
    "\n",
    "\n",
    "not:\n",
    "\n",
    "(image_tensor, {\"label\": ..., \"bbox\": ...})"
   ]
  },
  {
   "cell_type": "code",
   "execution_count": null,
   "id": "847bd7b3-b2a6-41f1-88e2-199fabf93612",
   "metadata": {},
   "outputs": [],
   "source": []
  },
  {
   "cell_type": "code",
   "execution_count": 76,
   "id": "6bb8c636-d055-401c-b223-1d7434626bed",
   "metadata": {},
   "outputs": [],
   "source": [
    "def remap_keys(img, targets):\n",
    "    return img, {\n",
    "        \"classification\": targets[\"label\"],\n",
    "        \"bounding_box\": targets[\"bbox\"]\n",
    "    }\n",
    "\n",
    "train_ds = train_ds.map(remap_keys)\n",
    "val_ds = val_ds.map(remap_keys)\n"
   ]
  },
  {
   "cell_type": "code",
   "execution_count": 77,
   "id": "15ecd86d-6a3d-4f99-a0cb-9ae4529d2cfb",
   "metadata": {},
   "outputs": [
    {
     "name": "stdout",
     "output_type": "stream",
     "text": [
      "Epoch 1/10\n",
      "40/40 [==============================] - 1s 11ms/step - loss: 0.7499 - classification_loss: 0.6780 - bounding_box_loss: 0.0719 - classification_accuracy: 0.6750 - bounding_box_mse: 0.0719 - val_loss: 0.5273 - val_classification_loss: 0.4287 - val_bounding_box_loss: 0.0985 - val_classification_accuracy: 0.8000 - val_bounding_box_mse: 0.0985\n",
      "Epoch 2/10\n",
      "40/40 [==============================] - 0s 7ms/step - loss: 0.2762 - classification_loss: 0.2134 - bounding_box_loss: 0.0628 - classification_accuracy: 0.9500 - bounding_box_mse: 0.0628 - val_loss: 0.1515 - val_classification_loss: 0.0797 - val_bounding_box_loss: 0.0718 - val_classification_accuracy: 1.0000 - val_bounding_box_mse: 0.0718\n",
      "Epoch 3/10\n",
      "40/40 [==============================] - 0s 7ms/step - loss: 0.1463 - classification_loss: 0.0488 - bounding_box_loss: 0.0975 - classification_accuracy: 1.0000 - bounding_box_mse: 0.0975 - val_loss: 0.1062 - val_classification_loss: 0.0561 - val_bounding_box_loss: 0.0501 - val_classification_accuracy: 1.0000 - val_bounding_box_mse: 0.0501\n",
      "Epoch 4/10\n",
      "40/40 [==============================] - 0s 7ms/step - loss: 0.1235 - classification_loss: 0.0454 - bounding_box_loss: 0.0781 - classification_accuracy: 1.0000 - bounding_box_mse: 0.0781 - val_loss: 0.0669 - val_classification_loss: 0.0232 - val_bounding_box_loss: 0.0436 - val_classification_accuracy: 1.0000 - val_bounding_box_mse: 0.0436\n",
      "Epoch 5/10\n",
      "40/40 [==============================] - 0s 7ms/step - loss: 0.0660 - classification_loss: 0.0171 - bounding_box_loss: 0.0490 - classification_accuracy: 1.0000 - bounding_box_mse: 0.0490 - val_loss: 0.0326 - val_classification_loss: 0.0165 - val_bounding_box_loss: 0.0160 - val_classification_accuracy: 1.0000 - val_bounding_box_mse: 0.0160\n",
      "Epoch 6/10\n",
      "40/40 [==============================] - 0s 7ms/step - loss: 0.0201 - classification_loss: 0.0075 - bounding_box_loss: 0.0126 - classification_accuracy: 1.0000 - bounding_box_mse: 0.0126 - val_loss: 0.0126 - val_classification_loss: 0.0062 - val_bounding_box_loss: 0.0064 - val_classification_accuracy: 1.0000 - val_bounding_box_mse: 0.0064\n",
      "Epoch 7/10\n",
      "40/40 [==============================] - 0s 7ms/step - loss: 0.0107 - classification_loss: 0.0035 - bounding_box_loss: 0.0071 - classification_accuracy: 1.0000 - bounding_box_mse: 0.0071 - val_loss: 0.0149 - val_classification_loss: 0.0039 - val_bounding_box_loss: 0.0110 - val_classification_accuracy: 1.0000 - val_bounding_box_mse: 0.0110\n",
      "Epoch 8/10\n",
      "40/40 [==============================] - 0s 7ms/step - loss: 0.0086 - classification_loss: 0.0025 - bounding_box_loss: 0.0061 - classification_accuracy: 1.0000 - bounding_box_mse: 0.0061 - val_loss: 0.0079 - val_classification_loss: 0.0026 - val_bounding_box_loss: 0.0052 - val_classification_accuracy: 1.0000 - val_bounding_box_mse: 0.0052\n",
      "Epoch 9/10\n",
      "40/40 [==============================] - 0s 7ms/step - loss: 0.0058 - classification_loss: 0.0015 - bounding_box_loss: 0.0043 - classification_accuracy: 1.0000 - bounding_box_mse: 0.0043 - val_loss: 0.0182 - val_classification_loss: 0.0019 - val_bounding_box_loss: 0.0163 - val_classification_accuracy: 1.0000 - val_bounding_box_mse: 0.0163\n",
      "Epoch 10/10\n",
      "40/40 [==============================] - 0s 7ms/step - loss: 0.0098 - classification_loss: 0.0014 - bounding_box_loss: 0.0084 - classification_accuracy: 1.0000 - bounding_box_mse: 0.0084 - val_loss: 0.0075 - val_classification_loss: 0.0023 - val_bounding_box_loss: 0.0052 - val_classification_accuracy: 1.0000 - val_bounding_box_mse: 0.0052\n"
     ]
    }
   ],
   "source": [
    "model = define_and_compile_model()\n",
    "\n",
    "history = model.fit(\n",
    "    train_ds,\n",
    "    validation_data=val_ds,\n",
    "    epochs=10\n",
    ")\n"
   ]
  },
  {
   "cell_type": "code",
   "execution_count": null,
   "id": "d630381b-38b2-4f7c-9dfe-6375fa907814",
   "metadata": {},
   "outputs": [],
   "source": []
  },
  {
   "cell_type": "code",
   "execution_count": null,
   "id": "e0ddd8f5-517e-4c52-907d-553108fc99a0",
   "metadata": {},
   "outputs": [],
   "source": []
  },
  {
   "cell_type": "code",
   "execution_count": null,
   "id": "6c12568f-ab23-420a-8aaf-18ea63fccb39",
   "metadata": {},
   "outputs": [],
   "source": []
  },
  {
   "cell_type": "code",
   "execution_count": null,
   "id": "0334aec9-3931-4352-9729-5942f5abba5d",
   "metadata": {},
   "outputs": [],
   "source": []
  },
  {
   "cell_type": "code",
   "execution_count": 39,
   "id": "be647b2b-8cd9-44de-8de3-5d90e45aac89",
   "metadata": {},
   "outputs": [],
   "source": [
    "model = define_and_compile_model()"
   ]
  },
  {
   "cell_type": "code",
   "execution_count": 40,
   "id": "c8c7c9f2-47e2-491c-9a4f-e6affd6e20e5",
   "metadata": {},
   "outputs": [
    {
     "name": "stdout",
     "output_type": "stream",
     "text": [
      "Epoch 1/5\n",
      "10/10 [==============================] - 1s 30ms/step - loss: 0.8083 - classification_loss: 0.7296 - bounding_box_loss: 0.0787 - classification_accuracy: 0.6000 - bounding_box_mse: 0.0787 - val_loss: 0.7675 - val_classification_loss: 0.6720 - val_bounding_box_loss: 0.0955 - val_classification_accuracy: 0.5000 - val_bounding_box_mse: 0.0955\n",
      "Epoch 2/5\n",
      "10/10 [==============================] - 0s 15ms/step - loss: 0.6884 - classification_loss: 0.6281 - bounding_box_loss: 0.0603 - classification_accuracy: 0.6000 - bounding_box_mse: 0.0603 - val_loss: 0.7113 - val_classification_loss: 0.6368 - val_bounding_box_loss: 0.0745 - val_classification_accuracy: 0.5000 - val_bounding_box_mse: 0.0745\n",
      "Epoch 3/5\n",
      "10/10 [==============================] - 0s 15ms/step - loss: 0.5475 - classification_loss: 0.4940 - bounding_box_loss: 0.0536 - classification_accuracy: 0.6500 - bounding_box_mse: 0.0536 - val_loss: 0.4866 - val_classification_loss: 0.4173 - val_bounding_box_loss: 0.0693 - val_classification_accuracy: 0.5000 - val_bounding_box_mse: 0.0693\n",
      "Epoch 4/5\n",
      "10/10 [==============================] - 0s 15ms/step - loss: 0.2819 - classification_loss: 0.2257 - bounding_box_loss: 0.0562 - classification_accuracy: 0.9750 - bounding_box_mse: 0.0562 - val_loss: 0.2021 - val_classification_loss: 0.1325 - val_bounding_box_loss: 0.0696 - val_classification_accuracy: 1.0000 - val_bounding_box_mse: 0.0696\n",
      "Epoch 5/5\n",
      "10/10 [==============================] - 0s 14ms/step - loss: 0.1730 - classification_loss: 0.0891 - bounding_box_loss: 0.0839 - classification_accuracy: 0.9750 - bounding_box_mse: 0.0839 - val_loss: 0.0810 - val_classification_loss: 0.0431 - val_bounding_box_loss: 0.0380 - val_classification_accuracy: 1.0000 - val_bounding_box_mse: 0.0380\n",
      "1/1 [==============================] - 0s 20ms/step - loss: 0.0884 - classification_loss: 0.0408 - bounding_box_loss: 0.0477 - classification_accuracy: 1.0000 - bounding_box_mse: 0.0477\n",
      "Validation accuracy:  1.0\n"
     ]
    }
   ],
   "source": [
    "EPOCHS = 5 # 45\n",
    "#steps_per_epoch = 60000//BATCH_SIZE  # 60,000 items in this dataset\n",
    "#validation_steps = 1\n",
    "\n",
    "training_dataset = train_ds\n",
    "validation_dataset = val_ds\n",
    "\n",
    "\n",
    "history = model.fit(training_dataset,\n",
    "                    validation_data=validation_dataset, epochs=EPOCHS)\n",
    "\n",
    "loss, classification_loss, bounding_box_loss, classification_accuracy, bounding_box_mse = model.evaluate(validation_dataset, steps=1)\n",
    "print(\"Validation accuracy: \", classification_accuracy)"
   ]
  },
  {
   "cell_type": "code",
   "execution_count": null,
   "id": "6ac5b1ec-2482-40e7-abb0-aa014370a3ab",
   "metadata": {},
   "outputs": [],
   "source": []
  },
  {
   "cell_type": "code",
   "execution_count": null,
   "id": "ded627fe-6b61-4256-a4a7-d406b2d60b19",
   "metadata": {},
   "outputs": [],
   "source": []
  },
  {
   "cell_type": "code",
   "execution_count": null,
   "id": "4a5644fc-adec-4083-94d3-259c3a270f9e",
   "metadata": {},
   "outputs": [],
   "source": []
  },
  {
   "cell_type": "code",
   "execution_count": null,
   "id": "e1df5ba4-323d-400c-85b5-53952d6b0440",
   "metadata": {},
   "outputs": [],
   "source": []
  },
  {
   "cell_type": "code",
   "execution_count": 41,
   "id": "630bf20b-b679-49cd-a7ef-15bd1bb076e4",
   "metadata": {},
   "outputs": [],
   "source": [
    "def intersection_over_union(pred_box, true_box):\n",
    "    xmin_pred, ymin_pred, xmax_pred, ymax_pred =  np.split(pred_box, 4, axis = 1)\n",
    "    xmin_true, ymin_true, xmax_true, ymax_true = np.split(true_box, 4, axis = 1)\n",
    "\n",
    "    smoothing_factor = 1e-10\n",
    "\n",
    "    xmin_overlap = np.maximum(xmin_pred, xmin_true)\n",
    "    xmax_overlap = np.minimum(xmax_pred, xmax_true)\n",
    "    ymin_overlap = np.maximum(ymin_pred, ymin_true)\n",
    "    ymax_overlap = np.minimum(ymax_pred, ymax_true)\n",
    "\n",
    "    pred_box_area = (xmax_pred - xmin_pred) * (ymax_pred - ymin_pred)\n",
    "    true_box_area = (xmax_true - xmin_true) * (ymax_true - ymin_true)\n",
    "\n",
    "    overlap_area = np.maximum((xmax_overlap - xmin_overlap), 0)  * np.maximum((ymax_overlap - ymin_overlap), 0)\n",
    "    union_area = (pred_box_area + true_box_area) - overlap_area\n",
    "\n",
    "    iou = (overlap_area + smoothing_factor) / (union_area + smoothing_factor)\n",
    "\n",
    "    return iou"
   ]
  },
  {
   "cell_type": "code",
   "execution_count": null,
   "id": "14630b4c-f54b-4ac1-ba79-5d320bfefb5a",
   "metadata": {},
   "outputs": [],
   "source": []
  },
  {
   "cell_type": "code",
   "execution_count": 78,
   "id": "9fb3f4f8-9c37-42b0-838b-d54a3a68881d",
   "metadata": {},
   "outputs": [
    {
     "data": {
      "text/plain": [
       "{'classification': <tf.Tensor: shape=(1,), dtype=int32, numpy=array([1], dtype=int32)>,\n",
       " 'bounding_box': <tf.Tensor: shape=(1, 4), dtype=float32, numpy=array([[0.484375, 0.578125, 0.796875, 0.890625]], dtype=float32)>}"
      ]
     },
     "execution_count": 78,
     "metadata": {},
     "output_type": "execute_result"
    }
   ],
   "source": [
    "image_batch, label_batch = next(iter(val_ds))\n",
    "\n",
    "label_batch['bounding_box']\n",
    "\n",
    "label_batch"
   ]
  },
  {
   "cell_type": "code",
   "execution_count": 79,
   "id": "19a465ea-6dd5-4305-87e3-72194f84c552",
   "metadata": {},
   "outputs": [
    {
     "data": {
      "text/plain": [
       "<tf.Tensor: shape=(64, 64, 3), dtype=float32, numpy=\n",
       "array([[[1., 1., 1.],\n",
       "        [1., 1., 1.],\n",
       "        [1., 1., 1.],\n",
       "        ...,\n",
       "        [1., 1., 1.],\n",
       "        [1., 1., 1.],\n",
       "        [1., 1., 1.]],\n",
       "\n",
       "       [[1., 1., 1.],\n",
       "        [1., 1., 1.],\n",
       "        [1., 1., 1.],\n",
       "        ...,\n",
       "        [1., 1., 1.],\n",
       "        [1., 1., 1.],\n",
       "        [1., 1., 1.]],\n",
       "\n",
       "       [[1., 1., 1.],\n",
       "        [1., 1., 1.],\n",
       "        [1., 1., 1.],\n",
       "        ...,\n",
       "        [1., 1., 1.],\n",
       "        [1., 1., 1.],\n",
       "        [1., 1., 1.]],\n",
       "\n",
       "       ...,\n",
       "\n",
       "       [[1., 1., 1.],\n",
       "        [1., 1., 1.],\n",
       "        [1., 1., 1.],\n",
       "        ...,\n",
       "        [1., 1., 1.],\n",
       "        [1., 1., 1.],\n",
       "        [1., 1., 1.]],\n",
       "\n",
       "       [[1., 1., 1.],\n",
       "        [1., 1., 1.],\n",
       "        [1., 1., 1.],\n",
       "        ...,\n",
       "        [1., 1., 1.],\n",
       "        [1., 1., 1.],\n",
       "        [1., 1., 1.]],\n",
       "\n",
       "       [[1., 1., 1.],\n",
       "        [1., 1., 1.],\n",
       "        [1., 1., 1.],\n",
       "        ...,\n",
       "        [1., 1., 1.],\n",
       "        [1., 1., 1.],\n",
       "        [1., 1., 1.]]], dtype=float32)>"
      ]
     },
     "execution_count": 79,
     "metadata": {},
     "output_type": "execute_result"
    }
   ],
   "source": [
    "image"
   ]
  },
  {
   "cell_type": "code",
   "execution_count": 81,
   "id": "e88fb050-9d9e-4544-b87d-fa0067af82fb",
   "metadata": {},
   "outputs": [
    {
     "name": "stdout",
     "output_type": "stream",
     "text": [
      "1/1 [==============================] - 0s 16ms/step\n",
      "[1] [[0.05348994 0.54890233 0.44089186 0.84774405]]\n",
      "label {'classification': <tf.Tensor: shape=(1,), dtype=int32, numpy=array([1], dtype=int32)>, 'bounding_box': <tf.Tensor: shape=(1, 4), dtype=float32, numpy=array([[0.125   , 0.515625, 0.4375  , 0.828125]], dtype=float32)>}\n",
      "[0.05348994 0.54890233 0.44089186 0.84774405]\n"
     ]
    },
    {
     "data": {
      "image/png": "[encoded data removed]",
      "text/plain": [
       "<Figure size 640x480 with 1 Axes>"
      ]
     },
     "metadata": {},
     "output_type": "display_data"
    }
   ],
   "source": [
    "# Get one batch from the val_ds\n",
    "image_batch, label_batch = next(iter(val_ds))\n",
    "\n",
    "# Get the first image from the batch (assuming the batch size is > 1)\n",
    "image = image_batch[0]\n",
    "label = label_batch #[0]\n",
    "\n",
    "# Make a prediction using the model\n",
    "predictions = model.predict(tf.expand_dims(image, axis=0))  # Add batch dimension\n",
    "\n",
    "# Assuming the predictions are in two parts (classification and bounding box)\n",
    "predicted_class = np.argmax(predictions[0], axis=1)  # Classification prediction\n",
    "predicted_bbox = predictions[1]  # Bounding box prediction\n",
    "\n",
    "\n",
    "print(predicted_class, predicted_bbox)\n",
    "\n",
    "print('label',label)\n",
    "\n",
    "\n",
    "# Display the image with the predicted bounding box\n",
    "def plot_image_with_bbox(image, predicted_class, predicted_bbox):\n",
    "    plt.imshow(image)\n",
    "    xmin, ymin, xmax, ymax = predicted_bbox[0]\n",
    "    \n",
    "    \n",
    "    print(predicted_bbox[0])\n",
    "    \n",
    "    plt.gca().add_patch(plt.Rectangle((xmin, ymin), xmax - xmin, ymax - ymin, \n",
    "                                      edgecolor='violet', facecolor='none', lw=2))\n",
    "    plt.title(f\"Predicted Class: {'Circle' if predicted_class == 1 else 'Square'}\")\n",
    "    plt.axis('off')\n",
    "    plt.show()\n",
    "    \n",
    "\n",
    "# Plot the image and bounding box\n",
    "plot_image_with_bbox(image, predicted_class, predicted_bbox)"
   ]
  },
  {
   "cell_type": "code",
   "execution_count": null,
   "id": "1c8782c2-d336-4a26-9714-4eaa67d68a40",
   "metadata": {},
   "outputs": [],
   "source": []
  },
  {
   "cell_type": "code",
   "execution_count": 82,
   "id": "de6fbc4d-80d2-4c61-ac3c-cf8c58ddb855",
   "metadata": {},
   "outputs": [
    {
     "name": "stdout",
     "output_type": "stream",
     "text": [
      "1/1 [==============================] - 0s 17ms/step\n",
      "Predicted class: [1]\n",
      "Predicted bbox: [[0.46252578 0.5886995  0.85547346 0.90397805]]\n",
      "Label: {'classification': <tf.Tensor: shape=(1,), dtype=int32, numpy=array([1], dtype=int32)>, 'bounding_box': <tf.Tensor: shape=(1, 4), dtype=float32, numpy=array([[0.484375, 0.578125, 0.796875, 0.890625]], dtype=float32)>}\n",
      "Scaled Bounding Box: [29.60165023803711, 37.6767692565918, 54.750301361083984, 57.85459518432617]\n"
     ]
    },
    {
     "data": {
      "image/png": "[encoded data removed]",
      "text/plain": [
       "<Figure size 640x480 with 1 Axes>"
      ]
     },
     "metadata": {},
     "output_type": "display_data"
    }
   ],
   "source": [
    "import matplotlib.pyplot as plt\n",
    "import numpy as np\n",
    "\n",
    "# Get one batch from the val_ds\n",
    "image_batch, label_batch = next(iter(val_ds))\n",
    "\n",
    "# Get the first image from the batch (assuming the batch size is > 1)\n",
    "image = image_batch[0]\n",
    "label = label_batch #[0]\n",
    "\n",
    "# Make a prediction using the model\n",
    "predictions = model.predict(tf.expand_dims(image, axis=0))  # Add batch dimension\n",
    "\n",
    "# Assuming the predictions are in two parts (classification and bounding box)\n",
    "predicted_class = np.argmax(predictions[0], axis=1)  # Classification prediction\n",
    "predicted_bbox = predictions[1]  # Bounding box prediction\n",
    "\n",
    "print(\"Predicted class:\", predicted_class)\n",
    "print(\"Predicted bbox:\", predicted_bbox)\n",
    "\n",
    "print(\"Label:\", label)\n",
    "\n",
    "# Display the image with the predicted bounding box\n",
    "def plot_image_with_bbox(image, predicted_class, predicted_bbox):\n",
    "    plt.imshow(image)\n",
    "    \n",
    "    # Assuming the bounding box is in normalized coordinates (0-1), scale to image size\n",
    "    xmin, ymin, xmax, ymax = predicted_bbox[0]  # Get the first bounding box\n",
    "    \n",
    "    # Scale the coordinates to the image size (64x64)\n",
    "    xmin, ymin, xmax, ymax = xmin * 64, ymin * 64, xmax * 64, ymax * 64\n",
    "    \n",
    "    print(\"Scaled Bounding Box:\", [xmin, ymin, xmax, ymax])\n",
    "    \n",
    "    # Plot the bounding box on the image\n",
    "    plt.gca().add_patch(plt.Rectangle((xmin, ymin), xmax - xmin, ymax - ymin, \n",
    "                                      edgecolor='violet', facecolor='none', lw=2))\n",
    "    plt.title(f\"Predicted Class: {'Circle' if predicted_class == 1 else 'Square'}\")\n",
    "    plt.axis('off')\n",
    "    plt.show()\n",
    "    \n",
    "\n",
    "# Plot the image and bounding box\n",
    "plot_image_with_bbox(image, predicted_class, predicted_bbox)\n"
   ]
  },
  {
   "cell_type": "code",
   "execution_count": null,
   "id": "7698831b-69bc-4a67-a2f5-655cdb4f7522",
   "metadata": {},
   "outputs": [],
   "source": []
  },
  {
   "cell_type": "code",
   "execution_count": null,
   "id": "af30137d",
   "metadata": {},
   "outputs": [],
   "source": []
  },
  {
   "cell_type": "code",
   "execution_count": null,
   "id": "f04036ab",
   "metadata": {},
   "outputs": [],
   "source": []
  },
  {
   "cell_type": "code",
   "execution_count": null,
   "id": "c0eda4f0",
   "metadata": {},
   "outputs": [],
   "source": []
  },
  {
   "cell_type": "code",
   "execution_count": null,
   "id": "490aab84",
   "metadata": {},
   "outputs": [],
   "source": []
  },
  {
   "cell_type": "code",
   "execution_count": 87,
   "id": "07ed986f-3d00-4d23-b0f7-308839af120b",
   "metadata": {},
   "outputs": [
    {
     "data": {
      "text/plain": [
       "<tf.Tensor: shape=(1, 4), dtype=float32, numpy=array([[0.484375, 0.578125, 0.796875, 0.890625]], dtype=float32)>"
      ]
     },
     "execution_count": 87,
     "metadata": {},
     "output_type": "execute_result"
    }
   ],
   "source": [
    "label['bounding_box']"
   ]
  },
  {
   "cell_type": "code",
   "execution_count": 93,
   "id": "f823ffc4",
   "metadata": {},
   "outputs": [
    {
     "data": {
      "text/plain": [
       "<tf.Tensor: shape=(4,), dtype=float32, numpy=array([0.484375, 0.578125, 0.796875, 0.890625], dtype=float32)>"
      ]
     },
     "execution_count": 93,
     "metadata": {},
     "output_type": "execute_result"
    }
   ],
   "source": [
    "label['bounding_box'][0]"
   ]
  },
  {
   "cell_type": "code",
   "execution_count": 88,
   "id": "24f95654-a289-448a-9dcf-e34fa83a5456",
   "metadata": {},
   "outputs": [
    {
     "data": {
      "text/plain": [
       "array([0.46252578, 0.5886995 , 0.85547346, 0.90397805], dtype=float32)"
      ]
     },
     "execution_count": 88,
     "metadata": {},
     "output_type": "execute_result"
    }
   ],
   "source": [
    "predicted_bbox[0]"
   ]
  },
  {
   "cell_type": "code",
   "execution_count": null,
   "id": "aca69cc7-b28f-4fe6-a873-2625e9e3bd09",
   "metadata": {},
   "outputs": [],
   "source": []
  },
  {
   "cell_type": "code",
   "execution_count": null,
   "id": "84b3b3a6",
   "metadata": {},
   "outputs": [],
   "source": []
  },
  {
   "cell_type": "code",
   "execution_count": null,
   "id": "dd7ca546",
   "metadata": {},
   "outputs": [],
   "source": []
  },
  {
   "cell_type": "code",
   "execution_count": 97,
   "id": "11f530c0",
   "metadata": {},
   "outputs": [],
   "source": [
    "def intersection_over_union(pred_box, true_box):\n",
    "    #xmin_pred, ymin_pred, xmax_pred, ymax_pred =  np.split(pred_box, 4, axis = 1)\n",
    "    #xmin_true, ymin_true, xmax_true, ymax_true = np.split(true_box, 4, axis = 1)\n",
    "    xmin_pred, ymin_pred, xmax_pred, ymax_pred = pred_box\n",
    "    xmin_true, ymin_true, xmax_true, ymax_true = true_box\n",
    "    \n",
    "\n",
    "    smoothing_factor = 1e-10\n",
    "\n",
    "    xmin_overlap = np.maximum(xmin_pred, xmin_true)\n",
    "    xmax_overlap = np.minimum(xmax_pred, xmax_true)\n",
    "    ymin_overlap = np.maximum(ymin_pred, ymin_true)\n",
    "    ymax_overlap = np.minimum(ymax_pred, ymax_true)\n",
    "\n",
    "    pred_box_area = (xmax_pred - xmin_pred) * (ymax_pred - ymin_pred)\n",
    "    true_box_area = (xmax_true - xmin_true) * (ymax_true - ymin_true)\n",
    "\n",
    "    overlap_area = np.maximum((xmax_overlap - xmin_overlap), 0)  * np.maximum((ymax_overlap - ymin_overlap), 0)\n",
    "    union_area = (pred_box_area + true_box_area) - overlap_area\n",
    "\n",
    "    iou = (overlap_area + smoothing_factor) / (union_area + smoothing_factor)\n",
    "\n",
    "    return iou"
   ]
  },
  {
   "cell_type": "code",
   "execution_count": null,
   "id": "03d2c559",
   "metadata": {},
   "outputs": [],
   "source": []
  },
  {
   "cell_type": "code",
   "execution_count": 99,
   "id": "20df11b9-2c0b-416f-bbf3-023ce8f6c500",
   "metadata": {},
   "outputs": [
    {
     "data": {
      "text/plain": [
       "<tf.Tensor: shape=(), dtype=float32, numpy=0.7418025>"
      ]
     },
     "execution_count": 99,
     "metadata": {},
     "output_type": "execute_result"
    }
   ],
   "source": [
    "intersection_over_union(predicted_bbox[0], label['bounding_box'][0])"
   ]
  },
  {
   "cell_type": "code",
   "execution_count": null,
   "id": "475b5f86-354d-49aa-b7f7-e9433ccfce85",
   "metadata": {},
   "outputs": [],
   "source": [
    "#https://www.kodeco.com/books/machine-learning-by-tutorials/v2.0/chapters/9-beyond-classification"
   ]
  },
  {
   "cell_type": "code",
   "execution_count": null,
   "id": "3b6f6c93-672c-4c5e-80e4-22c590980c32",
   "metadata": {},
   "outputs": [],
   "source": []
  },
  {
   "cell_type": "code",
   "execution_count": null,
   "id": "fec7dbe8-ce00-4d84-9a42-47337aa0dfa0",
   "metadata": {},
   "outputs": [],
   "source": []
  },
  {
   "cell_type": "code",
   "execution_count": null,
   "id": "e9539008-0930-4aba-973e-3bd5a6b6b948",
   "metadata": {},
   "outputs": [],
   "source": []
  },
  {
   "cell_type": "code",
   "execution_count": null,
   "id": "fc78de70-468a-41d7-beb9-ad9720f9627b",
   "metadata": {},
   "outputs": [],
   "source": []
  }
 ],
 "metadata": {
  "kernelspec": {
   "display_name": "Python 3 (ipykernel)",
   "language": "python",
   "name": "python3"
  },
  "language_info": {
   "codemirror_mode": {
    "name": "ipython",
    "version": 3
   },
   "file_extension": ".py",
   "mimetype": "text/x-python",
   "name": "python",
   "nbconvert_exporter": "python",
   "pygments_lexer": "ipython3",
   "version": "3.10.12"
  }
 },
 "nbformat": 4,
 "nbformat_minor": 5
}
