{
 "cells": [
  {
   "cell_type": "markdown",
   "id": "0c62ea15-803e-42c7-b705-536f08bbdc95",
   "metadata": {},
   "source": [
    "# <b> <center> <font color='#7B241C'> SIMPLE OBJECT LOCALIZATION</font> </center> </b>"
   ]
  },
  {
   "cell_type": "markdown",
   "id": "f16bf5f5-6832-4e7d-954c-a927afb085a9",
   "metadata": {},
   "source": [
    "## <font color='blue'> Table of Contents </font>\n",
    "\n",
    "1. [Introduction](#1)\n",
    "2. [Setup](#2)\n",
    "3. [Helper Functions](#3)\n",
    "4. [Data](#4) <br>\n",
    "    4.1. [Generating synthetic data and exploring the dataset](#4.1) <br>\n",
    "    4.2. [Image Pre-processing](#4.2) <br>\n",
    "    4.3. [Annotation Pre-processing](#4.3) <br>\n",
    "    4.4. [Load an example](#4.4) <br>\n",
    "    4.5. [Train/Test Split](#4.5) <br>\n",
    "    4.6. [Creating TF Datasets](#4.6) <br>\n",
    "6. [Build, train and compile a model](#5)\n",
    "7. [Evaluation](#6)\n",
    "8. [Making predictions](#6)\n",
    "9. [References](#references)"
   ]
  },
  {
   "cell_type": "markdown",
   "id": "f0e8474c-7e4a-4b64-8292-3a34d8c4cef3",
   "metadata": {},
   "source": [
    "<a name=\"1\"></a>\n",
    "## <b> <font color='red'> 1. Introduction </font> </b>\n",
    "\n",
    "In this notebook, we explore how to tackle an object localization problem using synthetic data. Object localization involves not only identifying the presence of an object in an image but also predicting its position, typically in the form of bounding box coordinates.\n",
    "\n",
    "Working with real-world datasets can be costly and time-consuming due to the need for manual annotations. To overcome this, we'll generate synthetic data with automatic labels, enabling rapid experimentation and model prototyping.\n",
    "\n",
    "This notebook will guide you through:\n",
    "\n",
    "- Generating a simple synthetic dataset with known object positions,\n",
    "\n",
    "- Building and training a convolutional neural network (CNN) to predict bounding boxes,\n",
    "\n",
    "- Evaluating model performance and visualizing results.\n",
    "\n",
    "By the end, you'll understand the end-to-end pipeline for object localization and appreciate the power of synthetic data in computer vision tasks."
   ]
  },
  {
   "cell_type": "markdown",
   "id": "21b65c09-6f8f-4256-a048-bf12daaf31d8",
   "metadata": {},
   "source": [
    "<a name=\"2\"></a>\n",
    "## <b> <font color='red'> 2. Setup </font> </b>"
   ]
  },
  {
   "cell_type": "code",
   "execution_count": 137,
   "id": "c348de44-4d84-4106-8ec2-d37e2a1e1dbb",
   "metadata": {},
   "outputs": [],
   "source": [
    "import random\n",
    "from PIL import Image, ImageDraw\n",
    "import xml.etree.ElementTree as ET\n",
    "import matplotlib.pyplot as plt\n",
    "import os\n",
    "import tensorflow as tf\n",
    "import matplotlib.image as mpimg"
   ]
  },
  {
   "cell_type": "code",
   "execution_count": 138,
   "id": "8fbb69b5-4f5c-43ef-a424-f725f607424c",
   "metadata": {},
   "outputs": [],
   "source": [
    "tf.random.set_seed(42)"
   ]
  },
  {
   "cell_type": "code",
   "execution_count": 191,
   "id": "6d198a88-861f-451c-91a4-969f7b91aa02",
   "metadata": {},
   "outputs": [
    {
     "name": "stdout",
     "output_type": "stream",
     "text": [
      "4 64 64 64\n"
     ]
    }
   ],
   "source": [
    "from dataclasses import dataclass\n",
    "\n",
    "@dataclass\n",
    "class DatasetConfig:\n",
    "    batch_size: int\n",
    "    height: int\n",
    "    width: int\n",
    "    img_size:int\n",
    "\n",
    "config = DatasetConfig(batch_size=4, height=64, width=64, img_size=64)\n",
    "print(config.batch_size, config.height, config.width, config.img_size)\n"
   ]
  },
  {
   "cell_type": "markdown",
   "id": "102384d7-8280-4a95-833b-501d2a5be7ec",
   "metadata": {},
   "source": [
    "<a name=\"3\"></a>\n",
    "## <b> <font color='red'> 3. Helper Functions </font> </b>\n"
   ]
  },
  {
   "cell_type": "code",
   "execution_count": 192,
   "id": "73da3241-ed57-4f31-af53-50ed036c3b64",
   "metadata": {},
   "outputs": [],
   "source": [
    "# To create the synthetic dataset\n",
    "\n",
    "# Function to create bounding box XML\n",
    "def create_voc_xml(filename, width, height, bbox, shape_name, folder=\"images\"):\n",
    "    annotation = ET.Element(\"annotation\")\n",
    "    ET.SubElement(annotation, \"folder\").text = folder\n",
    "    ET.SubElement(annotation, \"filename\").text = filename\n",
    "    ET.SubElement(annotation, \"path\").text = os.path.join(folder, filename)\n",
    "\n",
    "    size = ET.SubElement(annotation, \"size\")\n",
    "    ET.SubElement(size, \"width\").text = str(width)\n",
    "    ET.SubElement(size, \"height\").text = str(height)\n",
    "    ET.SubElement(size, \"depth\").text = \"3\"\n",
    "\n",
    "    ET.SubElement(annotation, \"segmented\").text = \"0\"\n",
    "\n",
    "    obj = ET.SubElement(annotation, \"object\")\n",
    "    ET.SubElement(obj, \"name\").text = shape_name\n",
    "    ET.SubElement(obj, \"pose\").text = \"Unspecified\"\n",
    "    ET.SubElement(obj, \"truncated\").text = \"0\"\n",
    "    ET.SubElement(obj, \"difficult\").text = \"0\"\n",
    "\n",
    "    bndbox = ET.SubElement(obj, \"bndbox\")\n",
    "    ET.SubElement(bndbox, \"xmin\").text = str(bbox[0])\n",
    "    ET.SubElement(bndbox, \"ymin\").text = str(bbox[1])\n",
    "    ET.SubElement(bndbox, \"xmax\").text = str(bbox[2])\n",
    "    ET.SubElement(bndbox, \"ymax\").text = str(bbox[3])\n",
    "\n",
    "    return ET.ElementTree(annotation)\n",
    "\n",
    "# Function to draw shapes (circle or square) and return the bounding box\n",
    "def draw_shape(img_size, shape_type=\"square\"):\n",
    "    shape_size = 10\n",
    "    img = Image.new(\"RGB\", (img_size, img_size), (255, 255, 255))\n",
    "    draw = ImageDraw.Draw(img)\n",
    "\n",
    "    x, y = random.randint(shape_size, img_size - shape_size), random.randint(shape_size, img_size - shape_size)\n",
    "    xmin, ymin = x - shape_size, y - shape_size\n",
    "    xmax, ymax = x + shape_size, y + shape_size\n",
    "\n",
    "    if shape_type == \"square\":\n",
    "        draw.rectangle([xmin, ymin, xmax, ymax], fill=(255, 0, 0))\n",
    "    elif shape_type == \"circle\":\n",
    "        draw.ellipse([xmin, ymin, xmax, ymax], fill=(0, 0, 255))\n",
    "\n",
    "    return img, (xmin, ymin, xmax, ymax), shape_type\n",
    "\n",
    "\n",
    "# plot an image\n",
    "def plot_image(image_path, ):\n",
    "    img = mpimg.imread(image_path)\n",
    "    plt.figure(figsize=(3, 3))\n",
    "    plt.imshow(img)\n",
    "    plt.axis('off')  # Hide axis\n",
    "    plt.title(\"Sample Image\")\n",
    "    plt.show()\n"
   ]
  },
  {
   "cell_type": "code",
   "execution_count": 193,
   "id": "908b687a-0c9b-47c7-b4c7-ab8cd836be26",
   "metadata": {},
   "outputs": [],
   "source": [
    "# Function to draw bounding box on an image for display\n",
    "def draw_bbox(image_path, xml_path):\n",
    "    img = Image.open(image_path).convert(\"RGB\")\n",
    "    tree = ET.parse(xml_path)\n",
    "    root = tree.getroot()\n",
    "    bndbox = root.find(\".//bndbox\")\n",
    "    box = [int(bndbox.find(tag).text) for tag in [\"xmin\", \"ymin\", \"xmax\", \"ymax\"]]\n",
    "    \n",
    "    draw = ImageDraw.Draw(img)\n",
    "    draw.rectangle(box, outline=\"green\", width=2)\n",
    "    return img\n",
    "\n",
    "# Display a few images with bounding boxes\n",
    "def plot_images_annotations(img_dir, ann_dir):\n",
    "    plt.figure(figsize=(10, 2))\n",
    "    for i, fname in enumerate(sorted(os.listdir(img_dir))[:5]):\n",
    "        img_path = os.path.join(img_dir, fname)\n",
    "        xml_path = os.path.join(ann_dir, fname.replace(\".png\", \".xml\"))\n",
    "        img_with_bbox = draw_bbox(img_path, xml_path)\n",
    "        plt.subplot(1, 5, i+1)\n",
    "        plt.imshow(img_with_bbox)\n",
    "        plt.axis(\"off\")\n",
    "    plt.tight_layout()\n",
    "    plt.show()\n",
    "\n",
    "\n",
    "# Display the image with the predicted bounding box\n",
    "def plot_image_with_bbox(image, predicted_class, predicted_bbox):\n",
    "    plt.imshow(image)\n",
    "    \n",
    "    # Assuming the bounding box is in normalized coordinates (0-1), scale to image size\n",
    "    xmin, ymin, xmax, ymax = predicted_bbox[0]  # Get the first bounding box\n",
    "    \n",
    "    # Scale the coordinates to the image size (64x64)\n",
    "    xmin, ymin, xmax, ymax = xmin * 64, ymin * 64, xmax * 64, ymax * 64\n",
    "    \n",
    "    print(\"Scaled Bounding Box:\", [xmin, ymin, xmax, ymax])\n",
    "    \n",
    "    # Plot the bounding box on the image\n",
    "    plt.gca().add_patch(plt.Rectangle((xmin, ymin), xmax - xmin, ymax - ymin, \n",
    "                                      edgecolor='violet', facecolor='none', lw=2))\n",
    "    plt.title(f\"Predicted Class: {'Circle' if predicted_class == 1 else 'Square'}\")\n",
    "    plt.axis('off')\n",
    "    plt.show()\n",
    "    "
   ]
  },
  {
   "cell_type": "markdown",
   "id": "d2f55ba6-6d54-41a2-ad85-86368e494405",
   "metadata": {},
   "source": [
    "<a name=\"4\"></a>\n",
    "## <b> <font color='red'> 4. Data </font> </b>\n",
    "\n",
    "<a name=\"4.1\"></a>\n",
    "### <b> <font color='orange'> 4.1. Generating Syntethic Data and Exploring the Dataset</font> </b>"
   ]
  },
  {
   "cell_type": "code",
   "execution_count": 194,
   "id": "bc875f69-0b3a-4a44-9e0c-5bea4b31b188",
   "metadata": {},
   "outputs": [],
   "source": [
    "# Directories\n",
    "img_dir = \"shape_dataset/images\"\n",
    "ann_dir = \"shape_dataset/annotations\"\n",
    "os.makedirs(img_dir, exist_ok=True)\n",
    "os.makedirs(ann_dir, exist_ok=True)\n",
    "\n",
    "# Image and shape parameters\n",
    "img_size = config.img_size\n",
    "shape_size = 10\n",
    "num_images = 200  # Number of images to generate\n",
    "\n",
    "# Generate images and annotations\n",
    "for i in range(num_images):\n",
    "    shape_type = random.choice([\"square\", \"circle\"])\n",
    "    img, bbox, shape_name = draw_shape(img_size, shape_type)\n",
    "    img_filename = f\"{i:04d}.png\"\n",
    "    img.save(os.path.join(img_dir, img_filename))\n",
    "\n",
    "    xml_filename = f\"{i:04d}.xml\"\n",
    "    tree = create_voc_xml(img_filename, img_size, img_size, bbox, shape_name)\n",
    "    tree.write(os.path.join(ann_dir, xml_filename))\n"
   ]
  },
  {
   "cell_type": "markdown",
   "id": "42cb315d-d2e4-4a4a-b6f6-24343b9a63d2",
   "metadata": {},
   "source": [
    "**Note**. The previous code generates only one object per image."
   ]
  },
  {
   "cell_type": "code",
   "execution_count": 195,
   "id": "1bbc1dc0-24ff-4558-81fe-e35a892241e0",
   "metadata": {},
   "outputs": [
    {
     "data": {
      "image/png": "[encoded data removed]",
      "text/plain": [
       "<Figure size 1000x200 with 5 Axes>"
      ]
     },
     "metadata": {},
     "output_type": "display_data"
    }
   ],
   "source": [
    "plot_images_annotations(img_dir, ann_dir)"
   ]
  },
  {
   "cell_type": "code",
   "execution_count": 196,
   "id": "74a13630-14a7-40f6-aadd-519b7d90d74c",
   "metadata": {},
   "outputs": [
    {
     "name": "stdout",
     "output_type": "stream",
     "text": [
      "0000.png  0025.png  0050.png  0075.png\t0100.png  0125.png  0150.png  0175.png\n",
      "0001.png  0026.png  0051.png  0076.png\t0101.png  0126.png  0151.png  0176.png\n",
      "0002.png  0027.png  0052.png  0077.png\t0102.png  0127.png  0152.png  0177.png\n",
      "0003.png  0028.png  0053.png  0078.png\t0103.png  0128.png  0153.png  0178.png\n",
      "0004.png  0029.png  0054.png  0079.png\t0104.png  0129.png  0154.png  0179.png\n",
      "0005.png  0030.png  0055.png  0080.png\t0105.png  0130.png  0155.png  0180.png\n",
      "0006.png  0031.png  0056.png  0081.png\t0106.png  0131.png  0156.png  0181.png\n",
      "0007.png  0032.png  0057.png  0082.png\t0107.png  0132.png  0157.png  0182.png\n",
      "0008.png  0033.png  0058.png  0083.png\t0108.png  0133.png  0158.png  0183.png\n",
      "0009.png  0034.png  0059.png  0084.png\t0109.png  0134.png  0159.png  0184.png\n",
      "0010.png  0035.png  0060.png  0085.png\t0110.png  0135.png  0160.png  0185.png\n",
      "0011.png  0036.png  0061.png  0086.png\t0111.png  0136.png  0161.png  0186.png\n",
      "0012.png  0037.png  0062.png  0087.png\t0112.png  0137.png  0162.png  0187.png\n",
      "0013.png  0038.png  0063.png  0088.png\t0113.png  0138.png  0163.png  0188.png\n",
      "0014.png  0039.png  0064.png  0089.png\t0114.png  0139.png  0164.png  0189.png\n",
      "0015.png  0040.png  0065.png  0090.png\t0115.png  0140.png  0165.png  0190.png\n",
      "0016.png  0041.png  0066.png  0091.png\t0116.png  0141.png  0166.png  0191.png\n",
      "0017.png  0042.png  0067.png  0092.png\t0117.png  0142.png  0167.png  0192.png\n",
      "0018.png  0043.png  0068.png  0093.png\t0118.png  0143.png  0168.png  0193.png\n",
      "0019.png  0044.png  0069.png  0094.png\t0119.png  0144.png  0169.png  0194.png\n",
      "0020.png  0045.png  0070.png  0095.png\t0120.png  0145.png  0170.png  0195.png\n",
      "0021.png  0046.png  0071.png  0096.png\t0121.png  0146.png  0171.png  0196.png\n",
      "0022.png  0047.png  0072.png  0097.png\t0122.png  0147.png  0172.png  0197.png\n",
      "0023.png  0048.png  0073.png  0098.png\t0123.png  0148.png  0173.png  0198.png\n",
      "0024.png  0049.png  0074.png  0099.png\t0124.png  0149.png  0174.png  0199.png\n"
     ]
    }
   ],
   "source": [
    "!ls shape_dataset/images"
   ]
  },
  {
   "cell_type": "code",
   "execution_count": 197,
   "id": "b9950480-081c-4038-81ba-b6f68b2c79d0",
   "metadata": {},
   "outputs": [
    {
     "data": {
      "image/png": "[encoded data removed]",
      "text/plain": [
       "<Figure size 300x300 with 1 Axes>"
      ]
     },
     "metadata": {},
     "output_type": "display_data"
    }
   ],
   "source": [
    "# plot an image\n",
    "image_path = img_dir + \"/0000.png\"\n",
    "\n",
    "plot_image(image_path)\n",
    "\n",
    "\n"
   ]
  },
  {
   "cell_type": "code",
   "execution_count": 198,
   "id": "ae51b6de-579f-4d6e-8ded-8806cb5e9aae",
   "metadata": {},
   "outputs": [
    {
     "name": "stdout",
     "output_type": "stream",
     "text": [
      "0000.xml  0025.xml  0050.xml  0075.xml\t0100.xml  0125.xml  0150.xml  0175.xml\n",
      "0001.xml  0026.xml  0051.xml  0076.xml\t0101.xml  0126.xml  0151.xml  0176.xml\n",
      "0002.xml  0027.xml  0052.xml  0077.xml\t0102.xml  0127.xml  0152.xml  0177.xml\n",
      "0003.xml  0028.xml  0053.xml  0078.xml\t0103.xml  0128.xml  0153.xml  0178.xml\n",
      "0004.xml  0029.xml  0054.xml  0079.xml\t0104.xml  0129.xml  0154.xml  0179.xml\n",
      "0005.xml  0030.xml  0055.xml  0080.xml\t0105.xml  0130.xml  0155.xml  0180.xml\n",
      "0006.xml  0031.xml  0056.xml  0081.xml\t0106.xml  0131.xml  0156.xml  0181.xml\n",
      "0007.xml  0032.xml  0057.xml  0082.xml\t0107.xml  0132.xml  0157.xml  0182.xml\n",
      "0008.xml  0033.xml  0058.xml  0083.xml\t0108.xml  0133.xml  0158.xml  0183.xml\n",
      "0009.xml  0034.xml  0059.xml  0084.xml\t0109.xml  0134.xml  0159.xml  0184.xml\n",
      "0010.xml  0035.xml  0060.xml  0085.xml\t0110.xml  0135.xml  0160.xml  0185.xml\n",
      "0011.xml  0036.xml  0061.xml  0086.xml\t0111.xml  0136.xml  0161.xml  0186.xml\n",
      "0012.xml  0037.xml  0062.xml  0087.xml\t0112.xml  0137.xml  0162.xml  0187.xml\n",
      "0013.xml  0038.xml  0063.xml  0088.xml\t0113.xml  0138.xml  0163.xml  0188.xml\n",
      "0014.xml  0039.xml  0064.xml  0089.xml\t0114.xml  0139.xml  0164.xml  0189.xml\n",
      "0015.xml  0040.xml  0065.xml  0090.xml\t0115.xml  0140.xml  0165.xml  0190.xml\n",
      "0016.xml  0041.xml  0066.xml  0091.xml\t0116.xml  0141.xml  0166.xml  0191.xml\n",
      "0017.xml  0042.xml  0067.xml  0092.xml\t0117.xml  0142.xml  0167.xml  0192.xml\n",
      "0018.xml  0043.xml  0068.xml  0093.xml\t0118.xml  0143.xml  0168.xml  0193.xml\n",
      "0019.xml  0044.xml  0069.xml  0094.xml\t0119.xml  0144.xml  0169.xml  0194.xml\n",
      "0020.xml  0045.xml  0070.xml  0095.xml\t0120.xml  0145.xml  0170.xml  0195.xml\n",
      "0021.xml  0046.xml  0071.xml  0096.xml\t0121.xml  0146.xml  0171.xml  0196.xml\n",
      "0022.xml  0047.xml  0072.xml  0097.xml\t0122.xml  0147.xml  0172.xml  0197.xml\n",
      "0023.xml  0048.xml  0073.xml  0098.xml\t0123.xml  0148.xml  0173.xml  0198.xml\n",
      "0024.xml  0049.xml  0074.xml  0099.xml\t0124.xml  0149.xml  0174.xml  0199.xml\n"
     ]
    }
   ],
   "source": [
    "!ls shape_dataset/annotations # are xmls"
   ]
  },
  {
   "cell_type": "code",
   "execution_count": 199,
   "id": "ec7e86b8-dcfe-473e-a515-d77838273986",
   "metadata": {},
   "outputs": [],
   "source": [
    "ann_path = ann_dir + \"/0000.xml\""
   ]
  },
  {
   "cell_type": "code",
   "execution_count": 200,
   "id": "3fb0a6d2-06ab-4e49-8da5-32fbe909065f",
   "metadata": {},
   "outputs": [
    {
     "name": "stdout",
     "output_type": "stream",
     "text": [
      "<annotation><folder>images</folder><filename>0000.png</filename><path>images/0000.png</path><size><width>64</width><height>64</height><depth>3</depth></size><segmented>0</segmented><object><name>square</name><pose>Unspecified</pose><truncated>0</truncated><difficult>0</difficult><bndbox><xmin>22</xmin><ymin>42</ymin><xmax>42</xmax><ymax>62</ymax></bndbox></object></annotation>\n"
     ]
    }
   ],
   "source": [
    "with open(ann_path, 'r') as file:\n",
    "    print(file.read())\n"
   ]
  },
  {
   "cell_type": "markdown",
   "id": "cf1e4fcc-d934-4af1-9111-0965f551f975",
   "metadata": {},
   "source": [
    "Let's print the annotation in a more friendly way."
   ]
  },
  {
   "cell_type": "code",
   "execution_count": 201,
   "id": "8ef687f9-92f0-42c9-9ad0-ce9bab71077e",
   "metadata": {},
   "outputs": [
    {
     "name": "stdout",
     "output_type": "stream",
     "text": [
      "<?xml version=\"1.0\" ?>\n",
      "<annotation>\n",
      "\t<folder>images</folder>\n",
      "\t<filename>0000.png</filename>\n",
      "\t<path>images/0000.png</path>\n",
      "\t<size>\n",
      "\t\t<width>64</width>\n",
      "\t\t<height>64</height>\n",
      "\t\t<depth>3</depth>\n",
      "\t</size>\n",
      "\t<segmented>0</segmented>\n",
      "\t<object>\n",
      "\t\t<name>square</name>\n",
      "\t\t<pose>Unspecified</pose>\n",
      "\t\t<truncated>0</truncated>\n",
      "\t\t<difficult>0</difficult>\n",
      "\t\t<bndbox>\n",
      "\t\t\t<xmin>22</xmin>\n",
      "\t\t\t<ymin>42</ymin>\n",
      "\t\t\t<xmax>42</xmax>\n",
      "\t\t\t<ymax>62</ymax>\n",
      "\t\t</bndbox>\n",
      "\t</object>\n",
      "</annotation>\n",
      "\n"
     ]
    }
   ],
   "source": [
    "import xml.dom.minidom\n",
    "\n",
    "with open(ann_path, 'r') as file:\n",
    "    xml_string = file.read()\n",
    "\n",
    "# Parse and pretty-print\n",
    "dom = xml.dom.minidom.parseString(xml_string)\n",
    "pretty_xml = dom.toprettyxml()\n",
    "\n",
    "print(pretty_xml)\n"
   ]
  },
  {
   "cell_type": "code",
   "execution_count": 202,
   "id": "75c28f61-421b-4f95-805f-d2cbb0ccbcee",
   "metadata": {},
   "outputs": [
    {
     "name": "stdout",
     "output_type": "stream",
     "text": [
      "Filename: 0000.png\n",
      "Bounding Box: (22, 42), (42, 62)\n"
     ]
    }
   ],
   "source": [
    "# Parse the XML file\n",
    "tree = ET.parse(ann_path)\n",
    "root = tree.getroot()\n",
    "\n",
    "# Extract filename\n",
    "filename = root.find('filename').text\n",
    "\n",
    "# Extract bounding box\n",
    "bbox = root.find('object').find('bndbox')\n",
    "xmin = int(bbox.find('xmin').text)\n",
    "ymin = int(bbox.find('ymin').text)\n",
    "xmax = int(bbox.find('xmax').text)\n",
    "ymax = int(bbox.find('ymax').text)\n",
    "\n",
    "# Print results\n",
    "print(f\"Filename: {filename}\")\n",
    "print(f\"Bounding Box: ({xmin}, {ymin}), ({xmax}, {ymax})\")\n",
    "\n"
   ]
  },
  {
   "cell_type": "markdown",
   "id": "149d734c-3617-485a-8f35-da7365c9d927",
   "metadata": {},
   "source": [
    "<a name=\"4.2\"></a>\n",
    "### <b> <font color='orange'> 4.2. Image Pre-processing </font> </b>\n",
    "\n",
    "We will:\n",
    "\n",
    "- Read and decode the image.\n",
    "- Normalize to [0, 1].\n"
   ]
  },
  {
   "cell_type": "code",
   "execution_count": 203,
   "id": "8a8092ca-f1a2-48a5-8958-2734948c5b62",
   "metadata": {},
   "outputs": [],
   "source": [
    "img_path = image_path\n",
    "\n",
    "img = tf.io.read_file(img_path)\n",
    "img = tf.image.decode_png(img, channels=3)\n",
    "\n",
    "# cast and normalizes to [0, 1] if the original image is an integer type (which is our case)\n",
    "img = tf.image.convert_image_dtype(img, tf.float32)"
   ]
  },
  {
   "cell_type": "code",
   "execution_count": 204,
   "id": "906b9a74-bce0-43c2-944d-1540fce18c0e",
   "metadata": {},
   "outputs": [
    {
     "data": {
      "text/plain": [
       "<tf.Tensor: shape=(64, 64, 3), dtype=float32, numpy=\n",
       "array([[[1., 1., 1.],\n",
       "        [1., 1., 1.],\n",
       "        [1., 1., 1.],\n",
       "        ...,\n",
       "        [1., 1., 1.],\n",
       "        [1., 1., 1.],\n",
       "        [1., 1., 1.]],\n",
       "\n",
       "       [[1., 1., 1.],\n",
       "        [1., 1., 1.],\n",
       "        [1., 1., 1.],\n",
       "        ...,\n",
       "        [1., 1., 1.],\n",
       "        [1., 1., 1.],\n",
       "        [1., 1., 1.]],\n",
       "\n",
       "       [[1., 1., 1.],\n",
       "        [1., 1., 1.],\n",
       "        [1., 1., 1.],\n",
       "        ...,\n",
       "        [1., 1., 1.],\n",
       "        [1., 1., 1.],\n",
       "        [1., 1., 1.]],\n",
       "\n",
       "       ...,\n",
       "\n",
       "       [[1., 1., 1.],\n",
       "        [1., 1., 1.],\n",
       "        [1., 1., 1.],\n",
       "        ...,\n",
       "        [1., 1., 1.],\n",
       "        [1., 1., 1.],\n",
       "        [1., 1., 1.]],\n",
       "\n",
       "       [[1., 1., 1.],\n",
       "        [1., 1., 1.],\n",
       "        [1., 1., 1.],\n",
       "        ...,\n",
       "        [1., 1., 1.],\n",
       "        [1., 1., 1.],\n",
       "        [1., 1., 1.]],\n",
       "\n",
       "       [[1., 1., 1.],\n",
       "        [1., 1., 1.],\n",
       "        [1., 1., 1.],\n",
       "        ...,\n",
       "        [1., 1., 1.],\n",
       "        [1., 1., 1.],\n",
       "        [1., 1., 1.]]], dtype=float32)>"
      ]
     },
     "execution_count": 204,
     "metadata": {},
     "output_type": "execute_result"
    }
   ],
   "source": [
    "img"
   ]
  },
  {
   "cell_type": "markdown",
   "id": "cecb8a55-6517-4fae-b234-d75023fc365b",
   "metadata": {},
   "source": [
    "<a name=\"4.3\"></a>\n",
    "### <b> <font color='orange'> 4.3. Annotation Pre-processing </font> </b>\n",
    "\n",
    "We will:\n",
    "\n",
    "- Identify the object class (e.g., square, circle) and encode it numerically.\n",
    "- Extract the coordinates of the bounding box.\n",
    "- Normalize the bounding box coordinates.\n",
    "\n"
   ]
  },
  {
   "cell_type": "code",
   "execution_count": 205,
   "id": "b628bb2b-ab1b-40a9-9d03-c270d5cc35c1",
   "metadata": {},
   "outputs": [],
   "source": [
    "tree = ET.parse(ann_path)\n",
    "root = tree.getroot()"
   ]
  },
  {
   "cell_type": "code",
   "execution_count": 206,
   "id": "963b8bde-bf6f-4c3b-a033-9a77499211a9",
   "metadata": {},
   "outputs": [
    {
     "data": {
      "text/plain": [
       "'square'"
      ]
     },
     "execution_count": 206,
     "metadata": {},
     "output_type": "execute_result"
    }
   ],
   "source": [
    "label = root.find(\".//name\").text \n",
    "label"
   ]
  },
  {
   "cell_type": "code",
   "execution_count": 207,
   "id": "b82ff720-83ba-4f69-a0bf-bed40d236a27",
   "metadata": {},
   "outputs": [
    {
     "data": {
      "text/plain": [
       "0"
      ]
     },
     "execution_count": 207,
     "metadata": {},
     "output_type": "execute_result"
    }
   ],
   "source": [
    "# encoding\n",
    "label = 0 if label == \"square\" else 1 # square=0, circle=1\n",
    "label"
   ]
  },
  {
   "cell_type": "code",
   "execution_count": 208,
   "id": "626fc65f-1c74-4598-961b-94793d0abac0",
   "metadata": {},
   "outputs": [
    {
     "data": {
      "text/plain": [
       "<Element 'bndbox' at 0x7b0b2b406110>"
      ]
     },
     "execution_count": 208,
     "metadata": {},
     "output_type": "execute_result"
    }
   ],
   "source": [
    "bbox = root.find(\".//bndbox\")\n",
    "bbox"
   ]
  },
  {
   "cell_type": "code",
   "execution_count": 209,
   "id": "314ae16a-b9b2-4c95-97a6-d33ba5950936",
   "metadata": {},
   "outputs": [
    {
     "data": {
      "text/plain": [
       "(22, 42, 42, 62)"
      ]
     },
     "execution_count": 209,
     "metadata": {},
     "output_type": "execute_result"
    }
   ],
   "source": [
    "xmin = int(bbox.find(\"xmin\").text)\n",
    "ymin = int(bbox.find(\"ymin\").text)\n",
    "xmax = int(bbox.find(\"xmax\").text)\n",
    "ymax = int(bbox.find(\"ymax\").text)\n",
    "\n",
    "xmin, ymin, xmax, ymax"
   ]
  },
  {
   "cell_type": "code",
   "execution_count": 210,
   "id": "7bd0bb96-b3df-4454-846a-501c38f4a3fd",
   "metadata": {},
   "outputs": [
    {
     "data": {
      "text/plain": [
       "[0.34375, 0.65625, 0.65625, 0.96875]"
      ]
     },
     "execution_count": 210,
     "metadata": {},
     "output_type": "execute_result"
    }
   ],
   "source": [
    "# scaling the bounding box (images are config.img_size x config.img_size)\n",
    "bbox_norm = [xmin / config.img_size, ymin / config.img_size, xmax / config.img_size, ymax / config.img_size]\n",
    "bbox_norm"
   ]
  },
  {
   "cell_type": "markdown",
   "id": "3d3c7be2-6d3d-4aa5-98c1-f2dc94f26ec0",
   "metadata": {},
   "source": [
    "We will put everything togeteher in one function."
   ]
  },
  {
   "cell_type": "code",
   "execution_count": 211,
   "id": "86cf99ae-5240-44ff-ab8d-d11cb8a3e788",
   "metadata": {},
   "outputs": [],
   "source": [
    "# Parse annotation\n",
    "def parse_xml(xml_file, img_size=config.img_size):\n",
    "    tree = ET.parse(xml_file)\n",
    "    root = tree.getroot()\n",
    "\n",
    "    label = root.find(\".//name\").text\n",
    "    label = 0 if label == \"square\" else 1  # square=0, circle=1\n",
    "\n",
    "    bbox = root.find(\".//bndbox\")\n",
    "    xmin = int(bbox.find(\"xmin\").text)\n",
    "    ymin = int(bbox.find(\"ymin\").text)\n",
    "    xmax = int(bbox.find(\"xmax\").text)\n",
    "    ymax = int(bbox.find(\"ymax\").text)\n",
    "\n",
    "    # Normalize bbox coordinates\n",
    "    bbox_norm = [xmin / img_size, ymin / img_size, xmax / img_size, ymax / img_size]\n",
    "    return label, bbox_norm"
   ]
  },
  {
   "cell_type": "markdown",
   "id": "d885da8b-a3a4-4a89-b0ae-b79ea0cf4fec",
   "metadata": {},
   "source": [
    "<a name=\"4.4\"></a>\n",
    "### <b> <font color='orange'> 4.4. Load an example </font> </b>"
   ]
  },
  {
   "cell_type": "code",
   "execution_count": 212,
   "id": "6ecd6a78-5216-44e2-b6a1-7af09191b022",
   "metadata": {},
   "outputs": [],
   "source": [
    "# returns img + label (if it's circle or square) and the bounding box\n",
    "def load_example(img_path, label, bbox):\n",
    "    img = tf.io.read_file(img_path)\n",
    "    img = tf.image.decode_png(img, channels=3)\n",
    "    img = tf.image.convert_image_dtype(img, tf.float32)  # scale [0,1] the image\n",
    "    return img, {\"label\": label, \"bbox\": bbox}\n"
   ]
  },
  {
   "cell_type": "code",
   "execution_count": 213,
   "id": "fdda6a5d-1723-4c7d-b439-390117d24b4e",
   "metadata": {},
   "outputs": [],
   "source": [
    "label , bbox = parse_xml(ann_path)\n",
    "\n",
    "img, ann = load_example(img_path, label, bbox)"
   ]
  },
  {
   "cell_type": "code",
   "execution_count": 214,
   "id": "7a391f14-55b6-47d7-b54a-12dc15e3d4b0",
   "metadata": {},
   "outputs": [
    {
     "data": {
      "text/plain": [
       "{'label': 0, 'bbox': [0.34375, 0.65625, 0.65625, 0.96875]}"
      ]
     },
     "execution_count": 214,
     "metadata": {},
     "output_type": "execute_result"
    }
   ],
   "source": [
    "ann"
   ]
  },
  {
   "cell_type": "markdown",
   "id": "f9463c90-284e-41c1-8abc-5931fc49c6aa",
   "metadata": {},
   "source": [
    "<a name=\"4.5\"></a>\n",
    "### <b> <font color='orange'> 4.5. Train/Test Split </font> </b>\n",
    "\n",
    "Build a list of labeled image samples with their corresponding bounding boxes."
   ]
  },
  {
   "cell_type": "code",
   "execution_count": 215,
   "id": "5b861eb6-e9c0-4887-969b-112ad5da36bd",
   "metadata": {},
   "outputs": [],
   "source": [
    "samples = []\n",
    "for fname in sorted(os.listdir(img_dir)):\n",
    "    if fname.endswith(\".png\"):\n",
    "        img_path = os.path.join(img_dir, fname)                         # Path to image\n",
    "        xml_path = os.path.join(ann_dir, fname.replace(\".png\", \".xml\")) # Matching annotation path\n",
    "        label, bbox = parse_xml(xml_path)                               # Extract label and bbox from XML\n",
    "        samples.append((img_path, label, bbox))                         # Save as a tuple\n",
    "\n",
    "\n"
   ]
  },
  {
   "cell_type": "code",
   "execution_count": 216,
   "id": "ecae0c38-1664-4fa3-abdf-b0005ca47ab4",
   "metadata": {},
   "outputs": [
    {
     "data": {
      "text/plain": [
       "[('shape_dataset/images/0000.png', 0, [0.34375, 0.65625, 0.65625, 0.96875]),\n",
       " ('shape_dataset/images/0001.png', 0, [0.640625, 0.15625, 0.953125, 0.46875]),\n",
       " ('shape_dataset/images/0002.png', 1, [0.34375, 0.328125, 0.65625, 0.640625]),\n",
       " ('shape_dataset/images/0003.png',\n",
       "  1,\n",
       "  [0.546875, 0.359375, 0.859375, 0.671875]),\n",
       " ('shape_dataset/images/0004.png', 1, [0.4375, 0.03125, 0.75, 0.34375])]"
      ]
     },
     "execution_count": 216,
     "metadata": {},
     "output_type": "execute_result"
    }
   ],
   "source": [
    "samples[:5]"
   ]
  },
  {
   "cell_type": "markdown",
   "id": "6e647939-8173-4061-90c1-e06e466e1bbc",
   "metadata": {},
   "source": [
    "Train/Test Split"
   ]
  },
  {
   "cell_type": "code",
   "execution_count": 217,
   "id": "9babc811-f66e-4e57-9ced-0bfa05b02c05",
   "metadata": {},
   "outputs": [],
   "source": [
    "# train/test split\n",
    "random.shuffle(samples)\n",
    "split_idx = int(0.8 * len(samples))\n",
    "train_samples = samples[:split_idx]\n",
    "val_samples = samples[split_idx:]"
   ]
  },
  {
   "cell_type": "markdown",
   "id": "8c621d1f-5747-401b-99e6-2150c6ac612b",
   "metadata": {},
   "source": [
    "<a name=\"4.6\"></a>\n",
    "### <b> <font color='orange'> 4.6. Creating TF Datasets </font> </b>"
   ]
  },
  {
   "cell_type": "code",
   "execution_count": 218,
   "id": "61587981-810c-444d-aa75-864fa9f42cf8",
   "metadata": {},
   "outputs": [],
   "source": [
    "def make_dataset(samples, batch_size=config.batch_size, training=True):\n",
    "    \"\"\"\n",
    "    Creates a TensorFlow dataset for object localization from pre-processed data.\n",
    "\n",
    "    Args:\n",
    "        samples (list of tuples): Each tuple contains (image_path, label, bounding_box),\n",
    "                                  where bounding_box is [xmin, ymin, xmax, ymax].\n",
    "        batch_size (int): Number of samples per batch.\n",
    "        training (bool): Whether to apply shuffling (useful for training mode).\n",
    "\n",
    "    Returns:\n",
    "        tf.data.Dataset: A batched and optionally shuffled dataset ready for model input.\n",
    "    \"\"\"\n",
    "    # Unpack the samples into separate lists\n",
    "    img_paths, labels, bboxes = zip(*samples)\n",
    "\n",
    "    # Create a TensorFlow dataset from the image paths, labels, and bounding boxes\n",
    "    ds = tf.data.Dataset.from_tensor_slices((list(img_paths), list(labels), list(bboxes)))\n",
    "\n",
    "    # Map each element using the pre-processing function (assumes pre-processed inputs)\n",
    "    ds = ds.map(lambda x, y, z: load_example(x, y, z))\n",
    "\n",
    "    # Shuffle if in training mode\n",
    "    if training:\n",
    "        ds = ds.shuffle(100)\n",
    "\n",
    "    # Batch the dataset and prefetch for better performance\n",
    "    ds = ds.batch(batch_size).prefetch(tf.data.AUTOTUNE)\n",
    "\n",
    "    return ds\n"
   ]
  },
  {
   "cell_type": "code",
   "execution_count": 219,
   "id": "8d7e4a92-7595-49c3-b391-3b64499eec26",
   "metadata": {},
   "outputs": [],
   "source": [
    "# Train and val datasets\n",
    "train_ds = make_dataset(train_samples)\n",
    "val_ds = make_dataset(val_samples,training=False)"
   ]
  },
  {
   "cell_type": "code",
   "execution_count": 220,
   "id": "cedcfd10-91fe-4b24-bff8-11bb8a31caa0",
   "metadata": {},
   "outputs": [
    {
     "name": "stdout",
     "output_type": "stream",
     "text": [
      "Images: (4, 64, 64, 3)\n",
      "targets: {'label': <tf.Tensor: shape=(4,), dtype=int32, numpy=array([1, 1, 0, 1], dtype=int32)>, 'bbox': <tf.Tensor: shape=(4, 4), dtype=float32, numpy=\n",
      "array([[0.296875, 0.203125, 0.609375, 0.515625],\n",
      "       [0.625   , 0.171875, 0.9375  , 0.484375],\n",
      "       [0.640625, 0.546875, 0.953125, 0.859375],\n",
      "       [0.390625, 0.625   , 0.703125, 0.9375  ]], dtype=float32)>}\n"
     ]
    }
   ],
   "source": [
    "for images, targets in train_ds.take(1):\n",
    "    print(\"Images:\", images.shape)\n",
    "    print(\"targets:\", targets)\n"
   ]
  },
  {
   "cell_type": "code",
   "execution_count": 221,
   "id": "3c284595-e3d6-4f17-b22f-7785edf49eca",
   "metadata": {},
   "outputs": [
    {
     "name": "stdout",
     "output_type": "stream",
     "text": [
      "Images: (4, 64, 64, 3)\n",
      "Labels: tf.Tensor([1 0 1 1], shape=(4,), dtype=int32)\n",
      "BBoxes: tf.Tensor(\n",
      "[[0.46875  0.3125   0.78125  0.625   ]\n",
      " [0.28125  0.171875 0.59375  0.484375]\n",
      " [0.       0.265625 0.3125   0.578125]\n",
      " [0.546875 0.359375 0.859375 0.671875]], shape=(4, 4), dtype=float32)\n"
     ]
    }
   ],
   "source": [
    "for images, targets in train_ds.take(1):\n",
    "    print(\"Images:\", images.shape)\n",
    "    print(\"Labels:\", targets[\"label\"])\n",
    "    print(\"BBoxes:\", targets[\"bbox\"])"
   ]
  },
  {
   "cell_type": "markdown",
   "id": "93b385ff-ebc7-4a18-b898-3559c454b846",
   "metadata": {},
   "source": [
    "<a name=\"5\"></a>\n",
    "## <b> <font color='red'> 5. Build, compile and train a model </font> </b>"
   ]
  },
  {
   "cell_type": "code",
   "execution_count": 222,
   "id": "04ae843c-0e1b-4264-9c86-4eabbcc27ec4",
   "metadata": {},
   "outputs": [
    {
     "name": "stdout",
     "output_type": "stream",
     "text": [
      "Model: \"model_7\"\n",
      "__________________________________________________________________________________________________\n",
      " Layer (type)                Output Shape                 Param #   Connected to                  \n",
      "==================================================================================================\n",
      " input_8 (InputLayer)        [(None, 64, 64, 3)]          0         []                            \n",
      "                                                                                                  \n",
      " conv2d_21 (Conv2D)          (None, 62, 62, 16)           448       ['input_8[0][0]']             \n",
      "                                                                                                  \n",
      " average_pooling2d_21 (Aver  (None, 31, 31, 16)           0         ['conv2d_21[0][0]']           \n",
      " agePooling2D)                                                                                    \n",
      "                                                                                                  \n",
      " conv2d_22 (Conv2D)          (None, 29, 29, 32)           4640      ['average_pooling2d_21[0][0]']\n",
      "                                                                                                  \n",
      " average_pooling2d_22 (Aver  (None, 14, 14, 32)           0         ['conv2d_22[0][0]']           \n",
      " agePooling2D)                                                                                    \n",
      "                                                                                                  \n",
      " conv2d_23 (Conv2D)          (None, 12, 12, 64)           18496     ['average_pooling2d_22[0][0]']\n",
      "                                                                                                  \n",
      " average_pooling2d_23 (Aver  (None, 6, 6, 64)             0         ['conv2d_23[0][0]']           \n",
      " agePooling2D)                                                                                    \n",
      "                                                                                                  \n",
      " flatten_7 (Flatten)         (None, 2304)                 0         ['average_pooling2d_23[0][0]']\n",
      "                                                                                                  \n",
      " dense_7 (Dense)             (None, 128)                  295040    ['flatten_7[0][0]']           \n",
      "                                                                                                  \n",
      " label (Dense)               (None, 2)                    258       ['dense_7[0][0]']             \n",
      "                                                                                                  \n",
      " bbox (Dense)                (None, 4)                    516       ['dense_7[0][0]']             \n",
      "                                                                                                  \n",
      "==================================================================================================\n",
      "Total params: 319398 (1.22 MB)\n",
      "Trainable params: 319398 (1.22 MB)\n",
      "Non-trainable params: 0 (0.00 Byte)\n",
      "__________________________________________________________________________________________________\n"
     ]
    }
   ],
   "source": [
    "# Feature extractor\n",
    "def feature_extractor(inputs):\n",
    "    x = tf.keras.layers.Conv2D(16, kernel_size=3, activation='relu')(inputs)\n",
    "    x = tf.keras.layers.AveragePooling2D((2, 2))(x)\n",
    "    x = tf.keras.layers.Conv2D(32, kernel_size=3, activation='relu')(x)\n",
    "    x = tf.keras.layers.AveragePooling2D((2, 2))(x)\n",
    "    x = tf.keras.layers.Conv2D(64, kernel_size=3, activation='relu')(x)\n",
    "    x = tf.keras.layers.AveragePooling2D((2, 2))(x)\n",
    "    return x\n",
    "\n",
    "# Dense layers\n",
    "def dense_layers(inputs):\n",
    "    x = tf.keras.layers.Flatten()(inputs)\n",
    "    x = tf.keras.layers.Dense(128, activation='relu')(x)\n",
    "    return x\n",
    "\n",
    "# Classification branch (2 classes)\n",
    "def classifier(inputs):\n",
    "    return tf.keras.layers.Dense(2, activation='softmax', name='label')(inputs)\n",
    "\n",
    "# Bounding box regression branch (4 values)\n",
    "def bounding_box_regression(inputs):\n",
    "    return tf.keras.layers.Dense(4, name='bbox')(inputs)\n",
    "\n",
    "# Complete model\n",
    "def final_model(inputs):\n",
    "    features = feature_extractor(inputs)\n",
    "    dense = dense_layers(features)\n",
    "    class_out = classifier(dense)\n",
    "    bbox_out = bounding_box_regression(dense)\n",
    "    return tf.keras.Model(inputs=inputs, outputs=[class_out, bbox_out])\n",
    "\n",
    "# Compile model\n",
    "def define_and_compile_model(input_shape=(64, 64, 3)):\n",
    "    inputs = tf.keras.layers.Input(shape=input_shape)\n",
    "    model = final_model(inputs)\n",
    "    model.compile(\n",
    "        optimizer='adam',\n",
    "        loss={\n",
    "            'label': 'sparse_categorical_crossentropy',\n",
    "            'bbox': 'mse'\n",
    "        },\n",
    "        metrics={\n",
    "            'label': 'accuracy',\n",
    "            'bbox': 'mse'\n",
    "        }\n",
    "    )\n",
    "    return model\n",
    "\n",
    "# Instantiate and summarize\n",
    "model = define_and_compile_model()\n",
    "model.summary()\n"
   ]
  },
  {
   "cell_type": "code",
   "execution_count": 223,
   "id": "dcac49db-702b-40b6-a094-4952638805c0",
   "metadata": {},
   "outputs": [
    {
     "data": {
      "image/png": "[encoded data removed]",
      "text/plain": [
       "<IPython.core.display.Image object>"
      ]
     },
     "execution_count": 223,
     "metadata": {},
     "output_type": "execute_result"
    }
   ],
   "source": [
    "tf.keras.utils.plot_model(model, show_shapes=False, expand_nested=True)"
   ]
  },
  {
   "cell_type": "markdown",
   "id": "9bd15b5c-657b-49b9-afef-d89062dde28e",
   "metadata": {},
   "source": [
    "Train the model:"
   ]
  },
  {
   "cell_type": "code",
   "execution_count": 224,
   "id": "08de9ce6-c6c6-4741-ad95-8d4a3e9a8218",
   "metadata": {},
   "outputs": [],
   "source": [
    "history = model.fit(\n",
    "    train_ds,\n",
    "    validation_data=val_ds,\n",
    "    verbose=0,\n",
    "    epochs=20\n",
    ")"
   ]
  },
  {
   "cell_type": "markdown",
   "id": "ca4f0a7a-334f-42f8-9a03-e34ae55af0c0",
   "metadata": {},
   "source": [
    "<a name=\"6\"></a>\n",
    "## <b> <font color='red'> 6. Evaluation </font> </b>"
   ]
  },
  {
   "cell_type": "code",
   "execution_count": 226,
   "id": "e35d3adf-6dba-4935-bb76-9ee61871f2b2",
   "metadata": {},
   "outputs": [
    {
     "name": "stdout",
     "output_type": "stream",
     "text": [
      "1/1 [==============================] - 0s 16ms/step - loss: 0.0022 - label_loss: 1.1381e-04 - bbox_loss: 0.0021 - label_accuracy: 1.0000 - bbox_mse: 0.0021\n",
      "Validation accuracy:  1.0\n"
     ]
    }
   ],
   "source": [
    "loss, classification_loss, bounding_box_loss, classification_accuracy, bounding_box_mse = model.evaluate(val_ds, steps=1)\n",
    "print(\"Validation accuracy: \", classification_accuracy)"
   ]
  },
  {
   "cell_type": "markdown",
   "id": "2e702626-0091-4c9c-b962-dec1abda5739",
   "metadata": {},
   "source": [
    "For the bounding boxes, a better evaluation metric than MSE would be IoU."
   ]
  },
  {
   "cell_type": "code",
   "execution_count": 227,
   "id": "3b677e5b-2466-49e4-ba5c-048b60f8a1f0",
   "metadata": {},
   "outputs": [],
   "source": [
    "def intersection_over_union(pred_box, true_box):\n",
    "    xmin_pred, ymin_pred, xmax_pred, ymax_pred = pred_box\n",
    "    xmin_true, ymin_true, xmax_true, ymax_true = true_box\n",
    "    \n",
    "\n",
    "    smoothing_factor = 1e-10\n",
    "\n",
    "    xmin_overlap = np.maximum(xmin_pred, xmin_true)\n",
    "    xmax_overlap = np.minimum(xmax_pred, xmax_true)\n",
    "    ymin_overlap = np.maximum(ymin_pred, ymin_true)\n",
    "    ymax_overlap = np.minimum(ymax_pred, ymax_true)\n",
    "\n",
    "    pred_box_area = (xmax_pred - xmin_pred) * (ymax_pred - ymin_pred)\n",
    "    true_box_area = (xmax_true - xmin_true) * (ymax_true - ymin_true)\n",
    "\n",
    "    overlap_area = np.maximum((xmax_overlap - xmin_overlap), 0)  * np.maximum((ymax_overlap - ymin_overlap), 0)\n",
    "    union_area = (pred_box_area + true_box_area) - overlap_area\n",
    "\n",
    "    iou = (overlap_area + smoothing_factor) / (union_area + smoothing_factor)\n",
    "\n",
    "    return iou"
   ]
  },
  {
   "cell_type": "markdown",
   "id": "ce1c5060-b3c6-4fc1-9ede-4627ad06680d",
   "metadata": {},
   "source": [
    "Evaluation on the validation dataset."
   ]
  },
  {
   "cell_type": "code",
   "execution_count": 228,
   "id": "4a00a6a9-e3f3-4330-a53f-609cc500afcf",
   "metadata": {},
   "outputs": [],
   "source": [
    "def evaluate_iou_on_dataset(model, val_ds):\n",
    "    \"\"\"\n",
    "    Computes the average IoU over the validation dataset.\n",
    "\n",
    "    Args:\n",
    "        model: A model that outputs [class_probs, predicted_bboxes].\n",
    "        val_ds: A tf.data.Dataset yielding (images, {'label': ..., 'bbox': true_boxes}).\n",
    "\n",
    "    Returns:\n",
    "        float: Mean IoU across all valid samples.\n",
    "    \"\"\"\n",
    "    ious = []\n",
    "\n",
    "    for images, targets in val_ds:\n",
    "        true_boxes = targets['bbox'].numpy()\n",
    "        class_probs, pred_boxes = model.predict(images)  # Unpack outputs\n",
    "        pred_boxes = pred_boxes.squeeze()  # shape: (batch_size, 4)\n",
    "\n",
    "        for pred_box, true_box in zip(pred_boxes, true_boxes):\n",
    "            if len(pred_box) == 4 and len(true_box) == 4:\n",
    "                iou = intersection_over_union(pred_box, true_box)\n",
    "                ious.append(iou)\n",
    "\n",
    "    return np.mean(ious) if ious else 0.0\n"
   ]
  },
  {
   "cell_type": "code",
   "execution_count": 229,
   "id": "ab4c65cf-3639-4c91-a8f9-1fe5d09e1f8b",
   "metadata": {},
   "outputs": [
    {
     "name": "stdout",
     "output_type": "stream",
     "text": [
      "1/1 [==============================] - 0s 79ms/step\n",
      "1/1 [==============================] - 0s 16ms/step\n",
      "1/1 [==============================] - 0s 18ms/step\n",
      "1/1 [==============================] - 0s 18ms/step\n",
      "1/1 [==============================] - 0s 18ms/step\n",
      "1/1 [==============================] - 0s 18ms/step\n",
      "1/1 [==============================] - 0s 16ms/step\n",
      "1/1 [==============================] - 0s 16ms/step\n",
      "1/1 [==============================] - 0s 16ms/step\n",
      "1/1 [==============================] - 0s 19ms/step\n"
     ]
    },
    {
     "data": {
      "text/plain": [
       "0.6334521186367139"
      ]
     },
     "execution_count": 229,
     "metadata": {},
     "output_type": "execute_result"
    }
   ],
   "source": [
    "evaluate_iou_on_dataset(model, val_ds)"
   ]
  },
  {
   "cell_type": "markdown",
   "id": "7017f102-0711-41b7-ac43-bdf207778a27",
   "metadata": {},
   "source": [
    "<a name=\"7\"></a>\n",
    "## <b> <font color='red'> 7. Making predictions </font> </b>"
   ]
  },
  {
   "cell_type": "code",
   "execution_count": 230,
   "id": "6e049f15-c23a-4071-b606-46f12b09d03a",
   "metadata": {},
   "outputs": [
    {
     "name": "stdout",
     "output_type": "stream",
     "text": [
      "1/1 [==============================] - 0s 21ms/step\n",
      "Predicted class: [1]\n",
      "Predicted bbox: [[0.2946466  0.35545123 0.5741187  0.6585289 ]]\n",
      "Label: {'label': <tf.Tensor: shape=(4,), dtype=int32, numpy=array([1, 0, 0, 1], dtype=int32)>, 'bbox': <tf.Tensor: shape=(4, 4), dtype=float32, numpy=\n",
      "array([[0.359375, 0.390625, 0.671875, 0.703125],\n",
      "       [0.171875, 0.453125, 0.484375, 0.765625],\n",
      "       [0.296875, 0.3125  , 0.609375, 0.625   ],\n",
      "       [0.59375 , 0.234375, 0.90625 , 0.546875]], dtype=float32)>}\n",
      "Scaled Bounding Box: [18.85738182067871, 22.748878479003906, 36.743595123291016, 42.145851135253906]\n"
     ]
    },
    {
     "data": {
      "image/png": "[encoded data removed]",
      "text/plain": [
       "<Figure size 640x480 with 1 Axes>"
      ]
     },
     "metadata": {},
     "output_type": "display_data"
    }
   ],
   "source": [
    "# Get one batch from the val_ds\n",
    "image_batch, label_batch = next(iter(val_ds))\n",
    "\n",
    "# Get the first image from the batch (assuming the batch size is > 1)\n",
    "image = image_batch[0]\n",
    "label = label_batch #[0]\n",
    "\n",
    "# Make a prediction using the model\n",
    "predictions = model.predict(tf.expand_dims(image, axis=0))  # Add batch dimension\n",
    "\n",
    "# Assuming the predictions are in two parts (classification and bounding box)\n",
    "predicted_class = np.argmax(predictions[0], axis=1)  # Classification prediction\n",
    "predicted_bbox = predictions[1]  # Bounding box prediction\n",
    "\n",
    "print(\"Predicted class:\", predicted_class)\n",
    "print(\"Predicted bbox:\", predicted_bbox)\n",
    "\n",
    "print(\"Label:\", label)\n",
    "\n",
    "# Plot the image and bounding box\n",
    "plot_image_with_bbox(image, predicted_class, predicted_bbox)\n"
   ]
  },
  {
   "cell_type": "markdown",
   "id": "3c7ae3b9-64d4-4e1f-999e-ac1bfb499216",
   "metadata": {},
   "source": [
    "<a name=\"references\"></a>\n",
    "## <b> <font color='red'> References </font>  </b>\n",
    "\n",
    "[TF Advanced Techniques Specialization](https://www.coursera.org/specializations/tensorflow-advanced-techniques)"
   ]
  }
 ],
 "metadata": {
  "kernelspec": {
   "display_name": "Python 3 (ipykernel)",
   "language": "python",
   "name": "python3"
  },
  "language_info": {
   "codemirror_mode": {
    "name": "ipython",
    "version": 3
   },
   "file_extension": ".py",
   "mimetype": "text/x-python",
   "name": "python",
   "nbconvert_exporter": "python",
   "pygments_lexer": "ipython3",
   "version": "3.10.12"
  }
 },
 "nbformat": 4,
 "nbformat_minor": 5
}
