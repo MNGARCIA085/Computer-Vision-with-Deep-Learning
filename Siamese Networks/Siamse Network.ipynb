{
 "cells": [
  {
   "cell_type": "markdown",
   "id": "369c39e1-1678-4f05-bb7f-a7708cbb45a4",
   "metadata": {},
   "source": [
    "# SIAMESE NETWORKS"
   ]
  },
  {
   "cell_type": "markdown",
   "id": "110459d2-5342-4c37-ad4d-83cc82f10df6",
   "metadata": {},
   "source": [
    "TABLE OF CONTENTS"
   ]
  },
  {
   "cell_type": "markdown",
   "id": "acfa045b-44f8-4986-86e0-a0efff10a66b",
   "metadata": {},
   "source": [
    "INTRODUCTION"
   ]
  },
  {
   "cell_type": "markdown",
   "id": "1cf78e71-4898-4d08-9ff2-8723753a93c4",
   "metadata": {},
   "source": [
    "SERUP"
   ]
  },
  {
   "cell_type": "code",
   "execution_count": 43,
   "id": "3ba13ded-461f-4c55-bc04-22305a849e3e",
   "metadata": {},
   "outputs": [],
   "source": [
    "import tensorflow as tf\n",
    "from tensorflow.keras import layers, Model\n",
    "import numpy as np\n",
    "import matplotlib.pyplot as plt\n",
    "\n"
   ]
  },
  {
   "cell_type": "markdown",
   "id": "58dc7cef-548f-4447-817f-ddcedeb7d382",
   "metadata": {},
   "source": [
    "## HELPER FUNCTIONS"
   ]
  },
  {
   "cell_type": "markdown",
   "id": "8f25af2c-1385-40dc-8867-5e0b6eaf8e66",
   "metadata": {},
   "source": [
    "## LOAD AND PREPROCESSING DATA"
   ]
  },
  {
   "cell_type": "code",
   "execution_count": 46,
   "id": "42b08256-05f0-4fce-b66c-a1a3fa4b194f",
   "metadata": {},
   "outputs": [
    {
     "name": "stdout",
     "output_type": "stream",
     "text": [
      "(60000, 28, 28) (10000, 28, 28)\n"
     ]
    },
    {
     "data": {
      "text/plain": [
       "((60000, 28, 28, 1), (10000, 28, 28, 1))"
      ]
     },
     "execution_count": 46,
     "metadata": {},
     "output_type": "execute_result"
    }
   ],
   "source": [
    "# Load MNIST\n",
    "(x_train, y_train), (x_test, y_test) = tf.keras.datasets.mnist.load_data()\n",
    "x_train = x_train.astype(\"float32\") / 255.\n",
    "x_test = x_test.astype(\"float32\") / 255.\n",
    "\n",
    "\n",
    "print(x_train.shape, x_test.shape)\n",
    "\n",
    "# Add channel dimension\n",
    "x_train = np.expand_dims(x_train, -1)\n",
    "x_test = np.expand_dims(x_test, -1)\n",
    "\n",
    "\n",
    "x_train.shape, x_test.shape\n"
   ]
  },
  {
   "cell_type": "markdown",
   "id": "7e46b327-226a-41d5-bb8e-8241a21539e3",
   "metadata": {},
   "source": [
    "We will generate pairs of images to train a model to recognize similarity. Each pair will consist of two images:\n",
    "\n",
    "- If both images show the same digit, the pair is considered a positive pair and labeled with a 1.\n",
    "\n",
    "- If the images show different digits, the pair is a negative pair and labeled with a 0."
   ]
  },
  {
   "cell_type": "code",
   "execution_count": 49,
   "id": "525b4b0e-b03f-4759-aaa7-e79eeaea1cac",
   "metadata": {},
   "outputs": [
    {
     "name": "stdout",
     "output_type": "stream",
     "text": [
      "Pairs train shape: (119980, 2, 28, 28, 1)\n",
      "Labels train shape: (119980,)\n"
     ]
    }
   ],
   "source": [
    "# Function to create pairs (positive and negative)\n",
    "def create_pairs(x, y):\n",
    "    pairs = []\n",
    "    labels = []\n",
    "    num_classes = 10\n",
    "    digit_indices = [np.where(y == i)[0] for i in range(num_classes)]\n",
    "\n",
    "    for d in range(num_classes):\n",
    "        for i in range(len(digit_indices[d]) - 1):\n",
    "            # Positive pair\n",
    "            idx1, idx2 = digit_indices[d][i], digit_indices[d][i + 1]\n",
    "            pairs.append([x[idx1], x[idx2]])\n",
    "            labels.append(1)\n",
    "\n",
    "            # Negative pair\n",
    "            neg_class = (d + 1) % num_classes\n",
    "            idx1 = digit_indices[d][i]\n",
    "            idx2 = np.random.choice(digit_indices[neg_class])\n",
    "            pairs.append([x[idx1], x[idx2]])\n",
    "            labels.append(0)\n",
    "    return np.array(pairs), np.array(labels).astype(\"float32\")\n",
    "\n",
    "pairs_train, labels_train = create_pairs(x_train, y_train)\n",
    "pairs_test, labels_test = create_pairs(x_test, y_test)\n",
    "\n",
    "print(\"Pairs train shape:\", pairs_train.shape)\n",
    "print(\"Labels train shape:\", labels_train.shape)"
   ]
  },
  {
   "cell_type": "markdown",
   "id": "950e25c0-4972-4bcb-9fd2-0335db4fef06",
   "metadata": {},
   "source": [
    "We can see that, for training, we have 1,198,980 pairs of images as features, where each image has a shape of 28×28×1.\n"
   ]
  },
  {
   "cell_type": "code",
   "execution_count": 50,
   "id": "2e788ff0-6f81-45f5-a63d-61bae53b9e74",
   "metadata": {},
   "outputs": [],
   "source": [
    "import matplotlib.pyplot as plt\n",
    "\n",
    "def plot_image_pairs(pairs, labels, num_pairs=5):\n",
    "    \"\"\"\n",
    "    Plots `num_pairs` image pairs with their labels.\n",
    "    Each pair is shown side-by-side with the label on top.\n",
    "    \"\"\"\n",
    "    plt.figure(figsize=(num_pairs * 2.5, 3))\n",
    "    \n",
    "    for i in range(num_pairs):\n",
    "        pair = pairs[i]\n",
    "        label = int(labels[i])\n",
    "        \n",
    "        # First image\n",
    "        ax = plt.subplot(2, num_pairs, i + 1) # Top row: first image of pair\n",
    "        plt.imshow(pair[0].squeeze(), cmap=\"gray\")\n",
    "        plt.axis(\"off\")\n",
    "        ax.set_title(f\"Label: {label}\")\n",
    "        \n",
    "        # Second image\n",
    "        ax = plt.subplot(2, num_pairs, i + 1 + num_pairs) # Bottom row: second image of pair\n",
    "        plt.imshow(pair[1].squeeze(), cmap=\"gray\")\n",
    "        plt.axis(\"off\")\n",
    "\n",
    "    plt.tight_layout()\n",
    "    plt.show()\n"
   ]
  },
  {
   "cell_type": "code",
   "execution_count": 99,
   "id": "d75d70dc-c99a-46ef-a14d-577988c49526",
   "metadata": {},
   "outputs": [
    {
     "data": {
      "image/png": "[encoded data removed]",
      "text/plain": [
       "<Figure size 1500x300 with 12 Axes>"
      ]
     },
     "metadata": {},
     "output_type": "display_data"
    }
   ],
   "source": [
    "plot_image_pairs(pairs_train, labels_train, num_pairs=6)\n"
   ]
  },
  {
   "cell_type": "markdown",
   "id": "4d7c2398-3c1c-4858-98c2-12d9ca99016b",
   "metadata": {},
   "source": [
    "## loss fn (contrastive loss)\n",
    "\n",
    "The goal of contrastive loss is to bring similar instances closer together in the embedding space and push apart dissimilar instances.\n",
    "\n",
    "Contrastive loss is used to learn embeddings such that similar pairs are pulled closer and dissimilar pairs are pushed apart in the embedding space.\n",
    "\n",
    "**Contrastive Loss**\n",
    "\n",
    "Given two embeddings **x₁** and **x₂**, and a label **y**:\n",
    "\n",
    "- y = 1 if they are similar\n",
    "- y = 0 if they are dissimilar\n",
    "\n",
    "The loss is defined as:\n",
    "\n",
    "$$\n",
    "L = y \\cdot D^2 + (1 - y) \\cdot \\max(0, m - D)^2\n",
    "$$\n",
    "\n",
    "where:\n",
    "\n",
    "$$\n",
    "D = \\| x_1 - x_2 \\|_2  $$ is the Euclidean distance between the embeddings.\n",
    "\n",
    "\n",
    "m is a margin that defines how far apart dissimilar pairs should be\n",
    "\n",
    "\n",
    "\n"
   ]
  },
  {
   "cell_type": "code",
   "execution_count": 55,
   "id": "d3dd1b3b-f1da-4914-b0da-1b0fa292cfaa",
   "metadata": {},
   "outputs": [],
   "source": [
    "# Contrastive loss (assumimg y_pred is the distance D ||x1 -x2||2, noma 2)\n",
    "def contrastive_loss(y_true, y_pred, margin=1):\n",
    "    square_pred = tf.square(y_pred)\n",
    "    margin_square = tf.square(tf.maximum(margin - y_pred, 0))\n",
    "    return tf.reduce_mean(y_true * square_pred + (1 - y_true) * margin_square)"
   ]
  },
  {
   "cell_type": "markdown",
   "id": "3c0a7fa2-2387-4a7b-a667-9f279fa1ab61",
   "metadata": {},
   "source": [
    "compute euclidean distance"
   ]
  },
  {
   "cell_type": "code",
   "execution_count": 54,
   "id": "ac4cb27f-e2d3-4692-820a-3c5d6f04d81b",
   "metadata": {},
   "outputs": [],
   "source": [
    "# Compute Euclidean distance between embeddings\n",
    "def euclidean_distance(vects):\n",
    "    x, y = vects\n",
    "    sum_square = tf.reduce_sum(tf.square(x - y), axis=1, keepdims=True)\n",
    "    return tf.sqrt(tf.maximum(sum_square, 1e-10))"
   ]
  },
  {
   "cell_type": "markdown",
   "id": "30cbe92c-a14d-4e05-baf7-312721ffd76f",
   "metadata": {},
   "source": [
    "## Model\n",
    "\n",
    "We will build the following network:\n",
    "\n",
    "\n",
    "\n",
    "...........DAW.................\n",
    "\n"
   ]
  },
  {
   "cell_type": "code",
   "execution_count": 56,
   "id": "d41e524c-e66f-41a8-a622-b9c1efd50f23",
   "metadata": {},
   "outputs": [],
   "source": [
    "# Define the base network (simple CNN)\n",
    "def base_network(input_shape):\n",
    "    input = layers.Input(shape=input_shape)\n",
    "    x = layers.Conv2D(32, 3, activation=\"relu\")(input)\n",
    "    x = layers.MaxPooling2D()(x)\n",
    "    x = layers.Conv2D(64, 3, activation=\"relu\")(x)\n",
    "    x = layers.MaxPooling2D()(x)\n",
    "    x = layers.Flatten()(x)\n",
    "    x = layers.Dense(128, activation=\"relu\")(x)\n",
    "    return Model(input, x)\n",
    "\n",
    "input_shape = x_train.shape[1:]\n",
    "base_net = base_network(input_shape)\n",
    "\n",
    "# Define inputs\n",
    "input_a = layers.Input(shape=input_shape)\n",
    "input_b = layers.Input(shape=input_shape)\n",
    "\n",
    "# Get embeddings\n",
    "processed_a = base_net(input_a)\n",
    "processed_b = base_net(input_b)\n",
    "\n",
    "\n",
    "distance = layers.Lambda(euclidean_distance)([processed_a, processed_b])\n",
    "\n",
    "# Define the Siamese model\n",
    "model = Model([input_a, input_b], distance)\n"
   ]
  },
  {
   "cell_type": "code",
   "execution_count": 57,
   "id": "50f47faf-c900-41c5-86ad-b3a9f39ea735",
   "metadata": {},
   "outputs": [
    {
     "data": {
      "image/png": "[encoded data removed]",
      "text/plain": [
       "<IPython.core.display.Image object>"
      ]
     },
     "execution_count": 57,
     "metadata": {},
     "output_type": "execute_result"
    }
   ],
   "source": [
    "tf.keras.utils.plot_model(model)"
   ]
  },
  {
   "cell_type": "code",
   "execution_count": 63,
   "id": "92eb691d-e2ab-4304-9f93-9025a5eaf87e",
   "metadata": {},
   "outputs": [],
   "source": [
    "# Compile\n",
    "model.compile(loss=contrastive_loss, optimizer=\"adam\", metrics=[\"accuracy\"])"
   ]
  },
  {
   "cell_type": "code",
   "execution_count": 64,
   "id": "38066ebe-7461-4c17-8f23-ef11fb1c6501",
   "metadata": {},
   "outputs": [],
   "source": [
    "# Prepare data for training\n",
    "pair_1 = pairs_train[:, 0]  # all first images in the pairs\n",
    "pair_2 = pairs_train[:, 1]  # all second images in the pairs\n",
    "\n",
    "pair_1_test = pairs_test[:, 0]\n",
    "pair_2_test = pairs_test[:, 1]"
   ]
  },
  {
   "cell_type": "markdown",
   "id": "74388f5e-8d60-41fb-9de0-6ef77f186e85",
   "metadata": {},
   "source": [
    "pair_1[i] and pair_2[i] give you the two images forming the i-th pair."
   ]
  },
  {
   "cell_type": "code",
   "execution_count": 65,
   "id": "3dbbbc62-573c-4272-9a69-d7c2e994c29e",
   "metadata": {},
   "outputs": [
    {
     "name": "stderr",
     "output_type": "stream",
     "text": [
      "2025-05-26 17:57:35.916403: W external/local_tsl/tsl/framework/cpu_allocator_impl.cc:83] Allocation of 376257280 exceeds 10% of free system memory.\n"
     ]
    },
    {
     "name": "stdout",
     "output_type": "stream",
     "text": [
      "Epoch 1/8\n"
     ]
    },
    {
     "name": "stderr",
     "output_type": "stream",
     "text": [
      "2025-05-26 17:57:36.481507: W external/local_tsl/tsl/framework/cpu_allocator_impl.cc:83] Allocation of 376257280 exceeds 10% of free system memory.\n"
     ]
    },
    {
     "name": "stdout",
     "output_type": "stream",
     "text": [
      "938/938 [==============================] - 77s 81ms/step - loss: 0.0354 - accuracy: 0.0251 - val_loss: 0.0196 - val_accuracy: 0.0114\n",
      "Epoch 2/8\n",
      "938/938 [==============================] - 75s 80ms/step - loss: 0.0176 - accuracy: 0.0096 - val_loss: 0.0165 - val_accuracy: 0.0107\n",
      "Epoch 3/8\n",
      "938/938 [==============================] - 73s 78ms/step - loss: 0.0143 - accuracy: 0.0071 - val_loss: 0.0151 - val_accuracy: 0.0094\n",
      "Epoch 4/8\n",
      "938/938 [==============================] - 73s 78ms/step - loss: 0.0124 - accuracy: 0.0052 - val_loss: 0.0154 - val_accuracy: 0.0088\n",
      "Epoch 5/8\n",
      "938/938 [==============================] - 72s 77ms/step - loss: 0.0113 - accuracy: 0.0043 - val_loss: 0.0154 - val_accuracy: 0.0091\n",
      "Epoch 6/8\n",
      "938/938 [==============================] - 77s 82ms/step - loss: 0.0102 - accuracy: 0.0035 - val_loss: 0.0147 - val_accuracy: 0.0095\n",
      "Epoch 7/8\n",
      "938/938 [==============================] - 72s 76ms/step - loss: 0.0094 - accuracy: 0.0028 - val_loss: 0.0138 - val_accuracy: 0.0090\n",
      "Epoch 8/8\n",
      "938/938 [==============================] - 72s 76ms/step - loss: 0.0088 - accuracy: 0.0025 - val_loss: 0.0141 - val_accuracy: 0.0090\n"
     ]
    }
   ],
   "source": [
    "# Train\n",
    "history = model.fit(\n",
    "    [pair_1, pair_2], labels_train,\n",
    "    validation_data=([pair_1_test, pair_2_test], labels_test),\n",
    "    batch_size=128,\n",
    "    epochs=8\n",
    ")"
   ]
  },
  {
   "cell_type": "code",
   "execution_count": 66,
   "id": "afb80791-c085-4868-9041-f627bd10f52c",
   "metadata": {},
   "outputs": [
    {
     "data": {
      "image/png": "[encoded data removed]",
      "text/plain": [
       "<Figure size 640x480 with 1 Axes>"
      ]
     },
     "metadata": {},
     "output_type": "display_data"
    }
   ],
   "source": [
    "# Plot loss curve\n",
    "plt.plot(history.history['loss'], label='train loss')\n",
    "plt.plot(history.history['val_loss'], label='val loss')\n",
    "plt.legend()\n",
    "plt.show()"
   ]
  },
  {
   "cell_type": "code",
   "execution_count": null,
   "id": "b4a42bb6-3b1c-4cdc-b154-5d9c10acb9f6",
   "metadata": {},
   "outputs": [],
   "source": []
  },
  {
   "cell_type": "code",
   "execution_count": null,
   "id": "4a9affc7-92a2-40af-92f3-bb4c9fe60552",
   "metadata": {},
   "outputs": [],
   "source": []
  },
  {
   "cell_type": "code",
   "execution_count": 89,
   "id": "ef40f062-beb0-46ef-9d0c-8cef838bf444",
   "metadata": {},
   "outputs": [],
   "source": [
    "# making preds\n",
    "# evaluation"
   ]
  },
  {
   "cell_type": "code",
   "execution_count": 93,
   "id": "41edb52e-393d-424e-b652-ae13726dd5fa",
   "metadata": {},
   "outputs": [
    {
     "name": "stdout",
     "output_type": "stream",
     "text": [
      "1/1 [==============================] - 0s 20ms/step\n"
     ]
    },
    {
     "data": {
      "text/plain": [
       "array([[1.2554563]], dtype=float32)"
      ]
     },
     "execution_count": 93,
     "metadata": {},
     "output_type": "execute_result"
    }
   ],
   "source": [
    "#pred = model.predict([pair_1_test[7], pair_2_test[7]])\n",
    "img1 = np.expand_dims(pair_1_test[7], axis=0)  # shape: (1, 28, 28, 1)\n",
    "img2 = np.expand_dims(pair_2_test[7], axis=0)\n",
    "pred = model.predict([img1, img2])\n",
    "pred # is the euclidean distance\n"
   ]
  },
  {
   "cell_type": "code",
   "execution_count": 92,
   "id": "381f15b7-4273-4016-82c2-41925d5bea2b",
   "metadata": {},
   "outputs": [],
   "source": [
    "def plot_pair(img1, img2, true_label=None, prediction=None):\n",
    "    plt.figure(figsize=(4, 2))\n",
    "\n",
    "    # First image\n",
    "    ax1 = plt.subplot(1, 2, 1)\n",
    "    plt.imshow(img1.squeeze(), cmap=\"gray\")\n",
    "    plt.axis(\"off\")\n",
    "    ax1.set_title(\"Image 1\")\n",
    "\n",
    "    # Second image\n",
    "    ax2 = plt.subplot(1, 2, 2)\n",
    "    plt.imshow(img2.squeeze(), cmap=\"gray\")\n",
    "    plt.axis(\"off\")\n",
    "    title = \"Image 2\"\n",
    "    if true_label is not None:\n",
    "        title += f\"\\nTrue: {true_label}\"\n",
    "    if prediction is not None:\n",
    "        title += f\"\\nPred: {prediction:.2f}\"\n",
    "    ax2.set_title(title)\n",
    "\n",
    "    plt.tight_layout()\n",
    "    plt.show()\n"
   ]
  },
  {
   "cell_type": "code",
   "execution_count": 94,
   "id": "d4ff3a26-1a0c-4126-bf8b-6db1a236c93c",
   "metadata": {},
   "outputs": [
    {
     "name": "stdout",
     "output_type": "stream",
     "text": [
      "1/1 [==============================] - 0s 19ms/step\n"
     ]
    },
    {
     "data": {
      "image/png": "[encoded data removed]",
      "text/plain": [
       "<Figure size 400x200 with 2 Axes>"
      ]
     },
     "metadata": {},
     "output_type": "display_data"
    }
   ],
   "source": [
    "i = 7\n",
    "img1 = pair_1_test[i]\n",
    "img2 = pair_2_test[i]\n",
    "true_label = labels_test[i]\n",
    "\n",
    "# Add batch dimension for prediction\n",
    "pred = model.predict([np.expand_dims(img1, 0), np.expand_dims(img2, 0)]).item()\n",
    "\n",
    "plot_pair(img1, img2, true_label, pred)\n"
   ]
  },
  {
   "cell_type": "code",
   "execution_count": null,
   "id": "eec52a2b-58cc-4fd4-b99d-ca9366310779",
   "metadata": {},
   "outputs": [],
   "source": []
  },
  {
   "cell_type": "code",
   "execution_count": null,
   "id": "863ed8e5-36a8-41ee-b82b-b80d2d254698",
   "metadata": {},
   "outputs": [],
   "source": []
  },
  {
   "cell_type": "code",
   "execution_count": 87,
   "id": "b7cf2b3c-f0c4-43e5-8947-93b866b0a22c",
   "metadata": {},
   "outputs": [],
   "source": [
    "def plot_image_pairs_with_predictions(pairs, true_labels, predictions, num_pairs=5):\n",
    "    \"\"\"\n",
    "    Plots image pairs with their predicted similarity and true label.\n",
    "    - `pairs`: list/array of image pairs [(img1, img2), ...]\n",
    "    - `true_labels`: list/array of 0 or 1 labels\n",
    "    - `predictions`: model predictions (probabilities or distances)\n",
    "    \"\"\"\n",
    "    plt.figure(figsize=(num_pairs * 3, 4))\n",
    "    \n",
    "    for i in range(num_pairs):\n",
    "        pair = pairs[i]\n",
    "        true_label = int(true_labels[i])\n",
    "        pred = predictions[i]\n",
    "        \n",
    "        # First image\n",
    "        ax = plt.subplot(2, num_pairs, i + 1)\n",
    "        plt.imshow(pair[0].squeeze(), cmap=\"gray\")\n",
    "        plt.axis(\"off\")\n",
    "        ax.set_title(f\"True: {true_label}, Distance: {pred.item():.2f}\")\n",
    "        \n",
    "        # Second image\n",
    "        ax = plt.subplot(2, num_pairs, i + 1 + num_pairs)\n",
    "        plt.imshow(pair[1].squeeze(), cmap=\"gray\")\n",
    "        plt.axis(\"off\")\n",
    "        #ax.set_title(f\"Pred: {pred.item():.2f}\")\n",
    "\n",
    "\n",
    "    plt.tight_layout()\n",
    "    plt.show()\n"
   ]
  },
  {
   "cell_type": "code",
   "execution_count": 88,
   "id": "d9e89989-0736-424a-8a70-0c4346c751a3",
   "metadata": {},
   "outputs": [
    {
     "name": "stdout",
     "output_type": "stream",
     "text": [
      "1/1 [==============================] - 0s 23ms/step\n"
     ]
    },
    {
     "data": {
      "image/png": "[encoded data removed]",
      "text/plain": [
       "<Figure size 1500x400 with 10 Axes>"
      ]
     },
     "metadata": {},
     "output_type": "display_data"
    }
   ],
   "source": [
    "preds = model.predict([pair_1_test[:10], pair_2_test[:10]])\n",
    "plot_image_pairs_with_predictions(pairs_test, labels_test, preds)\n"
   ]
  },
  {
   "cell_type": "code",
   "execution_count": null,
   "id": "d954458e-2720-4e8d-b83c-b6e704b6b683",
   "metadata": {},
   "outputs": [],
   "source": []
  },
  {
   "cell_type": "code",
   "execution_count": null,
   "id": "da29f090-a6b0-4a01-ab63-47e0f1cb8f1e",
   "metadata": {},
   "outputs": [],
   "source": []
  },
  {
   "cell_type": "markdown",
   "id": "80c56acd-3208-4a38-8b3d-e7012c4377c2",
   "metadata": {},
   "source": [
    "## evaluation"
   ]
  },
  {
   "cell_type": "code",
   "execution_count": 95,
   "id": "ae2fd180-74cc-47de-aa69-0a21df89ba39",
   "metadata": {},
   "outputs": [
    {
     "name": "stdout",
     "output_type": "stream",
     "text": [
      "625/625 [==============================] - 4s 6ms/step\n"
     ]
    }
   ],
   "source": [
    "distances = model.predict([pair_1_test, pair_2_test]).squeeze()  # shape: (N,)\n"
   ]
  },
  {
   "cell_type": "code",
   "execution_count": 96,
   "id": "ea1519c1-df32-4986-b03c-3515206dac6c",
   "metadata": {},
   "outputs": [],
   "source": [
    "threshold = 1.0  # you can tune this\n",
    "binary_preds = (distances < threshold).astype(int)\n"
   ]
  },
  {
   "cell_type": "code",
   "execution_count": 97,
   "id": "e9388c0b-b47b-4416-9638-c6f96e4fb2c1",
   "metadata": {},
   "outputs": [
    {
     "name": "stdout",
     "output_type": "stream",
     "text": [
      "Accuracy: 0.867067067067067\n",
      "Precision: 0.7901107594936709\n",
      "Recall: 0.9996996996996997\n",
      "F1 Score: 0.8826336721166593\n",
      "Confusion Matrix:\n",
      " [[7337 2653]\n",
      " [   3 9987]]\n"
     ]
    }
   ],
   "source": [
    "from sklearn.metrics import accuracy_score, precision_score, recall_score, f1_score, confusion_matrix\n",
    "\n",
    "y_true = labels_test\n",
    "\n",
    "print(\"Accuracy:\", accuracy_score(y_true, binary_preds))\n",
    "print(\"Precision:\", precision_score(y_true, binary_preds))\n",
    "print(\"Recall:\", recall_score(y_true, binary_preds))\n",
    "print(\"F1 Score:\", f1_score(y_true, binary_preds))\n",
    "print(\"Confusion Matrix:\\n\", confusion_matrix(y_true, binary_preds))\n"
   ]
  },
  {
   "cell_type": "code",
   "execution_count": null,
   "id": "2f7c9784-1bac-41e1-affe-05d6cf919e9c",
   "metadata": {},
   "outputs": [],
   "source": []
  },
  {
   "cell_type": "code",
   "execution_count": null,
   "id": "2d94ad17-5677-4cc9-9346-41f439d0a9c3",
   "metadata": {},
   "outputs": [],
   "source": []
  },
  {
   "cell_type": "code",
   "execution_count": 100,
   "id": "79593095-360b-4aae-b545-5e022083a547",
   "metadata": {},
   "outputs": [
    {
     "name": "stdout",
     "output_type": "stream",
     "text": [
      "Best threshold: 0.60, Best F1: 0.99\n"
     ]
    }
   ],
   "source": [
    "# Tune threshold\n",
    "import numpy as np\n",
    "\n",
    "best_thresh = 0\n",
    "best_f1 = 0\n",
    "\n",
    "for t in np.linspace(0.1, 2.0, 50):\n",
    "    preds = (distances < t).astype(int)\n",
    "    f1 = f1_score(y_true, preds)\n",
    "    if f1 > best_f1:\n",
    "        best_f1 = f1\n",
    "        best_thresh = t\n",
    "\n",
    "print(f\"Best threshold: {best_thresh:.2f}, Best F1: {best_f1:.2f}\")\n"
   ]
  },
  {
   "cell_type": "code",
   "execution_count": null,
   "id": "1a0d6add-9558-4ffe-811b-9920e6fe68a5",
   "metadata": {},
   "outputs": [],
   "source": []
  },
  {
   "cell_type": "code",
   "execution_count": null,
   "id": "dacf1807-7f84-4bf9-83ea-5a9ae401e90b",
   "metadata": {},
   "outputs": [],
   "source": []
  },
  {
   "cell_type": "markdown",
   "id": "3e673839-3d78-4d67-b348-d79e87f3e32f",
   "metadata": {},
   "source": [
    "Your confusion matrix is 2×2 because your labels are binary:\n",
    "\n",
    "1 means \"same\" (the two images belong to the same class)\n",
    "\n",
    "0 means \"different\" (the two images belong to different classes)"
   ]
  },
  {
   "cell_type": "code",
   "execution_count": null,
   "id": "98f17923-6f67-449e-b51b-f7437c83768a",
   "metadata": {},
   "outputs": [],
   "source": [
    "# embedded visualization"
   ]
  },
  {
   "cell_type": "code",
   "execution_count": null,
   "id": "19228804-1723-4787-837a-6caa1972ff72",
   "metadata": {},
   "outputs": [],
   "source": []
  }
 ],
 "metadata": {
  "kernelspec": {
   "display_name": "Python 3 (ipykernel)",
   "language": "python",
   "name": "python3"
  },
  "language_info": {
   "codemirror_mode": {
    "name": "ipython",
    "version": 3
   },
   "file_extension": ".py",
   "mimetype": "text/x-python",
   "name": "python",
   "nbconvert_exporter": "python",
   "pygments_lexer": "ipython3",
   "version": "3.10.12"
  }
 },
 "nbformat": 4,
 "nbformat_minor": 5
}
