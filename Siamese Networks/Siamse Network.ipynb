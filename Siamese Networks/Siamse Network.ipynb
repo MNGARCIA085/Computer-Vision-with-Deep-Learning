{
 "cells": [
  {
   "cell_type": "markdown",
   "id": "369c39e1-1678-4f05-bb7f-a7708cbb45a4",
   "metadata": {},
   "source": [
    "# <b> <center> <font color='#7B241C'> SIAMESE NETOWRK WITH CONTRASTIVE LOSS </font> </center> </b>"
   ]
  },
  {
   "cell_type": "markdown",
   "id": "110459d2-5342-4c37-ad4d-83cc82f10df6",
   "metadata": {},
   "source": [
    "## <font color='blue'> Table of Contents </font>\n",
    "\n",
    "1. [Introduction](#1)\n",
    "2. [Setup](#2)\n",
    "3. [Helper Functions](#3)\n",
    "4. [Data Loading and Pre-processing](#4)\n",
    "5. [Contrastive Loss](#5)\n",
    "6. [Build and compile the model](#6)\n",
    "7. [Training the model](#7)\n",
    "8. [Making predictions](#8)\n",
    "9. [Evaluation](#9)\n",
    "10. [References](#references)"
   ]
  },
  {
   "cell_type": "markdown",
   "id": "acfa045b-44f8-4986-86e0-a0efff10a66b",
   "metadata": {},
   "source": [
    "<a name=\"1\"></a>\n",
    "## <b> <font color='red'> 1. Introduction </font> </b>\n",
    "\n",
    "We will implement a Siamese neural network to learn a similarity function for handwritten digits. Instead of classifying digits directly, the network learns to determine whether two input images belong to the same class or not.\n",
    "\n",
    "We use contrastive loss to train the model, encouraging the network to produce similar embeddings for images of the same digit and dissimilar embeddings for images of different digits. This approach is useful for tasks like one-shot learning or verification systems, where comparing pairs is more relevant than classifying each input.\n",
    "\n",
    "We'll work with the MNIST dataset and train the network using image pairs and binary labels indicating whether the digits match.\n"
   ]
  },
  {
   "cell_type": "markdown",
   "id": "1cf78e71-4898-4d08-9ff2-8723753a93c4",
   "metadata": {},
   "source": [
    "<a name=\"2\"></a>\n",
    "## <b> <font color='red'> 2. Setup </font> </b>"
   ]
  },
  {
   "cell_type": "code",
   "execution_count": 29,
   "id": "3ba13ded-461f-4c55-bc04-22305a849e3e",
   "metadata": {},
   "outputs": [],
   "source": [
    "import tensorflow as tf\n",
    "from tensorflow.keras import layers, Model\n",
    "import numpy as np\n",
    "import matplotlib.pyplot as plt\n",
    "from sklearn.metrics import accuracy_score, precision_score, recall_score, f1_score, confusion_matrix"
   ]
  },
  {
   "cell_type": "markdown",
   "id": "58dc7cef-548f-4447-817f-ddcedeb7d382",
   "metadata": {},
   "source": [
    "<a name=\"3\"></a>\n",
    "## <b> <font color='red'> 3. Helper Functions </font> </b>"
   ]
  },
  {
   "cell_type": "code",
   "execution_count": 25,
   "id": "bebfd6d5-ad9b-4d43-aa55-149f31edc186",
   "metadata": {},
   "outputs": [],
   "source": [
    "# plot image pairs\n",
    "def plot_image_pairs(pairs, labels, num_pairs=5):\n",
    "    \"\"\"\n",
    "    Plots `num_pairs` image pairs with their labels.\n",
    "    \"\"\"\n",
    "    plt.figure(figsize=(num_pairs * 2.5, 3))\n",
    "    \n",
    "    for i in range(num_pairs):\n",
    "        pair = pairs[i]\n",
    "        label = int(labels[i])\n",
    "        \n",
    "        # First image\n",
    "        ax = plt.subplot(2, num_pairs, i + 1) # Top row: first image of pair\n",
    "        plt.imshow(pair[0].squeeze(), cmap=\"gray\")\n",
    "        plt.axis(\"off\")\n",
    "        ax.set_title(f\"Label: {label}\")\n",
    "        \n",
    "        # Second image\n",
    "        ax = plt.subplot(2, num_pairs, i + 1 + num_pairs) # Bottom row: second image of pair\n",
    "        plt.imshow(pair[1].squeeze(), cmap=\"gray\")\n",
    "        plt.axis(\"off\")\n",
    "\n",
    "    plt.tight_layout()\n",
    "    plt.show()\n",
    "\n",
    "\n",
    "# plot history\n",
    "def plot_history(history):\n",
    "    plt.plot(history.history['loss'], label='train loss')\n",
    "    plt.plot(history.history['val_loss'], label='val loss')\n",
    "    plt.legend()\n",
    "    plt.show()\n",
    "\n",
    "\n",
    "# plot images and prediction\n",
    "def plot_image_pairs_with_predictions(pairs, true_labels, predictions, num_pairs=5):\n",
    "    \"\"\"\n",
    "    Plots image pairs with their predicted similarity and true label.\n",
    "    - `pairs`: list/array of image pairs [(img1, img2), ...]\n",
    "    - `true_labels`: list/array of 0 or 1 labels\n",
    "    - `predictions`: model predictions (probabilities or distances)\n",
    "    \"\"\"\n",
    "    plt.figure(figsize=(num_pairs * 3, 4))\n",
    "    \n",
    "    for i in range(num_pairs):\n",
    "        pair = pairs[i]\n",
    "        true_label = int(true_labels[i])\n",
    "        pred = predictions[i]\n",
    "        \n",
    "        # First image\n",
    "        ax = plt.subplot(2, num_pairs, i + 1)\n",
    "        plt.imshow(pair[0].squeeze(), cmap=\"gray\")\n",
    "        plt.axis(\"off\")\n",
    "        ax.set_title(f\"True: {true_label}, Distance: {pred.item():.2f}\")\n",
    "        \n",
    "        # Second image\n",
    "        ax = plt.subplot(2, num_pairs, i + 1 + num_pairs)\n",
    "        plt.imshow(pair[1].squeeze(), cmap=\"gray\")\n",
    "        plt.axis(\"off\")\n",
    "        #ax.set_title(f\"Pred: {pred.item():.2f}\")\n",
    "\n",
    "\n",
    "    plt.tight_layout()\n",
    "    plt.show()\n"
   ]
  },
  {
   "cell_type": "markdown",
   "id": "f8e3370a-10de-479e-96b8-2dcb6a392654",
   "metadata": {},
   "source": [
    "<a name=\"4\"></a>\n",
    "## <b> <font color='red'> 4. Data Loading and Pre-processing </font> </b>"
   ]
  },
  {
   "cell_type": "code",
   "execution_count": 7,
   "id": "42b08256-05f0-4fce-b66c-a1a3fa4b194f",
   "metadata": {},
   "outputs": [
    {
     "name": "stdout",
     "output_type": "stream",
     "text": [
      "(60000, 28, 28) (10000, 28, 28)\n"
     ]
    },
    {
     "data": {
      "text/plain": [
       "((60000, 28, 28, 1), (10000, 28, 28, 1))"
      ]
     },
     "execution_count": 7,
     "metadata": {},
     "output_type": "execute_result"
    }
   ],
   "source": [
    "# Load MNIST\n",
    "(x_train, y_train), (x_test, y_test) = tf.keras.datasets.mnist.load_data()\n",
    "x_train = x_train.astype(\"float32\") / 255.\n",
    "x_test = x_test.astype(\"float32\") / 255.\n",
    "\n",
    "print(x_train.shape, x_test.shape)\n",
    "\n",
    "# Add channel dimension\n",
    "x_train = np.expand_dims(x_train, -1)\n",
    "x_test = np.expand_dims(x_test, -1)\n",
    "\n",
    "x_train.shape, x_test.shape\n"
   ]
  },
  {
   "cell_type": "markdown",
   "id": "7e46b327-226a-41d5-bb8e-8241a21539e3",
   "metadata": {},
   "source": [
    "We will generate pairs of images to train a model to recognize similarity. Each pair will consist of two images:\n",
    "\n",
    "- If both images show the same digit, the pair is considered a positive pair and labeled with a 1.\n",
    "\n",
    "- If the images show different digits, the pair is a negative pair and labeled with a 0.\n"
   ]
  },
  {
   "cell_type": "code",
   "execution_count": 8,
   "id": "525b4b0e-b03f-4759-aaa7-e79eeaea1cac",
   "metadata": {},
   "outputs": [
    {
     "name": "stdout",
     "output_type": "stream",
     "text": [
      "Pairs train shape: (119980, 2, 28, 28, 1)\n",
      "Labels train shape: (119980,)\n"
     ]
    }
   ],
   "source": [
    "# Function to create pairs (positive and negative)\n",
    "def create_pairs(x, y):\n",
    "    pairs = []\n",
    "    labels = []\n",
    "    num_classes = 10\n",
    "    digit_indices = [np.where(y == i)[0] for i in range(num_classes)]\n",
    "\n",
    "    for d in range(num_classes):\n",
    "        for i in range(len(digit_indices[d]) - 1):\n",
    "            # Positive pair\n",
    "            idx1, idx2 = digit_indices[d][i], digit_indices[d][i + 1]\n",
    "            pairs.append([x[idx1], x[idx2]])\n",
    "            labels.append(1)\n",
    "\n",
    "            # Negative pair\n",
    "            neg_class = (d + 1) % num_classes\n",
    "            idx1 = digit_indices[d][i]\n",
    "            idx2 = np.random.choice(digit_indices[neg_class])\n",
    "            pairs.append([x[idx1], x[idx2]])\n",
    "            labels.append(0)\n",
    "    return np.array(pairs), np.array(labels).astype(\"float32\")\n",
    "\n",
    "pairs_train, labels_train = create_pairs(x_train, y_train)\n",
    "pairs_test, labels_test = create_pairs(x_test, y_test)\n",
    "\n",
    "print(\"Pairs train shape:\", pairs_train.shape)\n",
    "print(\"Labels train shape:\", labels_train.shape)"
   ]
  },
  {
   "cell_type": "markdown",
   "id": "950e25c0-4972-4bcb-9fd2-0335db4fef06",
   "metadata": {},
   "source": [
    "We can see that, for training, we have 1198980 pairs of images as features, where each image has a shape of 28×28×1.\n"
   ]
  },
  {
   "cell_type": "code",
   "execution_count": 11,
   "id": "d75d70dc-c99a-46ef-a14d-577988c49526",
   "metadata": {},
   "outputs": [
    {
     "data": {
      "image/png": "[encoded data removed]",
      "text/plain": [
       "<Figure size 1500x300 with 12 Axes>"
      ]
     },
     "metadata": {},
     "output_type": "display_data"
    }
   ],
   "source": [
    "plot_image_pairs(pairs_train, labels_train, num_pairs=6)\n"
   ]
  },
  {
   "cell_type": "markdown",
   "id": "4d7c2398-3c1c-4858-98c2-12d9ca99016b",
   "metadata": {},
   "source": [
    "<a name=\"5\"></a>\n",
    "## <b> <font color='red'> 5. Contrastive Loss </font> </b>\n",
    "\n",
    "The goal of contrastive loss is to bring similar instances closer together in the embedding space and push apart dissimilar instances.\n",
    "\n",
    "Contrastive loss is used to learn embeddings such that similar pairs are pulled closer and dissimilar pairs are pushed apart in the embedding space.\n",
    "\n",
    "**Contrastive Loss**\n",
    "\n",
    "Given two embeddings **x₁** and **x₂**, and a label **y**:\n",
    "\n",
    "- y = 1 if they are similar\n",
    "- y = 0 if they are dissimilar\n",
    "\n",
    "The loss is defined as:\n",
    "\n",
    "$$\n",
    "L = y \\cdot D^2 + (1 - y) \\cdot \\max(0, m - D)^2\n",
    "$$\n",
    "\n",
    "where:\n",
    "\n",
    "- D is a distance\n",
    "- m is a margin that defines how far apart dissimilar pairs should be.\n"
   ]
  },
  {
   "cell_type": "code",
   "execution_count": 13,
   "id": "d3dd1b3b-f1da-4914-b0da-1b0fa292cfaa",
   "metadata": {},
   "outputs": [],
   "source": [
    "# Contrastive loss (assumimg y_pred is the distance D, which will be in our case)\n",
    "def contrastive_loss(y_true, y_pred, margin=1):\n",
    "    square_pred = tf.square(y_pred)\n",
    "    margin_square = tf.square(tf.maximum(margin - y_pred, 0))\n",
    "    return tf.reduce_mean(y_true * square_pred + (1 - y_true) * margin_square)"
   ]
  },
  {
   "cell_type": "markdown",
   "id": "3c0a7fa2-2387-4a7b-a667-9f279fa1ab61",
   "metadata": {},
   "source": [
    "**Euclidean Distance**\n",
    "\n",
    "Contrastive loss trains a Siamese network to pull similar samples closer in embedding space and push dissimilar ones apart. To do this, the network needs a way to measure how \"far apart\" two embeddings are — and that's where Euclidean distance comes in.\n",
    "\n",
    "D is a distance, and the most commonly used with the constrative loss is the euclidean distance.\n",
    "\n",
    "$$\n",
    "D = \\| x_1 - x_2 \\|_2  $$ is the Euclidean distance between the embeddings."
   ]
  },
  {
   "cell_type": "code",
   "execution_count": 14,
   "id": "ac4cb27f-e2d3-4692-820a-3c5d6f04d81b",
   "metadata": {},
   "outputs": [],
   "source": [
    "# Compute Euclidean distance between embeddings\n",
    "def euclidean_distance(vects):\n",
    "    x, y = vects\n",
    "    sum_square = tf.reduce_sum(tf.square(x - y), axis=1, keepdims=True)\n",
    "    return tf.sqrt(tf.maximum(sum_square, 1e-10))"
   ]
  },
  {
   "cell_type": "markdown",
   "id": "30cbe92c-a14d-4e05-baf7-312721ffd76f",
   "metadata": {},
   "source": [
    "<a name=\"6\"></a>\n",
    "## <b> <font color='red'> 6. Build and compile the model </font> </b>\n",
    "\n",
    "\n",
    "We will build the following network:\n",
    "\n",
    "<img src=\"images/SiameseNetworkWithLoss.png\"/>\n",
    "\n"
   ]
  },
  {
   "cell_type": "code",
   "execution_count": 15,
   "id": "d41e524c-e66f-41a8-a622-b9c1efd50f23",
   "metadata": {},
   "outputs": [],
   "source": [
    "# Define the base network (simple CNN)\n",
    "def base_network(input_shape):\n",
    "    input = layers.Input(shape=input_shape)\n",
    "    x = layers.Conv2D(32, 3, activation=\"relu\")(input)\n",
    "    x = layers.MaxPooling2D()(x)\n",
    "    x = layers.Conv2D(64, 3, activation=\"relu\")(x)\n",
    "    x = layers.MaxPooling2D()(x)\n",
    "    x = layers.Flatten()(x)\n",
    "    x = layers.Dense(128, activation=\"relu\")(x)\n",
    "    return Model(input, x)\n",
    "\n",
    "input_shape = x_train.shape[1:]\n",
    "base_net = base_network(input_shape)\n",
    "\n",
    "# Define inputs\n",
    "input_a = layers.Input(shape=input_shape)\n",
    "input_b = layers.Input(shape=input_shape)\n",
    "\n",
    "# Get embeddings\n",
    "processed_a = base_net(input_a)\n",
    "processed_b = base_net(input_b)\n",
    "\n",
    "\n",
    "distance = layers.Lambda(euclidean_distance)([processed_a, processed_b])\n",
    "\n",
    "# Define the Siamese model\n",
    "model = Model([input_a, input_b], distance)\n"
   ]
  },
  {
   "cell_type": "code",
   "execution_count": 16,
   "id": "50f47faf-c900-41c5-86ad-b3a9f39ea735",
   "metadata": {},
   "outputs": [
    {
     "data": {
      "image/png": "[encoded data removed]",
      "text/plain": [
       "<IPython.core.display.Image object>"
      ]
     },
     "execution_count": 16,
     "metadata": {},
     "output_type": "execute_result"
    }
   ],
   "source": [
    "tf.keras.utils.plot_model(model)"
   ]
  },
  {
   "cell_type": "code",
   "execution_count": 17,
   "id": "92eb691d-e2ab-4304-9f93-9025a5eaf87e",
   "metadata": {},
   "outputs": [],
   "source": [
    "# Compile\n",
    "model.compile(loss=contrastive_loss, \n",
    "              optimizer=\"adam\", \n",
    "              metrics=[\"accuracy\"])"
   ]
  },
  {
   "cell_type": "markdown",
   "id": "edf3f7a5-d004-45f5-b3d7-2c6d065a9885",
   "metadata": {},
   "source": [
    "<a name=\"7\"></a>\n",
    "## <b> <font color='red'> 7. Training the model </font> </b>"
   ]
  },
  {
   "cell_type": "code",
   "execution_count": 19,
   "id": "38066ebe-7461-4c17-8f23-ef11fb1c6501",
   "metadata": {},
   "outputs": [],
   "source": [
    "# Prepare data for training\n",
    "pair_1 = pairs_train[:, 0]  # all first images in the pairs\n",
    "pair_2 = pairs_train[:, 1]  # all second images in the pairs\n",
    "\n",
    "pair_1_test = pairs_test[:, 0]\n",
    "pair_2_test = pairs_test[:, 1]"
   ]
  },
  {
   "cell_type": "markdown",
   "id": "74388f5e-8d60-41fb-9de0-6ef77f186e85",
   "metadata": {},
   "source": [
    "pair_1[i] and pair_2[i] give you the two images forming the i-th pair."
   ]
  },
  {
   "cell_type": "code",
   "execution_count": 20,
   "id": "3dbbbc62-573c-4272-9a69-d7c2e994c29e",
   "metadata": {},
   "outputs": [
    {
     "name": "stderr",
     "output_type": "stream",
     "text": [
      "2025-05-27 17:09:44.751001: W external/local_tsl/tsl/framework/cpu_allocator_impl.cc:83] Allocation of 376257280 exceeds 10% of free system memory.\n",
      "2025-05-27 17:09:46.586689: W external/local_tsl/tsl/framework/cpu_allocator_impl.cc:83] Allocation of 376257280 exceeds 10% of free system memory.\n",
      "2025-05-27 17:10:51.170284: W external/local_tsl/tsl/framework/cpu_allocator_impl.cc:83] Allocation of 62657280 exceeds 10% of free system memory.\n",
      "2025-05-27 17:10:51.234511: W external/local_tsl/tsl/framework/cpu_allocator_impl.cc:83] Allocation of 62657280 exceeds 10% of free system memory.\n"
     ]
    }
   ],
   "source": [
    "# Train\n",
    "history = model.fit(\n",
    "    [pair_1, pair_2], labels_train,\n",
    "    validation_data=([pair_1_test, pair_2_test], labels_test),\n",
    "    batch_size=128,\n",
    "    verbose=0,\n",
    "    epochs=8\n",
    ")"
   ]
  },
  {
   "cell_type": "code",
   "execution_count": 23,
   "id": "afb80791-c085-4868-9041-f627bd10f52c",
   "metadata": {},
   "outputs": [
    {
     "data": {
      "image/png": "[encoded data removed]",
      "text/plain": [
       "<Figure size 640x480 with 1 Axes>"
      ]
     },
     "metadata": {},
     "output_type": "display_data"
    }
   ],
   "source": [
    "# Plot loss curve\n",
    "plot_history(history)"
   ]
  },
  {
   "cell_type": "markdown",
   "id": "858f10b7-c1f2-45b0-aa54-d32450e28f5d",
   "metadata": {},
   "source": [
    "<a name=\"8\"></a>\n",
    "## <b> <font color='red'> 8. Making predictions </font> </b>\n",
    "\n",
    "Let's make a prediction with a test image."
   ]
  },
  {
   "cell_type": "code",
   "execution_count": 24,
   "id": "41edb52e-393d-424e-b652-ae13726dd5fa",
   "metadata": {},
   "outputs": [
    {
     "name": "stdout",
     "output_type": "stream",
     "text": [
      "1/1 [==============================] - 0s 101ms/step\n"
     ]
    },
    {
     "data": {
      "text/plain": [
       "array([[1.142725]], dtype=float32)"
      ]
     },
     "execution_count": 24,
     "metadata": {},
     "output_type": "execute_result"
    }
   ],
   "source": [
    "img_id = 7\n",
    "\n",
    "img1 = np.expand_dims(pair_1_test[img_id], axis=0)  # shape: (1, 28, 28, 1)\n",
    "img2 = np.expand_dims(pair_2_test[img_id], axis=0)\n",
    "pred = model.predict([img1, img2])\n",
    "pred # is the euclidean distance\n"
   ]
  },
  {
   "cell_type": "markdown",
   "id": "568c7267-843d-4510-91a6-f531e674d3f7",
   "metadata": {},
   "source": [
    "We can see that the output is the distance between two processed inputs. "
   ]
  },
  {
   "cell_type": "markdown",
   "id": "85234531-75b6-4591-8b18-33fbde7bfd95",
   "metadata": {},
   "source": [
    "Now, let's make a few predictions and plot the results."
   ]
  },
  {
   "cell_type": "code",
   "execution_count": 26,
   "id": "d9e89989-0736-424a-8a70-0c4346c751a3",
   "metadata": {},
   "outputs": [
    {
     "name": "stdout",
     "output_type": "stream",
     "text": [
      "1/1 [==============================] - 0s 20ms/step\n"
     ]
    },
    {
     "data": {
      "image/png": "[encoded data removed]",
      "text/plain": [
       "<Figure size 1500x400 with 10 Axes>"
      ]
     },
     "metadata": {},
     "output_type": "display_data"
    }
   ],
   "source": [
    "preds = model.predict([pair_1_test[:10], pair_2_test[:10]])\n",
    "plot_image_pairs_with_predictions(pairs_test, labels_test, preds)\n"
   ]
  },
  {
   "cell_type": "markdown",
   "id": "41c11a1c-0e44-402c-ae4f-5ae768503b7a",
   "metadata": {},
   "source": [
    "<a name=\"9\"></a>\n",
    "## <b> <font color='red'> 9. Evaluation </font> </b>"
   ]
  },
  {
   "cell_type": "markdown",
   "id": "7f330dbb-9e8f-4de1-926e-0b38c2bf4804",
   "metadata": {},
   "source": [
    "Let's compute the metrics:"
   ]
  },
  {
   "cell_type": "code",
   "execution_count": 27,
   "id": "ae2fd180-74cc-47de-aa69-0a21df89ba39",
   "metadata": {},
   "outputs": [
    {
     "name": "stdout",
     "output_type": "stream",
     "text": [
      "  1/625 [..............................] - ETA: 13s"
     ]
    },
    {
     "name": "stderr",
     "output_type": "stream",
     "text": [
      "2025-05-27 17:29:35.872162: W external/local_tsl/tsl/framework/cpu_allocator_impl.cc:83] Allocation of 62657280 exceeds 10% of free system memory.\n"
     ]
    },
    {
     "name": "stdout",
     "output_type": "stream",
     "text": [
      "625/625 [==============================] - 3s 5ms/step\n"
     ]
    }
   ],
   "source": [
    "distances = model.predict([pair_1_test, pair_2_test]).squeeze()  # shape: (N,)"
   ]
  },
  {
   "cell_type": "code",
   "execution_count": 28,
   "id": "ea1519c1-df32-4986-b03c-3515206dac6c",
   "metadata": {},
   "outputs": [],
   "source": [
    "threshold = 1.0  # you can tune this\n",
    "binary_preds = (distances < threshold).astype(int)"
   ]
  },
  {
   "cell_type": "code",
   "execution_count": 30,
   "id": "e9388c0b-b47b-4416-9638-c6f96e4fb2c1",
   "metadata": {},
   "outputs": [
    {
     "name": "stdout",
     "output_type": "stream",
     "text": [
      "Accuracy: 0.8259759759759759\n",
      "Precision: 0.7418133214524393\n",
      "Recall: 1.0\n",
      "F1 Score: 0.8517713262565545\n",
      "Confusion Matrix:\n",
      " [[6513 3477]\n",
      " [   0 9990]]\n"
     ]
    }
   ],
   "source": [
    "y_true = labels_test\n",
    "\n",
    "print(\"Accuracy:\", accuracy_score(y_true, binary_preds))\n",
    "print(\"Precision:\", precision_score(y_true, binary_preds))\n",
    "print(\"Recall:\", recall_score(y_true, binary_preds))\n",
    "print(\"F1 Score:\", f1_score(y_true, binary_preds))\n",
    "print(\"Confusion Matrix:\\n\", confusion_matrix(y_true, binary_preds))\n"
   ]
  },
  {
   "cell_type": "markdown",
   "id": "b6d4d4b4-3784-4b84-b56d-6898df1981ab",
   "metadata": {},
   "source": [
    "<br>\n",
    "\n",
    "Recall = 1.0: The network never misses a positive pair (pairs of images it should recognize as \"same digit\"). This means all true pairs were detected as similar.\n",
    "\n",
    "Precision = 0.742: About 74% of pairs predicted as \"same digit\" were correct. So, 26% were false positives—pairs predicted similar but actually different digits.\n",
    "\n",
    "Confusion Matrix details:\n",
    "\n",
    "- TN = 6513: Correctly identified different-digit pairs as different.\n",
    "\n",
    "- FP = 3477: Different-digit pairs misclassified as same (false alarms).\n",
    "\n",
    "- FN = 0: No same-digit pairs missed.\n",
    "\n",
    "- TP = 9990: Correctly identified same-digit pairs.\n",
    "\n",
    "What this tells us about the Siamese net on MNIST:\n",
    "\n",
    "- High recall and zero FN is great: Your network successfully retrieves all matching digit pairs.\n",
    "\n",
    "- False positives are still high: 3477 different pairs were classified as similar. This means the embedding space or threshold might be too loose, causing confusion among different digits.\n",
    "- Since MNIST digits can be visually similar (e.g., 1 vs 7, 3 vs 5), the model struggles to fully separate dissimilar pairs."
   ]
  },
  {
   "cell_type": "markdown",
   "id": "fa02993f-5cb5-42a8-b54c-82dce0dfb716",
   "metadata": {},
   "source": [
    "**Note.** The confusion matrix is 2×2 because the labels are binary:\n",
    "\n",
    "- 1 means \"same\" (the two images belong to the same class)\n",
    "\n",
    "- 0 means \"different\" (the two images belong to different classes)"
   ]
  },
  {
   "cell_type": "markdown",
   "id": "9b8b1607-b553-42e2-87e5-0e99fa98aeb9",
   "metadata": {},
   "source": [
    "Let's tune the threshold."
   ]
  },
  {
   "cell_type": "code",
   "execution_count": 31,
   "id": "79593095-360b-4aae-b545-5e022083a547",
   "metadata": {},
   "outputs": [
    {
     "name": "stdout",
     "output_type": "stream",
     "text": [
      "Best threshold: 0.57, Best F1: 0.99\n"
     ]
    }
   ],
   "source": [
    "# Tune threshold\n",
    "\n",
    "best_thresh = 0\n",
    "best_f1 = 0\n",
    "\n",
    "for t in np.linspace(0.1, 2.0, 50):\n",
    "    preds = (distances < t).astype(int)\n",
    "    f1 = f1_score(y_true, preds)\n",
    "    if f1 > best_f1:\n",
    "        best_f1 = f1\n",
    "        best_thresh = t\n",
    "\n",
    "print(f\"Best threshold: {best_thresh:.2f}, Best F1: {best_f1:.2f}\")\n"
   ]
  },
  {
   "cell_type": "markdown",
   "id": "29e08a60-37a1-4069-b7dd-88f2392f7e18",
   "metadata": {},
   "source": [
    "<a name=\"references\"></a>\n",
    "## <b> <font color='red'> References </font>  </b>\n",
    "\n",
    "[Deep Learning Specialization](https://www.coursera.org/learn/convolutional-neural-networks?specialization=deep-learning)\n"
   ]
  }
 ],
 "metadata": {
  "kernelspec": {
   "display_name": "Python 3 (ipykernel)",
   "language": "python",
   "name": "python3"
  },
  "language_info": {
   "codemirror_mode": {
    "name": "ipython",
    "version": 3
   },
   "file_extension": ".py",
   "mimetype": "text/x-python",
   "name": "python",
   "nbconvert_exporter": "python",
   "pygments_lexer": "ipython3",
   "version": "3.10.12"
  }
 },
 "nbformat": 4,
 "nbformat_minor": 5
}
