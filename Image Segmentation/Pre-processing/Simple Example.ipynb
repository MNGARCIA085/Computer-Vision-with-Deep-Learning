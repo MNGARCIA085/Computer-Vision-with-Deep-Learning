{
 "cells": [
  {
   "cell_type": "markdown",
   "id": "d545d3c7-39a5-46f8-a165-b25a1e23947b",
   "metadata": {},
   "source": [
    "# <center><div style=\"color:red\">PRE-PROCESSING: SIMPLE DATA</div></center>"
   ]
  },
  {
   "cell_type": "markdown",
   "id": "f778ebcc-e85b-47ea-9161-8fa2347e5b34",
   "metadata": {},
   "source": [
    "### <font color='blue'> Table of Contents </font>\n",
    "- [1 - Objectives](#1)\n",
    "- [2 - Setup](#2)\n",
    "- [3 - Helper Functions](#3)\n",
    "- [4 - Data](#4) <br>\n",
    "    - [4.1. - Generating Synthetic Data](#4.1)\n",
    "    - [4.2. - Pre-procesing](#4.2)\n",
    "- [5 - Build, compile and train the model](#5)\n",
    "- [6 - Predictions](#6)\n",
    "- [7 - Evaluation](#7)\n",
    "- [8 - Training with Dice Loss](#8)\n",
    "- [9 - References](#references)"
   ]
  },
  {
   "cell_type": "markdown",
   "id": "22d66ecc-0f57-4bf0-9eff-e0576cfb4bbe",
   "metadata": {},
   "source": [
    "<a name=\"1\"></a> \n",
    "## <font color=\"orange\"> <b> 1. Introduction </b> </font>\n",
    "\n",
    "In this notebook, we demonstrate how to perform preprocessing for image segmentation tasks using simple synthetic data. Image segmentation involves classifying each pixel in an image, making preprocessing steps critical for successful training and evaluation of models.\n",
    "\n",
    "We will:\n",
    "\n",
    "- Generate synthetic images and corresponding segmentation masks\n",
    "\n",
    "- Apply common preprocessing techniques such as resizing and normalization.\n",
    "\n",
    "Prepare the data in a format suitable for training deep learning models\n",
    "\n",
    "This notebook is ideal for understanding the preprocessing pipeline in a controlled environment before applying it to real-world datasets."
   ]
  },
  {
   "cell_type": "markdown",
   "id": "2d067439-0746-4f49-a617-2789399780fb",
   "metadata": {},
   "source": [
    "<a name=\"2\"></a> \n",
    "## <font color=\"orange\"> <b> 2. Setup </b> </font>"
   ]
  },
  {
   "cell_type": "code",
   "execution_count": 164,
   "id": "8c1c9f10-a3cb-40a7-a416-9657a8feb880",
   "metadata": {},
   "outputs": [],
   "source": [
    "import os\n",
    "import cv2\n",
    "import random\n",
    "import numpy as np\n",
    "from matplotlib import pyplot as plt\n",
    "import tensorflow as tf"
   ]
  },
  {
   "cell_type": "code",
   "execution_count": 165,
   "id": "e1fe8eb9-147a-4f48-86be-d49d12d8282c",
   "metadata": {},
   "outputs": [],
   "source": [
    "tf.random.set_seed(5)"
   ]
  },
  {
   "cell_type": "code",
   "execution_count": 167,
   "id": "f3c86606-cf73-4482-920a-283e1476bcdf",
   "metadata": {},
   "outputs": [],
   "source": [
    "from dataclasses import dataclass\n",
    "\n",
    "# for default values\n",
    "@dataclass\n",
    "class DataConfig:\n",
    "    batch_size: int = 32\n",
    "    width: int = 224\n",
    "    height: int = 224\n",
    "\n",
    "G = DataConfig()"
   ]
  },
  {
   "cell_type": "markdown",
   "id": "481e4720-e512-495c-9ee9-52715bcdfefe",
   "metadata": {},
   "source": [
    "<a name=\"3\"></a> \n",
    "## <font color=\"orange\"> <b> 3. Synthetic Data Generation for Segmentation </b> </font>"
   ]
  },
  {
   "cell_type": "code",
   "execution_count": 171,
   "id": "2ecaaaa0-95fd-4183-bf69-fa5280b13bf8",
   "metadata": {},
   "outputs": [],
   "source": [
    "# Output folders\n",
    "image_dir = \"synthetic_dataset/images\"\n",
    "mask_dir = \"synthetic_dataset/masks\"\n",
    "os.makedirs(image_dir, exist_ok=True)\n",
    "os.makedirs(mask_dir, exist_ok=True)\n",
    "\n",
    "# Parameters\n",
    "num_samples = 10\n",
    "img_size = 128\n",
    "shape_colors = {\n",
    "    \"square\": (255, 0, 0),  # Red\n",
    "    \"circle\": (0, 255, 0),  # Green\n",
    "}\n",
    "\n",
    "for i in range(num_samples):\n",
    "    img = np.ones((img_size, img_size, 3), dtype=np.uint8) * 255  # white background\n",
    "    mask = np.zeros((img_size, img_size), dtype=np.uint8)         # 0=background\n",
    "\n",
    "    shapes = random.choices([\"square\", \"circle\"], k=random.randint(1, 2))  # at least 5 shape\n",
    "\n",
    "    for shape in shapes:\n",
    "        x, y = random.randint(10, 90), random.randint(10, 90)\n",
    "        size = random.randint(15, 30)\n",
    "\n",
    "        if shape == \"square\":\n",
    "            cv2.rectangle(img, (x, y), (x+size, y+size), shape_colors[\"square\"], -1)\n",
    "            cv2.rectangle(mask, (x, y), (x+size, y+size), 1, -1)\n",
    "        elif shape == \"circle\":\n",
    "            cv2.circle(img, (x, y), size//2, shape_colors[\"circle\"], -1)\n",
    "            cv2.circle(mask, (x, y), size//2, 2, -1)\n",
    "\n",
    "    cv2.imwrite(f\"{image_dir}/img_{i:03d}.png\", img)\n",
    "    cv2.imwrite(f\"{mask_dir}/mask_{i:03d}.png\", mask)\n"
   ]
  },
  {
   "cell_type": "code",
   "execution_count": 172,
   "id": "6ebd92ac-bed1-4f49-9448-4b477c76fcfa",
   "metadata": {},
   "outputs": [
    {
     "data": {
      "image/png": "[encoded data removed]",
      "text/plain": [
       "<Figure size 900x600 with 12 Axes>"
      ]
     },
     "metadata": {},
     "output_type": "display_data"
    }
   ],
   "source": [
    "# Directories\n",
    "image_dir = \"synthetic_dataset/images\"\n",
    "mask_dir = \"synthetic_dataset/masks\"\n",
    "\n",
    "# Number of samples to plot\n",
    "num_samples_to_show = 6  # Multiple of 3 for even rows\n",
    "\n",
    "# Get sample filenames\n",
    "image_filenames = sorted(os.listdir(image_dir))[:num_samples_to_show]\n",
    "mask_filenames = sorted(os.listdir(mask_dir))[:num_samples_to_show]\n",
    "\n",
    "# Plot settings\n",
    "pairs_per_row = 3\n",
    "fig, axs = plt.subplots(num_samples_to_show // pairs_per_row, pairs_per_row * 2, figsize=(pairs_per_row * 3, (num_samples_to_show // pairs_per_row) * 3))\n",
    "\n",
    "for i, (img_file, mask_file) in enumerate(zip(image_filenames, mask_filenames)):\n",
    "    # Load image and mask\n",
    "    img = cv2.imread(os.path.join(image_dir, img_file))\n",
    "    img = cv2.cvtColor(img, cv2.COLOR_BGR2RGB)\n",
    "    mask = cv2.imread(os.path.join(mask_dir, mask_file), cv2.IMREAD_GRAYSCALE)\n",
    "\n",
    "    row = i // pairs_per_row\n",
    "    col = (i % pairs_per_row) * 2\n",
    "\n",
    "    axs[row, col].imshow(img)\n",
    "    axs[row, col].set_title(\"Image\")\n",
    "    axs[row, col].axis(\"off\")\n",
    "\n",
    "    axs[row, col + 1].imshow(mask, cmap='jet', vmin=0, vmax=2)\n",
    "    axs[row, col + 1].set_title(\"Mask\")\n",
    "    axs[row, col + 1].axis(\"off\")\n",
    "\n",
    "plt.tight_layout()\n",
    "plt.show()\n"
   ]
  },
  {
   "cell_type": "code",
   "execution_count": 173,
   "id": "6161d64b-f4ce-4181-9b26-057e141e80a5",
   "metadata": {},
   "outputs": [
    {
     "name": "stdout",
     "output_type": "stream",
     "text": [
      "img_000.png  img_002.png  img_004.png  img_006.png  img_008.png\n",
      "img_001.png  img_003.png  img_005.png  img_007.png  img_009.png\n"
     ]
    }
   ],
   "source": [
    "!ls synthetic_dataset/images"
   ]
  },
  {
   "cell_type": "code",
   "execution_count": 201,
   "id": "de76a0a9-fa22-4c55-a804-632737b40ba9",
   "metadata": {},
   "outputs": [],
   "source": [
    "train_img_dir = \"synthetic_dataset/images\"\n",
    "train_annotation_dir = \"synthetic_dataset/masks\""
   ]
  },
  {
   "cell_type": "markdown",
   "id": "9bce3e29-1955-4186-baf8-e582e22d7a6c",
   "metadata": {},
   "source": [
    "<a name=\"4\"></a> \n",
    "## <font color=\"orange\"> <b> 4. Image and Mask Pre-processing </b> </font>\n",
    "\n",
    "<a name=\"4.1\"></a> \n",
    "### <font color=\"#ca6f1e\"> <b> 4.1. Image Pre-processing </b> </font>\n",
    "\n",
    "We will\n",
    "\n",
    "- Read the image\n",
    "- Resize to the desired size.\n",
    "- Normalize pixel values to [-1, 1]\n",
    "\n",
    "We will take one image as an example."
   ]
  },
  {
   "cell_type": "code",
   "execution_count": 174,
   "id": "507d606d-d423-4f44-8395-3d4087e0fd50",
   "metadata": {},
   "outputs": [],
   "source": [
    "img_path = image_dir + \"/img_007.png\""
   ]
  },
  {
   "cell_type": "code",
   "execution_count": 178,
   "id": "9ef76dd1-90b5-440d-9dc6-99c56d35f0b5",
   "metadata": {},
   "outputs": [
    {
     "data": {
      "image/png": "[encoded data removed]",
      "text/plain": [
       "<Figure size 300x300 with 1 Axes>"
      ]
     },
     "metadata": {},
     "output_type": "display_data"
    }
   ],
   "source": [
    "# plot the image\n",
    "img = mpimg.imread(img_path)\n",
    "\n",
    "plt.figure(figsize=(3,3))\n",
    "\n",
    "plt.imshow(img)\n",
    "plt.axis('off') # Turn off axis labels and ticks\n",
    "plt.show()"
   ]
  },
  {
   "cell_type": "code",
   "execution_count": 180,
   "id": "0b91a26f-5cb1-4bac-90bc-5c38e9e77c68",
   "metadata": {},
   "outputs": [
    {
     "data": {
      "text/plain": [
       "tensorflow.python.framework.ops.EagerTensor"
      ]
     },
     "execution_count": 180,
     "metadata": {},
     "output_type": "execute_result"
    }
   ],
   "source": [
    "# read image\n",
    "img_raw = tf.io.read_file(img_path)\n",
    "type(img_raw)"
   ]
  },
  {
   "cell_type": "code",
   "execution_count": 181,
   "id": "66425df9-94d4-4d64-bd8d-afe67d9a1e9a",
   "metadata": {},
   "outputs": [
    {
     "data": {
      "text/plain": [
       "<tf.Tensor: shape=(), dtype=string, numpy=b'\\x89PNG\\r\\n\\x1a\\n\\x00\\x00\\x00\\rIHDR\\x00\\x00\\x00\\x80\\x00\\x00\\x00\\x80\\x08\\x02\\x00\\x00\\x00L\\\\\\xf6\\x9c\\x00\\x00\\x02\\x1bIDATx\\x01\\xed\\xc1\\x81\\t\\x041\\x0c\\x030{\\xff\\xa1\\xf5;\\x94\\xf2\\x81^\\xa4\"kN\\x915\\xa7\\xc8\\x9aSd\\xcd)\\xb2\\xe6\\x14Ys\\x8a\\xac9E\\xd6\\x9c\"kN\\x915\\xa7\\xc8\\x9aSd\\xcd)\\xb2\\xe6\\x14Ys\\x8a\\xac9E\\xd6\\x9c\"kN\\x915\\xa7\\xc8\\x9aSd\\xcd)\\xb2\\xe6\\x14Ys\\x8a\\xac9E\\xd6\\x9c\"kN\\x915\\xa7\\xc8\\x9aSd\\xcd)\\xb2\\xe6\\x14Ys\\x8a\\xac9E\\xd6\\x9c\"kN\\x915\\xa7\\xc8\\x9aSd\\xcd)\\xb2\\xe6\\x14Ys\\x8a\\xac9E\\xd6\\x9c\"kN\\x915\\xa7\\xc8\\x9aSd\\xcd)\\xb2\\xe6\\x14Ys\\x8a\\xac9E\\xd6\\x9c\"kN\\x915\\xa7\\xc8\\x9aS\\xe4\\xc3\\xda\\\\A\\xce\\x14\\xf9\\xb06W\\x903E>\\xac\\xcd\\x15\\xe4L\\x91\\x0fks\\x059S\\xe4\\xc3\\xda\\\\A\\xce\\x14\\xf9\\xb06W\\x903E>\\xac\\xcd\\x15\\xe4L\\x91\\x0fks\\x059S\\xe4\\xc3\\xda\\\\A\\xce\\x14\\xf9\\xb06W\\x903E>\\xac\\xcd\\x15\\xe4L\\x91\\x0fks\\x059S\\xe4im\\xfe\\x80\\x9c)\\xf2\\xb46\\x7f@\\xce\\x14yZ\\x9b? g\\x8a<\\xad\\xcd\\x1f\\x903E\\x9e\\xd6\\xe6\\x0f\\xc8\\x99\"Ok\\xf3\\x07\\xe4L\\x91\\xa7\\xb5\\xf9\\x03r\\xa6\\xc8\\xd3\\xda\\xfc\\x019S\\xe4im\\xfe\\x80\\x9c)\\xf2\\xb46\\x7f@\\xce\\x14yZ\\x9b? g\\x8a<\\xad\\xcd\\x1f\\x903E\\x9e\\xd6\\xe6\\x16r]\\x91\\xa7\\xb5\\xb9\\x85\\\\W\\xe4imn!\\xd7\\x15yZ\\x9b[\\xc8uE\\x9e\\xd6\\xe6\\x16r]\\x91\\xa7\\xb5\\xb9\\x85\\\\W\\xe4imn!\\xd7\\x15yZ\\x9b[\\xc8uE\\x9e\\xd6\\xe6\\x16r]\\x91\\xa7\\xb5\\xb9\\x85\\\\W\\xe4imn!\\xd7\\x15yZ\\x9b[\\xc8uE\\x9e\\xd6\\xe6\\x16r]\\x915\\xa7\\xc8\\x9aSd\\xcd)\\xb2\\xe6\\x14Ys\\x8a\\xac9E\\xd6\\x9c\"kN\\x915\\xa7\\xc8\\x9aSd\\xcd)\\xb2\\xe6\\x14Ys\\x8a\\xac9E\\xd6\\x9c\"kN\\x915\\xa7\\xc8\\x9aSd\\xcd)\\xb2\\xe6\\x14Ys\\x8a\\xac9E\\xd6\\x9c\"kN\\x915\\xa7\\xc8\\x9aSd\\xcd)\\xb2\\xe6\\x14Ys\\x8a\\xac9E\\xd6\\x9c\"kN\\x915\\xa7\\xc8\\x9aSd\\xcd)\\xb2\\xe6\\x14Ys\\x8a\\xac9E\\xd6\\x9c\"k\\xce\\x0fn\\x8d\\xc9\\x10\\xfb8\\xc6\\xf2\\x00\\x00\\x00\\x00IEND\\xaeB`\\x82'>"
      ]
     },
     "execution_count": 181,
     "metadata": {},
     "output_type": "execute_result"
    }
   ],
   "source": [
    "img_raw"
   ]
  },
  {
   "cell_type": "markdown",
   "id": "fa813def-cb38-4d90-adae-eba9d51dbc88",
   "metadata": {},
   "source": [
    "We can see that the image contains binary data. Let's decode it."
   ]
  },
  {
   "cell_type": "code",
   "execution_count": 182,
   "id": "53a6fd57-d9cc-442d-b326-b3ad9114764a",
   "metadata": {},
   "outputs": [],
   "source": [
    "image = tf.image.decode_png(img_raw, channels=3)"
   ]
  },
  {
   "cell_type": "code",
   "execution_count": 183,
   "id": "3e1979c6-60b6-44e8-bb82-573218f2f89f",
   "metadata": {},
   "outputs": [
    {
     "data": {
      "text/plain": [
       "(tensorflow.python.framework.ops.EagerTensor,\n",
       " <tf.Tensor: shape=(128, 128, 3), dtype=uint8, numpy=\n",
       " array([[[255, 255, 255],\n",
       "         [255, 255, 255],\n",
       "         [255, 255, 255],\n",
       "         ...,\n",
       "         [255, 255, 255],\n",
       "         [255, 255, 255],\n",
       "         [255, 255, 255]],\n",
       " \n",
       "        [[255, 255, 255],\n",
       "         [255, 255, 255],\n",
       "         [255, 255, 255],\n",
       "         ...,\n",
       "         [255, 255, 255],\n",
       "         [255, 255, 255],\n",
       "         [255, 255, 255]],\n",
       " \n",
       "        [[255, 255, 255],\n",
       "         [255, 255, 255],\n",
       "         [255, 255, 255],\n",
       "         ...,\n",
       "         [255, 255, 255],\n",
       "         [255, 255, 255],\n",
       "         [255, 255, 255]],\n",
       " \n",
       "        ...,\n",
       " \n",
       "        [[255, 255, 255],\n",
       "         [255, 255, 255],\n",
       "         [255, 255, 255],\n",
       "         ...,\n",
       "         [255, 255, 255],\n",
       "         [255, 255, 255],\n",
       "         [255, 255, 255]],\n",
       " \n",
       "        [[255, 255, 255],\n",
       "         [255, 255, 255],\n",
       "         [255, 255, 255],\n",
       "         ...,\n",
       "         [255, 255, 255],\n",
       "         [255, 255, 255],\n",
       "         [255, 255, 255]],\n",
       " \n",
       "        [[255, 255, 255],\n",
       "         [255, 255, 255],\n",
       "         [255, 255, 255],\n",
       "         ...,\n",
       "         [255, 255, 255],\n",
       "         [255, 255, 255],\n",
       "         [255, 255, 255]]], dtype=uint8)>)"
      ]
     },
     "execution_count": 183,
     "metadata": {},
     "output_type": "execute_result"
    }
   ],
   "source": [
    "type(image), image"
   ]
  },
  {
   "cell_type": "markdown",
   "id": "eafe3d46-f469-43f4-b3cc-f4b56b2a7f8a",
   "metadata": {},
   "source": [
    "Now it contains pixel values (between 0 and 255).\n",
    "\n",
    "Now, let's resize the image to the desired width and height."
   ]
  },
  {
   "cell_type": "code",
   "execution_count": 184,
   "id": "fa5adbf4-4df3-4100-a08a-edfef792679c",
   "metadata": {},
   "outputs": [
    {
     "data": {
      "text/plain": [
       "TensorShape([128, 128, 3])"
      ]
     },
     "execution_count": 184,
     "metadata": {},
     "output_type": "execute_result"
    }
   ],
   "source": [
    "image.shape"
   ]
  },
  {
   "cell_type": "code",
   "execution_count": 185,
   "id": "c6423fcf-51db-4fa4-97e4-26906792079b",
   "metadata": {},
   "outputs": [
    {
     "data": {
      "text/plain": [
       "TensorShape([224, 224, 3])"
      ]
     },
     "execution_count": 185,
     "metadata": {},
     "output_type": "execute_result"
    }
   ],
   "source": [
    "width = 224\n",
    "height = 224\n",
    "\n",
    "image = tf.image.resize(image, (height, width))\n",
    "image.shape"
   ]
  },
  {
   "cell_type": "markdown",
   "id": "c2239488-611e-4202-817a-0c76fe78bc7f",
   "metadata": {},
   "source": [
    "Finally, let's normalize pixel values to [-1, 1]"
   ]
  },
  {
   "cell_type": "code",
   "execution_count": 186,
   "id": "1c9b8deb-b5c7-4c1e-8b20-ebb91cdb4319",
   "metadata": {},
   "outputs": [],
   "source": [
    "image = tf.cast(image, tf.float32) / 127.5 - 1.0"
   ]
  },
  {
   "cell_type": "code",
   "execution_count": 187,
   "id": "7e625860-8cef-45cd-805e-a32ee8ff6814",
   "metadata": {},
   "outputs": [
    {
     "data": {
      "text/plain": [
       "<tf.Tensor: shape=(224, 224, 3), dtype=float32, numpy=\n",
       "array([[[1., 1., 1.],\n",
       "        [1., 1., 1.],\n",
       "        [1., 1., 1.],\n",
       "        ...,\n",
       "        [1., 1., 1.],\n",
       "        [1., 1., 1.],\n",
       "        [1., 1., 1.]],\n",
       "\n",
       "       [[1., 1., 1.],\n",
       "        [1., 1., 1.],\n",
       "        [1., 1., 1.],\n",
       "        ...,\n",
       "        [1., 1., 1.],\n",
       "        [1., 1., 1.],\n",
       "        [1., 1., 1.]],\n",
       "\n",
       "       [[1., 1., 1.],\n",
       "        [1., 1., 1.],\n",
       "        [1., 1., 1.],\n",
       "        ...,\n",
       "        [1., 1., 1.],\n",
       "        [1., 1., 1.],\n",
       "        [1., 1., 1.]],\n",
       "\n",
       "       ...,\n",
       "\n",
       "       [[1., 1., 1.],\n",
       "        [1., 1., 1.],\n",
       "        [1., 1., 1.],\n",
       "        ...,\n",
       "        [1., 1., 1.],\n",
       "        [1., 1., 1.],\n",
       "        [1., 1., 1.]],\n",
       "\n",
       "       [[1., 1., 1.],\n",
       "        [1., 1., 1.],\n",
       "        [1., 1., 1.],\n",
       "        ...,\n",
       "        [1., 1., 1.],\n",
       "        [1., 1., 1.],\n",
       "        [1., 1., 1.]],\n",
       "\n",
       "       [[1., 1., 1.],\n",
       "        [1., 1., 1.],\n",
       "        [1., 1., 1.],\n",
       "        ...,\n",
       "        [1., 1., 1.],\n",
       "        [1., 1., 1.],\n",
       "        [1., 1., 1.]]], dtype=float32)>"
      ]
     },
     "execution_count": 187,
     "metadata": {},
     "output_type": "execute_result"
    }
   ],
   "source": [
    "image"
   ]
  },
  {
   "cell_type": "markdown",
   "id": "f1268553-a07e-4dd8-be67-b9e684e6c10f",
   "metadata": {},
   "source": [
    "Now the pixel values are between -1 and 1."
   ]
  },
  {
   "cell_type": "markdown",
   "id": "9857393b-8365-48fe-a665-ae05e103f3e9",
   "metadata": {},
   "source": [
    "<a name=\"4.2\"></a> \n",
    "### <font color=\"#ca6f1e\"> <b> 4.2. Mask Pre-processing </b> </font>\n",
    "\n",
    "It is important to note that the mask is not an image but a label class map.\n",
    "\n",
    "- In image segmentation tasks, the mask file is usually stored as an image (e.g., PNG), but its content is not a regular RGB image.\n",
    "\n",
    "- Instead, each pixel value in the mask represents a class label (e.g., 0 = background, 1 = car, 2 = person, etc.).\n",
    "\n",
    "- So while technically stored as an image, semantically it's a class label map, not visual data.\n",
    "\n",
    "\n",
    "We will:\n",
    "\n",
    "- Read the mask.\n",
    "- Resize to the desire size.\n",
    "- Apply One-hot encoding.\n"
   ]
  },
  {
   "cell_type": "code",
   "execution_count": null,
   "id": "573b9ce0-3795-4ab9-a423-9a5dc2bf3e61",
   "metadata": {},
   "outputs": [],
   "source": []
  },
  {
   "cell_type": "code",
   "execution_count": null,
   "id": "80c1d43a-1a4b-496e-86e5-aafa2e9c6f4a",
   "metadata": {},
   "outputs": [],
   "source": []
  },
  {
   "cell_type": "code",
   "execution_count": null,
   "id": "a482f8de-a86a-49fd-8d19-b35f472330d6",
   "metadata": {},
   "outputs": [],
   "source": []
  },
  {
   "cell_type": "code",
   "execution_count": null,
   "id": "77668bde-24e5-445f-b2ce-e18381174905",
   "metadata": {},
   "outputs": [],
   "source": []
  },
  {
   "cell_type": "code",
   "execution_count": null,
   "id": "cefb3550-1462-4462-a326-eaef70e8a14f",
   "metadata": {},
   "outputs": [],
   "source": []
  },
  {
   "cell_type": "markdown",
   "id": "3ea37ca2-1cb7-4fd5-81ad-474d715d8e1e",
   "metadata": {},
   "source": [
    "<a name=\"4.3\"></a> \n",
    "### <font color=\"#ca6f1e\"> <b> 4.3. Putting everything together </b> </font>\n",
    "\n",
    "We can combine image and mask pre-processing in one function."
   ]
  },
  {
   "cell_type": "code",
   "execution_count": 188,
   "id": "100afb07-f503-4960-ba5f-d9af2f4d1ac6",
   "metadata": {},
   "outputs": [],
   "source": [
    "def map_filename_to_image_and_mask(t_filename, a_filename, height=64, width=64, num_classes=3):\n",
    "    \"\"\"\n",
    "    Reads and preprocesses an image and its corresponding segmentation mask from given file paths.\n",
    "\n",
    "    Args:\n",
    "        t_filename (tf.Tensor or str): Path to the input image file.\n",
    "        a_filename (tf.Tensor or str): Path to the corresponding annotation (mask) file.\n",
    "        height (int): Target height to resize the image and mask. Defaults to G.height.\n",
    "        width (int): Target width to resize the image and mask. Defaults to G.width.\n",
    "        num_classes (int): Number of segmentation classes for one-hot encoding. Defaults to num_classes.\n",
    "\n",
    "    Returns:\n",
    "        image (tf.Tensor): Preprocessed image tensor of shape (height, width, 3), normalized to [-1, 1].\n",
    "        annotation (tf.Tensor): One-hot encoded mask tensor of shape (height, width, num_classes).\n",
    "    \"\"\"\n",
    "\n",
    "    # Read and decode the image (3 channels)\n",
    "    img_raw = tf.io.read_file(t_filename)\n",
    "    image = tf.image.decode_png(img_raw, channels=3)\n",
    "    image = tf.image.resize(image, (height, width))  # Resize image to desired size\n",
    "    image = tf.cast(image, tf.float32) / 127.5 - 1.0  # Normalize pixel values to [-1, 1]\n",
    "\n",
    "    # Read and decode the annotation mask (1 channel)\n",
    "    anno_raw = tf.io.read_file(a_filename)\n",
    "    annotation = tf.image.decode_png(anno_raw, channels=1)\n",
    "    annotation = tf.image.resize(annotation, (height, width), method='nearest')  # Keep class labels intact\n",
    "    annotation = tf.cast(annotation, tf.int32)\n",
    "    annotation = tf.squeeze(annotation, axis=-1)  # Remove channel dimension (H, W, 1) -> (H, W)\n",
    "\n",
    "    # Convert annotation to one-hot format: shape becomes (H, W, num_classes)\n",
    "    annotation = tf.one_hot(annotation, depth=num_classes)\n",
    "\n",
    "    return image, annotation\n"
   ]
  },
  {
   "cell_type": "markdown",
   "id": "f16ce88c-22e9-47fe-9e93-3275fd98303e",
   "metadata": {},
   "source": [
    "<a name=\"5\"></a> \n",
    "## <font color=\"orange\"> <b> 5. Creating TF Datasets </b> </font>"
   ]
  },
  {
   "cell_type": "markdown",
   "id": "319dd56a-2bec-489a-ad39-666f673e5ef0",
   "metadata": {},
   "source": [
    "First, we need a function that returns sorted file paths for images and their corresponding segmentation masks (label maps). "
   ]
  },
  {
   "cell_type": "code",
   "execution_count": 190,
   "id": "101073b0-6f56-48d8-a343-10639286d159",
   "metadata": {},
   "outputs": [],
   "source": [
    "def get_dataset_slice_paths(image_dir, label_map_dir):\n",
    "    '''\n",
    "    Returns sorted paths to image and mask files.\n",
    "    '''\n",
    "    image_file_list = sorted(os.listdir(image_dir))\n",
    "    label_map_file_list = sorted(os.listdir(label_map_dir))\n",
    "\n",
    "    image_paths = [os.path.join(image_dir, fname) for fname in image_file_list]\n",
    "    label_map_paths = [os.path.join(label_map_dir, fname) for fname in label_map_file_list]\n",
    "\n",
    "    return image_paths, label_map_paths"
   ]
  },
  {
   "cell_type": "code",
   "execution_count": 192,
   "id": "d856430e-9b7e-4348-ba6a-b8f85b2a4db6",
   "metadata": {},
   "outputs": [
    {
     "data": {
      "text/plain": [
       "(['synthetic_dataset/images/img_000.png',\n",
       "  'synthetic_dataset/images/img_001.png',\n",
       "  'synthetic_dataset/images/img_002.png',\n",
       "  'synthetic_dataset/images/img_003.png',\n",
       "  'synthetic_dataset/images/img_004.png',\n",
       "  'synthetic_dataset/images/img_005.png',\n",
       "  'synthetic_dataset/images/img_006.png',\n",
       "  'synthetic_dataset/images/img_007.png',\n",
       "  'synthetic_dataset/images/img_008.png',\n",
       "  'synthetic_dataset/images/img_009.png'],\n",
       " ['synthetic_dataset/masks/mask_000.png',\n",
       "  'synthetic_dataset/masks/mask_001.png',\n",
       "  'synthetic_dataset/masks/mask_002.png',\n",
       "  'synthetic_dataset/masks/mask_003.png',\n",
       "  'synthetic_dataset/masks/mask_004.png',\n",
       "  'synthetic_dataset/masks/mask_005.png',\n",
       "  'synthetic_dataset/masks/mask_006.png',\n",
       "  'synthetic_dataset/masks/mask_007.png',\n",
       "  'synthetic_dataset/masks/mask_008.png',\n",
       "  'synthetic_dataset/masks/mask_009.png'])"
      ]
     },
     "execution_count": 192,
     "metadata": {},
     "output_type": "execute_result"
    }
   ],
   "source": [
    "# test it\n",
    "get_dataset_slice_paths(image_dir, mask_dir)"
   ]
  },
  {
   "cell_type": "markdown",
   "id": "d30e35d5-50b6-4e1f-80f9-960512c91cf6",
   "metadata": {},
   "source": [
    "Finally, we will prepare the TF Datasets.\n",
    "\n",
    "We will:\n",
    "\n",
    "-  Creates a TensorFlow dataset from the given lists of file paths.\n",
    "-  Apply the pre-processing function to every element in the dataset.\n",
    "-  Shuffle data (only in training)\n",
    "-  Configure batch size.\n"
   ]
  },
  {
   "cell_type": "code",
   "execution_count": 193,
   "id": "acd5605f-6b97-4641-a47c-12fc398850e7",
   "metadata": {},
   "outputs": [
    {
     "name": "stdout",
     "output_type": "stream",
     "text": [
      "Image Path: b'synthetic_dataset/images/img_000.png'\n",
      "Mask Path: b'synthetic_dataset/masks/mask_000.png'\n",
      "Image Path: b'synthetic_dataset/images/img_001.png'\n",
      "Mask Path: b'synthetic_dataset/masks/mask_001.png'\n"
     ]
    }
   ],
   "source": [
    "# sorted file paths\n",
    "training_image_paths, training_label_map_paths = get_dataset_slice_paths(image_dir, mask_dir)\n",
    "\n",
    "# create TF dataset\n",
    "training_dataset = tf.data.Dataset.from_tensor_slices((training_image_paths, training_label_map_paths ))\n",
    "\n",
    "# Now each element of training_dataset will be a tuple of two tensors (image_path, mask_path)\n",
    "for image_path_tensor, mask_path_tensor in training_dataset.take(2):\n",
    "    print(f\"Image Path: {image_path_tensor.numpy()}\")\n",
    "    print(f\"Mask Path: {mask_path_tensor.numpy()}\")\n"
   ]
  },
  {
   "cell_type": "code",
   "execution_count": 194,
   "id": "50a34a02-dbce-4c15-aa8e-f205db22e0c9",
   "metadata": {},
   "outputs": [
    {
     "name": "stdout",
     "output_type": "stream",
     "text": [
      "Image: [[[1. 1. 1.]\n",
      "  [1. 1. 1.]\n",
      "  [1. 1. 1.]\n",
      "  ...\n",
      "  [1. 1. 1.]\n",
      "  [1. 1. 1.]\n",
      "  [1. 1. 1.]]\n",
      "\n",
      " [[1. 1. 1.]\n",
      "  [1. 1. 1.]\n",
      "  [1. 1. 1.]\n",
      "  ...\n",
      "  [1. 1. 1.]\n",
      "  [1. 1. 1.]\n",
      "  [1. 1. 1.]]\n",
      "\n",
      " [[1. 1. 1.]\n",
      "  [1. 1. 1.]\n",
      "  [1. 1. 1.]\n",
      "  ...\n",
      "  [1. 1. 1.]\n",
      "  [1. 1. 1.]\n",
      "  [1. 1. 1.]]\n",
      "\n",
      " ...\n",
      "\n",
      " [[1. 1. 1.]\n",
      "  [1. 1. 1.]\n",
      "  [1. 1. 1.]\n",
      "  ...\n",
      "  [1. 1. 1.]\n",
      "  [1. 1. 1.]\n",
      "  [1. 1. 1.]]\n",
      "\n",
      " [[1. 1. 1.]\n",
      "  [1. 1. 1.]\n",
      "  [1. 1. 1.]\n",
      "  ...\n",
      "  [1. 1. 1.]\n",
      "  [1. 1. 1.]\n",
      "  [1. 1. 1.]]\n",
      "\n",
      " [[1. 1. 1.]\n",
      "  [1. 1. 1.]\n",
      "  [1. 1. 1.]\n",
      "  ...\n",
      "  [1. 1. 1.]\n",
      "  [1. 1. 1.]\n",
      "  [1. 1. 1.]]]\n",
      "Mask: [[[1. 0. 0.]\n",
      "  [1. 0. 0.]\n",
      "  [1. 0. 0.]\n",
      "  ...\n",
      "  [1. 0. 0.]\n",
      "  [1. 0. 0.]\n",
      "  [1. 0. 0.]]\n",
      "\n",
      " [[1. 0. 0.]\n",
      "  [1. 0. 0.]\n",
      "  [1. 0. 0.]\n",
      "  ...\n",
      "  [1. 0. 0.]\n",
      "  [1. 0. 0.]\n",
      "  [1. 0. 0.]]\n",
      "\n",
      " [[1. 0. 0.]\n",
      "  [1. 0. 0.]\n",
      "  [1. 0. 0.]\n",
      "  ...\n",
      "  [1. 0. 0.]\n",
      "  [1. 0. 0.]\n",
      "  [1. 0. 0.]]\n",
      "\n",
      " ...\n",
      "\n",
      " [[1. 0. 0.]\n",
      "  [1. 0. 0.]\n",
      "  [1. 0. 0.]\n",
      "  ...\n",
      "  [1. 0. 0.]\n",
      "  [1. 0. 0.]\n",
      "  [1. 0. 0.]]\n",
      "\n",
      " [[1. 0. 0.]\n",
      "  [1. 0. 0.]\n",
      "  [1. 0. 0.]\n",
      "  ...\n",
      "  [1. 0. 0.]\n",
      "  [1. 0. 0.]\n",
      "  [1. 0. 0.]]\n",
      "\n",
      " [[1. 0. 0.]\n",
      "  [1. 0. 0.]\n",
      "  [1. 0. 0.]\n",
      "  ...\n",
      "  [1. 0. 0.]\n",
      "  [1. 0. 0.]\n",
      "  [1. 0. 0.]]]\n"
     ]
    }
   ],
   "source": [
    "# apply the pre-processing function to every element in the dataset\n",
    "training_dataset = training_dataset.map(map_filename_to_image_and_mask)\n",
    "\n",
    "for image_path_tensor, mask_path_tensor in training_dataset.take(1):\n",
    "    print(f\"Image: {image_path_tensor.numpy()}\")\n",
    "    print(f\"Mask: {mask_path_tensor.numpy()}\")"
   ]
  },
  {
   "cell_type": "code",
   "execution_count": 195,
   "id": "6b916696-013b-43c3-b632-de30a9d0798b",
   "metadata": {},
   "outputs": [],
   "source": [
    "# shuffle (only for training)\n",
    "training_dataset = training_dataset.shuffle(100, reshuffle_each_iteration=True)\n",
    "\n",
    "# configure batch size\n",
    "training_dataset = training_dataset.batch(32)"
   ]
  },
  {
   "cell_type": "markdown",
   "id": "94f44144-b770-477a-98a1-f7d63fee9d39",
   "metadata": {},
   "source": [
    "Finally, we can combine this in one function."
   ]
  },
  {
   "cell_type": "code",
   "execution_count": 207,
   "id": "d23f476e-2d57-4c29-b996-ca6b55483cf4",
   "metadata": {},
   "outputs": [],
   "source": [
    "def get_dataset(image_paths, label_map_paths, batch_size = 8, training=True):\n",
    "  '''\n",
    "    Args:\n",
    "        image_paths (list of str): Paths to each image file in the dataset.\n",
    "        label_map_paths (list of str): Paths to each label map file.\n",
    "        batch_size (int): Number of samples per batch.\n",
    "        training (bool): Whether the dataset is for training (enables shuffling).\n",
    "\n",
    "    Returns:\n",
    "        tf.data.Dataset: A dataset yielding batches of preprocessed images and masks.\n",
    "  '''\n",
    "  training_dataset = tf.data.Dataset.from_tensor_slices((image_paths, label_map_paths))\n",
    "  training_dataset = training_dataset.map(map_filename_to_image_and_mask)\n",
    "  if training:\n",
    "      training_dataset = training_dataset.shuffle(100, reshuffle_each_iteration=True)\n",
    "  training_dataset = training_dataset.batch(batch_size)\n",
    "\n",
    "  return training_dataset"
   ]
  },
  {
   "cell_type": "code",
   "execution_count": 208,
   "id": "c6fa0af3-8c02-416b-aa5a-fdb7767dc0f3",
   "metadata": {},
   "outputs": [],
   "source": [
    "# get the paths to the images\n",
    "training_image_paths, training_label_map_paths = get_dataset_slice_paths(train_img_dir, train_annotation_dir)\n",
    "\n",
    "# generate the train and val sets\n",
    "training_dataset = get_dataset(training_image_paths, training_label_map_paths)"
   ]
  },
  {
   "cell_type": "code",
   "execution_count": 210,
   "id": "2bce4503-9e43-4b86-a2f8-a31fbd2e0265",
   "metadata": {},
   "outputs": [
    {
     "name": "stdout",
     "output_type": "stream",
     "text": [
      "Image: (8, 64, 64, 3)\n",
      "Mask: (8, 64, 64, 3)\n"
     ]
    }
   ],
   "source": [
    "for image_batch, mask_batch in training_dataset.take(1):\n",
    "    print(f\"Image: {image_batch.shape}\") # batch size, width, height, number of channels\n",
    "    print(f\"Mask: {mask_batch.shape}\") # batch size, , width, height, num classes (one-hot encoded)"
   ]
  },
  {
   "cell_type": "markdown",
   "id": "84cc8e4f-bd71-4a53-b21d-15db173c0f89",
   "metadata": {},
   "source": []
  }
 ],
 "metadata": {
  "kernelspec": {
   "display_name": "Python 3 (ipykernel)",
   "language": "python",
   "name": "python3"
  },
  "language_info": {
   "codemirror_mode": {
    "name": "ipython",
    "version": 3
   },
   "file_extension": ".py",
   "mimetype": "text/x-python",
   "name": "python",
   "nbconvert_exporter": "python",
   "pygments_lexer": "ipython3",
   "version": "3.10.12"
  }
 },
 "nbformat": 4,
 "nbformat_minor": 5
}
