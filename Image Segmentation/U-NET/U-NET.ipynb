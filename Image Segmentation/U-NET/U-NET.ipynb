{
 "cells": [
  {
   "cell_type": "markdown",
   "metadata": {},
   "source": [
    "# <center><div style=\"color:red\">IMAGE SEGMENTATION WITH U-NET</div></center>"
   ]
  },
  {
   "cell_type": "markdown",
   "metadata": {},
   "source": [
    "### <font color='blue'> Table of Contents </font>\n",
    "- [1 - Objectives](#1)\n",
    "- [2 - Setup](#2)\n",
    "- [3 - Helper Functions](#3)\n",
    "- [4 - Data](#4) <br>\n",
    "    - [4.1. - Generating Synthetic Data](#4.1)\n",
    "    - [4.2. - Pre-procesing](#4.2)\n",
    "- [5 - Build, compile and train the model](#5)\n",
    "- [6 - Predictions](#6)\n",
    "- [7 - Evaluation](#7)\n",
    "- [8 - Training with Dice Loss](#8)\n",
    "- [9 - References](#references)"
   ]
  },
  {
   "cell_type": "markdown",
   "metadata": {},
   "source": [
    "<a name=\"1\"></a> \n",
    "## <font color=\"orange\"> <b> 1. Introduction </b> </font>\n",
    "In this notebook, we explore image segmentation using the U-Net architecture, a powerful convolutional neural network originally designed for biomedical image segmentation. To simplify the pipeline and focus on the core concepts, we generate synthetic data — artificial images and masks — allowing us to quickly prototype and evaluate the model.\n",
    "\n",
    "**Goals:**\n",
    "\n",
    "- Understand the principles of semantic segmentation.\n",
    "\n",
    "- Generate synthetic image-mask pairs for training.\n",
    "\n",
    "- Implement and train a U-Net model from scratch (or using PyTorch/Keras).\n",
    "\n",
    "- Evaluate segmentation performance visually and quantitatively.\n",
    "\n",
    "This hands-on approach provides a clear, minimal setup to grasp the fundamentals of U-Net and segmentation workflows before applying them to real-world datasets."
   ]
  },
  {
   "cell_type": "markdown",
   "metadata": {},
   "source": [
    "<a name=\"2\"></a> \n",
    "## <font color=\"orange\"> <b> 2. Setup </b> </font>"
   ]
  },
  {
   "cell_type": "code",
   "execution_count": 26,
   "metadata": {
    "colab": {
     "base_uri": "https://localhost:8080/"
    },
    "executionInfo": {
     "elapsed": 16435,
     "status": "ok",
     "timestamp": 1747363432700,
     "user": {
      "displayName": "Marcos García",
      "userId": "10472708252722737011"
     },
     "user_tz": 180
    },
    "id": "Rc94NZ7f7_xT",
    "outputId": "f1cb20a5-03f8-42b8-c6ef-6df4b547a585"
   },
   "outputs": [],
   "source": [
    "import os\n",
    "import zipfile\n",
    "import PIL.Image, PIL.ImageFont, PIL.ImageDraw\n",
    "import numpy as np\n",
    "\n",
    "import tensorflow as tf\n",
    "from matplotlib import pyplot as plt\n",
    "import tensorflow_datasets as tfds\n",
    "from tensorflow.keras import layers, models\n",
    "import seaborn as sns\n",
    "\n",
    "from dataclasses import dataclass"
   ]
  },
  {
   "cell_type": "code",
   "execution_count": 27,
   "metadata": {},
   "outputs": [],
   "source": [
    "tf.random.set_seed(5)"
   ]
  },
  {
   "cell_type": "code",
   "execution_count": 28,
   "metadata": {
    "executionInfo": {
     "elapsed": 14,
     "status": "ok",
     "timestamp": 1747363432706,
     "user": {
      "displayName": "Marcos García",
      "userId": "10472708252722737011"
     },
     "user_tz": 180
    },
    "id": "1CXXV-iI7_xX"
   },
   "outputs": [],
   "source": [
    "# for default values\n",
    "@dataclass\n",
    "class DataConfig:\n",
    "    batch_size: int = 32\n",
    "    width: int = 224\n",
    "    height: int = 224\n",
    "\n",
    "G = DataConfig()"
   ]
  },
  {
   "cell_type": "markdown",
   "metadata": {},
   "source": [
    "<a name=\"3\"></a> \n",
    "## <font color=\"orange\"> <b> 3. Helper Functions </b> </font>"
   ]
  },
  {
   "cell_type": "code",
   "execution_count": 54,
   "metadata": {},
   "outputs": [],
   "source": [
    "def plot_image_mask_prediction(image, true_mask, pred_mask, title_prefix=''):\n",
    "    \"\"\"\n",
    "    Plots the input image, ground truth mask, and predicted mask side by side.\n",
    "\n",
    "    Args:\n",
    "        image (np.array or tf.Tensor): Original image (H, W, 3)\n",
    "        true_mask (np.array or tf.Tensor): Ground truth mask (H, W)\n",
    "        pred_mask (np.array or tf.Tensor): Predicted mask (H, W)\n",
    "        title_prefix (str): Optional prefix for plot titles\n",
    "    \"\"\"\n",
    "    # Convert to numpy if needed\n",
    "    if hasattr(image, 'numpy'): image = image.numpy()\n",
    "    if hasattr(true_mask, 'numpy'): true_mask = true_mask.numpy()\n",
    "    if hasattr(pred_mask, 'numpy'): pred_mask = pred_mask.numpy()\n",
    "\n",
    "    plt.figure(figsize=(15, 5))\n",
    "\n",
    "    plt.subplot(1, 3, 1)\n",
    "    plt.imshow(image.astype(\"uint8\"))\n",
    "    plt.title(f\"{title_prefix}Image\")\n",
    "    plt.axis(\"off\")\n",
    "\n",
    "    plt.subplot(1, 3, 2)\n",
    "    plt.imshow(true_mask, cmap='jet', interpolation='none')\n",
    "    plt.title(f\"{title_prefix}Ground Truth Mask\")\n",
    "    plt.axis(\"off\")\n",
    "\n",
    "    plt.subplot(1, 3, 3)\n",
    "    plt.imshow(pred_mask, cmap='jet', interpolation='none')\n",
    "    plt.title(f\"{title_prefix}Predicted Mask\")\n",
    "    plt.axis(\"off\")\n",
    "\n",
    "    plt.tight_layout()\n",
    "    plt.show()"
   ]
  },
  {
   "cell_type": "markdown",
   "metadata": {
    "id": "oV6RzCsZ7_xY"
   },
   "source": [
    "<a name=\"4\"></a> \n",
    "## <font color=\"orange\"> <b> 4. Data </b> </font>\n",
    "\n",
    "<a name=\"4.1\"></a> \n",
    "### <font color=\"#ca6f1e\"> <b> 4.1. Generating Synthetic Data </b> </font>\n",
    "\n",
    "We will generate:\n",
    "\n",
    "Input image: RGB image with shapes (square, circle, or both)\n",
    "\n",
    "Segmentation mask: grayscale image where:\n",
    "\n",
    "0 = background\n",
    "\n",
    "1 = square\n",
    "\n",
    "2 = circle\n"
   ]
  },
  {
   "cell_type": "code",
   "execution_count": 83,
   "metadata": {
    "executionInfo": {
     "elapsed": 15,
     "status": "ok",
     "timestamp": 1747363432735,
     "user": {
      "displayName": "Marcos García",
      "userId": "10472708252722737011"
     },
     "user_tz": 180
    },
    "id": "8tmKU6dj7_xZ"
   },
   "outputs": [],
   "source": [
    "# pixel labels in the video frames\n",
    "class_names = ['background','square','circle']\n",
    "\n",
    "# number of different classes\n",
    "num_classes = 3"
   ]
  },
  {
   "cell_type": "code",
   "execution_count": 84,
   "metadata": {
    "executionInfo": {
     "elapsed": 80,
     "status": "ok",
     "timestamp": 1747363799998,
     "user": {
      "displayName": "Marcos García",
      "userId": "10472708252722737011"
     },
     "user_tz": 180
    },
    "id": "DP5Bx5017_xa"
   },
   "outputs": [],
   "source": [
    "import cv2\n",
    "import random\n",
    "\n",
    "# Output folders\n",
    "image_dir = \"synthetic_dataset/images\"\n",
    "mask_dir = \"synthetic_dataset/masks\"\n",
    "os.makedirs(image_dir, exist_ok=True)\n",
    "os.makedirs(mask_dir, exist_ok=True)\n",
    "\n",
    "# Parameters\n",
    "num_samples = 200\n",
    "img_size = 128\n",
    "shape_colors = {\n",
    "    \"square\": (255, 0, 0),  # Red\n",
    "    \"circle\": (0, 255, 0),  # Green\n",
    "}\n",
    "\n",
    "for i in range(num_samples):\n",
    "    img = np.ones((img_size, img_size, 3), dtype=np.uint8) * 255  # white background\n",
    "    mask = np.zeros((img_size, img_size), dtype=np.uint8)         # 0=background\n",
    "\n",
    "    shapes = random.choices([\"square\", \"circle\"], k=random.randint(1, 2))  # at least 1 shape\n",
    "\n",
    "    for shape in shapes:\n",
    "        x, y = random.randint(10, 90), random.randint(10, 90)\n",
    "        size = random.randint(15, 30)\n",
    "\n",
    "        if shape == \"square\":\n",
    "            cv2.rectangle(img, (x, y), (x+size, y+size), shape_colors[\"square\"], -1)\n",
    "            cv2.rectangle(mask, (x, y), (x+size, y+size), 1, -1)\n",
    "        elif shape == \"circle\":\n",
    "            cv2.circle(img, (x, y), size//2, shape_colors[\"circle\"], -1)\n",
    "            cv2.circle(mask, (x, y), size//2, 2, -1)\n",
    "\n",
    "    cv2.imwrite(f\"{image_dir}/img_{i:03d}.png\", img)\n",
    "    cv2.imwrite(f\"{mask_dir}/mask_{i:03d}.png\", mask)\n"
   ]
  },
  {
   "cell_type": "code",
   "execution_count": 85,
   "metadata": {
    "colab": {
     "base_uri": "https://localhost:8080/",
     "height": 1000
    },
    "executionInfo": {
     "elapsed": 672,
     "status": "ok",
     "timestamp": 1747363801297,
     "user": {
      "displayName": "Marcos García",
      "userId": "10472708252722737011"
     },
     "user_tz": 180
    },
    "id": "lSpUKc4I7_xb",
    "outputId": "e0e97736-c0d9-4bc3-cc65-eeec06314ebb"
   },
   "outputs": [
    {
     "data": {
      "image/png": "[encoded data removed]",
      "text/plain": [
       "<Figure size 600x300 with 2 Axes>"
      ]
     },
     "metadata": {},
     "output_type": "display_data"
    },
    {
     "data": {
      "image/png": "[encoded data removed]",
      "text/plain": [
       "<Figure size 600x300 with 2 Axes>"
      ]
     },
     "metadata": {},
     "output_type": "display_data"
    },
    {
     "data": {
      "image/png": "[encoded data removed]",
      "text/plain": [
       "<Figure size 600x300 with 2 Axes>"
      ]
     },
     "metadata": {},
     "output_type": "display_data"
    }
   ],
   "source": [
    "# Directories\n",
    "image_dir = \"synthetic_dataset/images\"\n",
    "mask_dir = \"synthetic_dataset/masks\"\n",
    "\n",
    "# Number of samples to plot\n",
    "num_samples_to_show = 3\n",
    "\n",
    "# Get sample filenames\n",
    "image_filenames = sorted(os.listdir(image_dir))[:num_samples_to_show]\n",
    "mask_filenames = sorted(os.listdir(mask_dir))[:num_samples_to_show]\n",
    "\n",
    "for img_file, mask_file in zip(image_filenames, mask_filenames):\n",
    "    # Load image and mask\n",
    "    img = cv2.imread(os.path.join(image_dir, img_file))\n",
    "    img = cv2.cvtColor(img, cv2.COLOR_BGR2RGB)\n",
    "\n",
    "    mask = cv2.imread(os.path.join(mask_dir, mask_file), cv2.IMREAD_GRAYSCALE)\n",
    "\n",
    "    # Plot\n",
    "    fig, axs = plt.subplots(1, 2, figsize=(6, 3))\n",
    "\n",
    "    axs[0].imshow(img)\n",
    "    axs[0].set_title(\"Image\")\n",
    "    axs[0].axis(\"off\")\n",
    "\n",
    "    axs[1].imshow(mask, cmap='jet', vmin=0, vmax=2)\n",
    "    axs[1].set_title(\"Mask (0=bg, 1=sq, 2=circle)\")\n",
    "    axs[1].axis(\"off\")\n",
    "\n",
    "    plt.tight_layout()\n",
    "    plt.show()"
   ]
  },
  {
   "cell_type": "markdown",
   "metadata": {},
   "source": [
    "<a name=\"4.2\"></a> \n",
    "### <font color=\"#ca6f1e\"> <b> 4.2. Pre-processing </b> </font>\n",
    "\n",
    "**Train/Test Split**"
   ]
  },
  {
   "cell_type": "code",
   "execution_count": 86,
   "metadata": {
    "executionInfo": {
     "elapsed": 24,
     "status": "ok",
     "timestamp": 1747363804401,
     "user": {
      "displayName": "Marcos García",
      "userId": "10472708252722737011"
     },
     "user_tz": 180
    },
    "id": "balw94ZM7_xb"
   },
   "outputs": [],
   "source": [
    "from sklearn.model_selection import train_test_split\n",
    "import shutil\n",
    "\n",
    "# Set split ratio\n",
    "train_ratio = 0.8\n",
    "\n",
    "# Get all image/mask filenames\n",
    "all_filenames = [f\"img_{i:03d}.png\" for i in range(num_samples)]\n",
    "train_files, test_files = train_test_split(all_filenames, train_size=train_ratio, random_state=42)\n",
    "\n",
    "# Create train/test folders\n",
    "for split in [\"train\", \"test\"]:\n",
    "    os.makedirs(f\"synthetic_dataset/{split}/images\", exist_ok=True)\n",
    "    os.makedirs(f\"synthetic_dataset/{split}/masks\", exist_ok=True)\n",
    "\n",
    "# Move files to appropriate folders\n",
    "for split_files, split in [(train_files, \"train\"), (test_files, \"test\")]:\n",
    "    for filename in split_files:\n",
    "        shutil.move(f\"{image_dir}/{filename}\", f\"synthetic_dataset/{split}/images/{filename}\")\n",
    "        shutil.move(f\"{mask_dir}/mask_{filename[4:]}\", f\"synthetic_dataset/{split}/masks/mask_{filename[4:]}\")\n"
   ]
  },
  {
   "cell_type": "markdown",
   "metadata": {},
   "source": [
    "**Directories**"
   ]
  },
  {
   "cell_type": "code",
   "execution_count": 87,
   "metadata": {
    "executionInfo": {
     "elapsed": 11,
     "status": "ok",
     "timestamp": 1747363807053,
     "user": {
      "displayName": "Marcos García",
      "userId": "10472708252722737011"
     },
     "user_tz": 180
    },
    "id": "m3HcQIrd7_xc"
   },
   "outputs": [],
   "source": [
    "train_img_dir = \"synthetic_dataset/train/images\"\n",
    "test_img_dir = \"synthetic_dataset/test/images\"\n",
    "train_annotation_dir = \"synthetic_dataset/train/masks\"\n",
    "test_annotation_dir = \"synthetic_dataset/test/masks\""
   ]
  },
  {
   "cell_type": "markdown",
   "metadata": {
    "executionInfo": {
     "elapsed": 3,
     "status": "ok",
     "timestamp": 1747363436557,
     "user": {
      "displayName": "Marcos García",
      "userId": "10472708252722737011"
     },
     "user_tz": 180
    },
    "id": "hNsFDYAr7_xc"
   },
   "source": [
    "**Image & Mask Preprocessing Function**"
   ]
  },
  {
   "cell_type": "code",
   "execution_count": 88,
   "metadata": {
    "executionInfo": {
     "elapsed": 70,
     "status": "ok",
     "timestamp": 1747363436629,
     "user": {
      "displayName": "Marcos García",
      "userId": "10472708252722737011"
     },
     "user_tz": 180
    },
    "id": "v3UmOOfE7_xc"
   },
   "outputs": [],
   "source": [
    "def map_filename_to_image_and_mask(t_filename, a_filename, height=G.height, width=G.width, num_classes=num_classes):\n",
    "    \"\"\"\n",
    "    Reads and preprocesses an image and its corresponding segmentation mask from given file paths.\n",
    "\n",
    "    Args:\n",
    "        t_filename (tf.Tensor or str): Path to the input image file.\n",
    "        a_filename (tf.Tensor or str): Path to the corresponding annotation (mask) file.\n",
    "        height (int): Target height to resize the image and mask. Defaults to G.height.\n",
    "        width (int): Target width to resize the image and mask. Defaults to G.width.\n",
    "        num_classes (int): Number of segmentation classes for one-hot encoding. Defaults to num_classes.\n",
    "\n",
    "    Returns:\n",
    "        image (tf.Tensor): Preprocessed image tensor of shape (height, width, 3), normalized to [-1, 1].\n",
    "        annotation (tf.Tensor): One-hot encoded mask tensor of shape (height, width, num_classes).\n",
    "    \"\"\"\n",
    "\n",
    "    # Read and decode the image (3 channels)\n",
    "    img_raw = tf.io.read_file(t_filename)\n",
    "    image = tf.image.decode_png(img_raw, channels=3)\n",
    "    image = tf.image.resize(image, (height, width))  # Resize image to desired size\n",
    "    image = tf.cast(image, tf.float32) / 127.5 - 1.0  # Normalize pixel values to [-1, 1]\n",
    "\n",
    "    # Read and decode the annotation mask (1 channel)\n",
    "    anno_raw = tf.io.read_file(a_filename)\n",
    "    annotation = tf.image.decode_png(anno_raw, channels=1)\n",
    "    annotation = tf.image.resize(annotation, (height, width), method='nearest')  # Keep class labels intact\n",
    "    annotation = tf.cast(annotation, tf.int32)\n",
    "    annotation = tf.squeeze(annotation, axis=-1)  # Remove channel dimension (H, W, 1) -> (H, W)\n",
    "\n",
    "    # Convert annotation to one-hot format: shape becomes (H, W, num_classes)\n",
    "    annotation = tf.one_hot(annotation, depth=num_classes)\n",
    "\n",
    "    return image, annotation\n"
   ]
  },
  {
   "cell_type": "markdown",
   "metadata": {},
   "source": [
    "**Get image/mask paths**"
   ]
  },
  {
   "cell_type": "code",
   "execution_count": 89,
   "metadata": {},
   "outputs": [],
   "source": [
    "def get_dataset_slice_paths(image_dir, label_map_dir):\n",
    "    '''\n",
    "    Returns sorted paths to image and mask files.\n",
    "    '''\n",
    "    image_file_list = sorted(os.listdir(image_dir))\n",
    "    label_map_file_list = sorted(os.listdir(label_map_dir))\n",
    "\n",
    "    image_paths = [os.path.join(image_dir, fname) for fname in image_file_list]\n",
    "    label_map_paths = [os.path.join(label_map_dir, fname) for fname in label_map_file_list]\n",
    "\n",
    "    return image_paths, label_map_paths\n"
   ]
  },
  {
   "cell_type": "markdown",
   "metadata": {},
   "source": [
    "**TF Datasets**"
   ]
  },
  {
   "cell_type": "code",
   "execution_count": 96,
   "metadata": {},
   "outputs": [],
   "source": [
    "# --------------------------\n",
    "# 1. Create training dataset\n",
    "# --------------------------\n",
    "\n",
    "def get_training_dataset(image_paths, label_map_paths, batch_size = G.batch_size):\n",
    "  '''\n",
    "  Prepares shuffled batches of the training set.\n",
    "\n",
    "  Args:\n",
    "    image_paths (list of strings) -- paths to each image file in the train set\n",
    "    label_map_paths (list of strings) -- paths to each label map in the train set\n",
    "    batch_size\n",
    "\n",
    "  Returns:\n",
    "    tf Dataset containing the preprocessed train set\n",
    "  '''\n",
    "  training_dataset = tf.data.Dataset.from_tensor_slices((image_paths, label_map_paths))\n",
    "  training_dataset = training_dataset.map(map_filename_to_image_and_mask)\n",
    "  training_dataset = training_dataset.shuffle(100, reshuffle_each_iteration=True)\n",
    "  training_dataset = training_dataset.batch(batch_size)\n",
    "  #training_dataset = training_dataset.repeat()\n",
    "  #training_dataset = training_dataset.prefetch(1)\n",
    "\n",
    "  return training_dataset\n",
    "\n",
    "\n",
    "# --------------------------\n",
    "# 2. Create validation dataset\n",
    "# -------------------------\n",
    "\n",
    "def get_validation_dataset(image_paths, label_map_paths, batch_size = G.batch_size):\n",
    "  '''\n",
    "  Prepares batches of the validation set.\n",
    "\n",
    "  Args:\n",
    "    image_paths (list of strings) -- paths to each image file in the val set\n",
    "    label_map_paths (list of strings) -- paths to each label map in the val set\n",
    "\n",
    "  Returns:\n",
    "    tf Dataset containing the preprocessed validation set\n",
    "  '''\n",
    "  validation_dataset = tf.data.Dataset.from_tensor_slices((image_paths, label_map_paths))\n",
    "  validation_dataset = validation_dataset.map(map_filename_to_image_and_mask)\n",
    "  validation_dataset = validation_dataset.batch(batch_size)\n",
    "  #validation_dataset = validation_dataset.repeat()\n",
    "\n",
    "  return validation_dataset"
   ]
  },
  {
   "cell_type": "code",
   "execution_count": 97,
   "metadata": {
    "executionInfo": {
     "elapsed": 340,
     "status": "ok",
     "timestamp": 1747363844946,
     "user": {
      "displayName": "Marcos García",
      "userId": "10472708252722737011"
     },
     "user_tz": 180
    },
    "id": "xL5_YsOw7_xd"
   },
   "outputs": [],
   "source": [
    "# get the paths to the images\n",
    "training_image_paths, training_label_map_paths = get_dataset_slice_paths(train_img_dir, train_annotation_dir)\n",
    "validation_image_paths, validation_label_map_paths = get_dataset_slice_paths(test_img_dir, test_annotation_dir)\n",
    "\n",
    "# generate the train and val sets\n",
    "training_dataset = get_training_dataset(training_image_paths, training_label_map_paths)\n",
    "validation_dataset = get_validation_dataset(validation_image_paths, validation_label_map_paths)"
   ]
  },
  {
   "cell_type": "markdown",
   "metadata": {
    "id": "LKbVD-u37_xd"
   },
   "source": [
    "<a name=\"5\"></a> \n",
    "## <font color=\"orange\"> <b> 5. Build, compile and train the model </b> </font>"
   ]
  },
  {
   "cell_type": "code",
   "execution_count": 98,
   "metadata": {
    "executionInfo": {
     "elapsed": 12,
     "status": "ok",
     "timestamp": 1747363846696,
     "user": {
      "displayName": "Marcos García",
      "userId": "10472708252722737011"
     },
     "user_tz": 180
    },
    "id": "Pg_tERug7_xd"
   },
   "outputs": [],
   "source": [
    "# U-NET\n",
    "def unet_model(input_shape=(224, 224, 3), num_classes=3):\n",
    "    inputs = layers.Input(shape=input_shape)\n",
    "\n",
    "    # Encoder\n",
    "    c1 = layers.Conv2D(64, 3, activation='relu', padding='same')(inputs)\n",
    "    c1 = layers.Conv2D(64, 3, activation='relu', padding='same')(c1)\n",
    "    p1 = layers.MaxPooling2D()(c1)\n",
    "\n",
    "    c2 = layers.Conv2D(128, 3, activation='relu', padding='same')(p1)\n",
    "    c2 = layers.Conv2D(128, 3, activation='relu', padding='same')(c2)\n",
    "    p2 = layers.MaxPooling2D()(c2)\n",
    "\n",
    "    c3 = layers.Conv2D(256, 3, activation='relu', padding='same')(p2)\n",
    "    c3 = layers.Conv2D(256, 3, activation='relu', padding='same')(c3)\n",
    "\n",
    "    # Decoder\n",
    "    u2 = layers.Conv2DTranspose(128, 2, strides=2, padding='same')(c3)\n",
    "    u2 = layers.concatenate([u2, c2])\n",
    "    c4 = layers.Conv2D(128, 3, activation='relu', padding='same')(u2)\n",
    "    c4 = layers.Conv2D(128, 3, activation='relu', padding='same')(c4)\n",
    "\n",
    "    u1 = layers.Conv2DTranspose(64, 2, strides=2, padding='same')(c4)\n",
    "    u1 = layers.concatenate([u1, c1])\n",
    "    c5 = layers.Conv2D(64, 3, activation='relu', padding='same')(u1)\n",
    "    c5 = layers.Conv2D(64, 3, activation='relu', padding='same')(c5)\n",
    "\n",
    "    outputs = layers.Conv2D(num_classes, 1, activation='softmax')(c5)\n",
    "\n",
    "    return models.Model(inputs, outputs)\n"
   ]
  },
  {
   "cell_type": "code",
   "execution_count": 99,
   "metadata": {
    "executionInfo": {
     "elapsed": 109,
     "status": "ok",
     "timestamp": 1747363847529,
     "user": {
      "displayName": "Marcos García",
      "userId": "10472708252722737011"
     },
     "user_tz": 180
    },
    "id": "7g6zpSVP7_xe"
   },
   "outputs": [],
   "source": [
    "model = unet_model()\n",
    "model.compile(optimizer='adam',\n",
    "              loss='categorical_crossentropy',\n",
    "              metrics=['accuracy'])\n"
   ]
  },
  {
   "cell_type": "code",
   "execution_count": 100,
   "metadata": {
    "colab": {
     "base_uri": "https://localhost:8080/"
    },
    "executionInfo": {
     "elapsed": 173700,
     "status": "ok",
     "timestamp": 1747364026326,
     "user": {
      "displayName": "Marcos García",
      "userId": "10472708252722737011"
     },
     "user_tz": 180
    },
    "id": "ipBC5Cvk7_xe",
    "outputId": "2efa734d-c37e-47ae-9b30-35fc03a1b4bf"
   },
   "outputs": [
    {
     "name": "stdout",
     "output_type": "stream",
     "text": [
      "Epoch 1/2\n",
      "5/5 [==============================] - 144s 28s/step - loss: 0.4817 - accuracy: 0.9572 - val_loss: 0.0717 - val_accuracy: 0.9752\n",
      "Epoch 2/2\n",
      "5/5 [==============================] - 138s 28s/step - loss: 0.0437 - accuracy: 0.9906 - val_loss: 0.0155 - val_accuracy: 0.9984\n"
     ]
    },
    {
     "data": {
      "text/plain": [
       "<keras.src.callbacks.History at 0x76f1414e5bd0>"
      ]
     },
     "execution_count": 100,
     "metadata": {},
     "output_type": "execute_result"
    }
   ],
   "source": [
    "model.fit(training_dataset,\n",
    "          validation_data=validation_dataset,\n",
    "          epochs=2)\n"
   ]
  },
  {
   "cell_type": "markdown",
   "metadata": {
    "id": "lv9x2-Ir7_xe"
   },
   "source": [
    "<a name=\"6\"></a> \n",
    "## <font color=\"orange\"> <b> 6. Predictions </b> </font>\n",
    "\n",
    "Let's make a prediction."
   ]
  },
  {
   "cell_type": "code",
   "execution_count": 126,
   "metadata": {
    "colab": {
     "base_uri": "https://localhost:8080/",
     "height": 373
    },
    "executionInfo": {
     "elapsed": 273,
     "status": "ok",
     "timestamp": 1747364026623,
     "user": {
      "displayName": "Marcos García",
      "userId": "10472708252722737011"
     },
     "user_tz": 180
    },
    "id": "Q0PTHfWX7_xe",
    "outputId": "09c60db4-a1d3-48f0-a738-7fd64dbf6a62"
   },
   "outputs": [],
   "source": [
    "# Unbatch to get individual (image, mask) pairs\n",
    "unbatched_val_dataset = validation_dataset.unbatch()\n",
    "\n",
    "# Get the 27th sample (0-based index)\n",
    "for i, (image, mask) in enumerate(unbatched_val_dataset):\n",
    "    if i == 27:\n",
    "        image = image.numpy()\n",
    "        mask = mask.numpy()\n",
    "        break\n",
    "\n",
    "# Convert mask from one-hot to class labels if needed\n",
    "if mask.shape[-1] == 3:\n",
    "    mask = np.argmax(mask, axis=-1)\n"
   ]
  },
  {
   "cell_type": "code",
   "execution_count": 127,
   "metadata": {
    "colab": {
     "base_uri": "https://localhost:8080/"
    },
    "executionInfo": {
     "elapsed": 7,
     "status": "ok",
     "timestamp": 1747364030289,
     "user": {
      "displayName": "Marcos García",
      "userId": "10472708252722737011"
     },
     "user_tz": 180
    },
    "id": "Ke4Rj-vO7_xf",
    "outputId": "e7dec0e4-1fd6-407f-f276-54642fbf0169"
   },
   "outputs": [
    {
     "data": {
      "text/plain": [
       "(224, 224, 3)"
      ]
     },
     "execution_count": 127,
     "metadata": {},
     "output_type": "execute_result"
    }
   ],
   "source": [
    "image.shape"
   ]
  },
  {
   "cell_type": "code",
   "execution_count": 128,
   "metadata": {
    "colab": {
     "base_uri": "https://localhost:8080/"
    },
    "executionInfo": {
     "elapsed": 678,
     "status": "ok",
     "timestamp": 1747364032578,
     "user": {
      "displayName": "Marcos García",
      "userId": "10472708252722737011"
     },
     "user_tz": 180
    },
    "id": "vEhVeoSH7_xf",
    "outputId": "528e02ee-d39e-4705-c114-c0b516a369a6"
   },
   "outputs": [
    {
     "name": "stdout",
     "output_type": "stream",
     "text": [
      "1/1 [==============================] - 0s 182ms/step\n"
     ]
    }
   ],
   "source": [
    "data = image\n",
    "\n",
    "data = image[np.newaxis, ...] # add batch dimension\n",
    "pred_mask = model.predict(data)"
   ]
  },
  {
   "cell_type": "code",
   "execution_count": 129,
   "metadata": {
    "colab": {
     "base_uri": "https://localhost:8080/"
    },
    "executionInfo": {
     "elapsed": 5,
     "status": "ok",
     "timestamp": 1747364033686,
     "user": {
      "displayName": "Marcos García",
      "userId": "10472708252722737011"
     },
     "user_tz": 180
    },
    "id": "dT-EVM4U7_xf",
    "outputId": "2f9a4f5e-5766-48b7-af29-c8aa3bed5690"
   },
   "outputs": [
    {
     "data": {
      "text/plain": [
       "(1, 224, 224, 3)"
      ]
     },
     "execution_count": 129,
     "metadata": {},
     "output_type": "execute_result"
    }
   ],
   "source": [
    "pred_mask.shape"
   ]
  },
  {
   "cell_type": "code",
   "execution_count": 130,
   "metadata": {
    "executionInfo": {
     "elapsed": 2,
     "status": "ok",
     "timestamp": 1747364035889,
     "user": {
      "displayName": "Marcos García",
      "userId": "10472708252722737011"
     },
     "user_tz": 180
    },
    "id": "BEUpT3v57_xf"
   },
   "outputs": [],
   "source": [
    "pred_mask = tf.argmax(pred_mask[0], axis=-1) # convert predictions to class indices\n",
    "pred_mask = pred_mask[..., tf.newaxis]"
   ]
  },
  {
   "cell_type": "code",
   "execution_count": 131,
   "metadata": {
    "colab": {
     "base_uri": "https://localhost:8080/"
    },
    "executionInfo": {
     "elapsed": 7,
     "status": "ok",
     "timestamp": 1747364036779,
     "user": {
      "displayName": "Marcos García",
      "userId": "10472708252722737011"
     },
     "user_tz": 180
    },
    "id": "6jBuk2-d7_xf",
    "outputId": "c4d48af5-a92f-44e5-b27a-37b44b170315"
   },
   "outputs": [
    {
     "data": {
      "text/plain": [
       "TensorShape([224, 224, 1])"
      ]
     },
     "execution_count": 131,
     "metadata": {},
     "output_type": "execute_result"
    }
   ],
   "source": [
    "pred_mask.shape"
   ]
  },
  {
   "cell_type": "code",
   "execution_count": 132,
   "metadata": {
    "executionInfo": {
     "elapsed": 1,
     "status": "ok",
     "timestamp": 1747364037702,
     "user": {
      "displayName": "Marcos García",
      "userId": "10472708252722737011"
     },
     "user_tz": 180
    },
    "id": "mheWV0g47_xf"
   },
   "outputs": [
    {
     "data": {
      "image/png": "[encoded data removed]",
      "text/plain": [
       "<Figure size 1500x500 with 3 Axes>"
      ]
     },
     "metadata": {},
     "output_type": "display_data"
    }
   ],
   "source": [
    "plot_image_mask_prediction(image, mask, pred_mask)"
   ]
  },
  {
   "cell_type": "code",
   "execution_count": 133,
   "metadata": {
    "colab": {
     "base_uri": "https://localhost:8080/"
    },
    "executionInfo": {
     "elapsed": 6,
     "status": "ok",
     "timestamp": 1747364042032,
     "user": {
      "displayName": "Marcos García",
      "userId": "10472708252722737011"
     },
     "user_tz": 180
    },
    "id": "thwdMNb_7_xg",
    "outputId": "c3721cdc-107a-4d88-d236-b3607463d921"
   },
   "outputs": [
    {
     "name": "stdout",
     "output_type": "stream",
     "text": [
      "{0: 49108, 1: 1068}\n"
     ]
    }
   ],
   "source": [
    "unique, counts = np.unique(mask_pred, return_counts=True)\n",
    "print(dict(zip(unique, counts)))"
   ]
  },
  {
   "cell_type": "markdown",
   "metadata": {
    "id": "hfcfME_j7_xg"
   },
   "source": [
    "<a name=\"7\"></a> \n",
    "## <font color=\"orange\"> <b> 7. Evaluation </b> </font>\n",
    "\n",
    "We will calcuate the IoU."
   ]
  },
  {
   "cell_type": "code",
   "execution_count": 109,
   "metadata": {
    "executionInfo": {
     "elapsed": 11,
     "status": "ok",
     "timestamp": 1747364045510,
     "user": {
      "displayName": "Marcos García",
      "userId": "10472708252722737011"
     },
     "user_tz": 180
    },
    "id": "adMUr5sL7_xg"
   },
   "outputs": [],
   "source": [
    "def compute_iou(y_true, y_pred, num_classes=3):\n",
    "    \"\"\"\n",
    "    Compute per-class IoU from one-hot encoded predictions and labels.\n",
    "\n",
    "    Args:\n",
    "        y_true: np.array, shape (H, W, num_classes) or (N, H, W, num_classes)\n",
    "        y_pred: np.array, same shape as y_true (typically after softmax)\n",
    "        num_classes: int, number of classes\n",
    "\n",
    "    Returns:\n",
    "        list of IoU per class\n",
    "    \"\"\"\n",
    "    # Convert from one-hot to class indices\n",
    "    y_true_argmax = np.argmax(y_true, axis=-1).flatten()\n",
    "    y_pred_argmax = np.argmax(y_pred, axis=-1).flatten()\n",
    "\n",
    "    ious = []\n",
    "    for cls in range(num_classes):\n",
    "        intersection = np.sum((y_true_argmax == cls) & (y_pred_argmax == cls))\n",
    "        union = np.sum((y_true_argmax == cls) | (y_pred_argmax == cls))\n",
    "        iou = intersection / (union + 1e-7)\n",
    "        ious.append(iou)\n",
    "    return ious\n"
   ]
  },
  {
   "cell_type": "code",
   "execution_count": 110,
   "metadata": {
    "executionInfo": {
     "elapsed": 5,
     "status": "ok",
     "timestamp": 1747364046547,
     "user": {
      "displayName": "Marcos García",
      "userId": "10472708252722737011"
     },
     "user_tz": 180
    },
    "id": "0wgUJ1So7_xg"
   },
   "outputs": [],
   "source": [
    "def compute_iou_dataset(model, dataset, num_classes=num_classes):\n",
    "    total_intersection = np.zeros(num_classes)\n",
    "    total_union = np.zeros(num_classes)\n",
    "\n",
    "    for images, labels in dataset:\n",
    "        preds = model.predict(images)\n",
    "\n",
    "        # Convert to class indices\n",
    "        y_true = tf.argmax(labels, axis=-1).numpy().flatten()\n",
    "        y_pred = tf.argmax(preds, axis=-1).numpy().flatten()\n",
    "\n",
    "        for cls in range(num_classes):\n",
    "            intersection = np.sum((y_true == cls) & (y_pred == cls))\n",
    "            union = np.sum((y_true == cls) | (y_pred == cls))\n",
    "            total_intersection[cls] += intersection\n",
    "            total_union[cls] += union\n",
    "\n",
    "    iou_per_class = total_intersection / (total_union + 1e-7)\n",
    "    mean_iou = np.mean(iou_per_class)\n",
    "\n",
    "    return iou_per_class, mean_iou\n"
   ]
  },
  {
   "cell_type": "code",
   "execution_count": 111,
   "metadata": {
    "colab": {
     "base_uri": "https://localhost:8080/"
    },
    "executionInfo": {
     "elapsed": 2142,
     "status": "ok",
     "timestamp": 1747364049749,
     "user": {
      "displayName": "Marcos García",
      "userId": "10472708252722737011"
     },
     "user_tz": 180
    },
    "id": "XB5fO7uY7_xl",
    "outputId": "6a02d3a8-1f9e-47c2-f289-6ccaf3684ea3"
   },
   "outputs": [
    {
     "name": "stdout",
     "output_type": "stream",
     "text": [
      "1/1 [==============================] - 5s 5s/step\n",
      "1/1 [==============================] - 1s 1s/step\n",
      "Per-class IoU: [0.99841538 0.96492384 0.95339466]\n",
      "Mean IoU: 0.9722446273854323\n"
     ]
    }
   ],
   "source": [
    "iou_scores, mean_iou = compute_iou_dataset(model, validation_dataset)\n",
    "\n",
    "print(\"Per-class IoU:\", iou_scores)\n",
    "print(\"Mean IoU:\", mean_iou)"
   ]
  },
  {
   "cell_type": "markdown",
   "metadata": {
    "executionInfo": {
     "elapsed": 24998,
     "status": "aborted",
     "timestamp": 1747363441107,
     "user": {
      "displayName": "Marcos García",
      "userId": "10472708252722737011"
     },
     "user_tz": 180
    },
    "id": "kF2QHQOO7_xl"
   },
   "source": [
    "Per-class IoU:\n",
    "[0.99, 0.96, 0.95]\n",
    "\n",
    "- Class 0: Excellent (almost perfect) segmentation.\n",
    "\n",
    "- Class 1: Very good.\n",
    "\n",
    "- Class 2: Also very good.\n",
    "\n",
    "Mean IoU:\n",
    "0.97 → This is the average of all per-class IoUs and indicates excellent segmentation performance overall.\n",
    "\n",
    "Our model is performing well with high Intersection over Union (IoU) for all classes."
   ]
  },
  {
   "cell_type": "markdown",
   "metadata": {
    "executionInfo": {
     "elapsed": 25000,
     "status": "aborted",
     "timestamp": 1747363441109,
     "user": {
      "displayName": "Marcos García",
      "userId": "10472708252722737011"
     },
     "user_tz": 180
    },
    "id": "iWFdVSa57_xl"
   },
   "source": [
    "<a name=\"8\"></a> \n",
    "## <font color=\"orange\"> <b> 8. Training with Dice Score </b> </font>"
   ]
  },
  {
   "cell_type": "markdown",
   "metadata": {},
   "source": [
    "Previously, we trained the model using categorical_crossentropy as the loss function and monitored accuracy as the main metric. However, since this is an image segmentation problem, especially with class imbalance, these choices may not be ideal. In segmentation tasks, pixel-wise accuracy can be misleading—predicting the dominant class everywhere may yield high accuracy while completely missing smaller structures.\n",
    "\n",
    "To address this, it's more appropriate to use a loss function tailored for segmentation and imbalance, such as:\n",
    "- Dice Loss or \n",
    "- Jaccard Loss. \n",
    "\n",
    "These better capture the overlap between predicted and ground truth masks, focusing on the correct segmentation of all classes, including minority ones.\n",
    "\n",
    "Additionally, we should monitor the Intersection over Union (IoU), which is a more meaningful metric for segmentation tasks. IoU provides a class-wise evaluation of segmentation quality and is particularly useful when evaluating models on unbalanced datasets."
   ]
  },
  {
   "cell_type": "code",
   "execution_count": 76,
   "metadata": {},
   "outputs": [],
   "source": [
    "def dice_loss(y_true, y_pred, smooth=1e-6):\n",
    "    y_true = tf.cast(y_true, tf.float32)\n",
    "    y_pred = tf.cast(y_pred, tf.float32)\n",
    "\n",
    "    intersection = tf.reduce_sum(y_true * y_pred, axis=[1, 2, 3])\n",
    "    union = tf.reduce_sum(y_true + y_pred, axis=[1, 2, 3])\n",
    "    dice = (2. * intersection + smooth) / (union + smooth)\n",
    "\n",
    "    return 1 - tf.reduce_mean(dice)\n"
   ]
  },
  {
   "cell_type": "code",
   "execution_count": 79,
   "metadata": {},
   "outputs": [],
   "source": [
    "# instanciate the model\n",
    "model = unet_model()\n",
    "\n",
    "# Compile\n",
    "model.compile(\n",
    "    optimizer=\"adam\",\n",
    "    loss=dice_loss,\n",
    "    metrics=[tf.keras.metrics.MeanIoU(num_classes=num_classes)]\n",
    ")"
   ]
  },
  {
   "cell_type": "code",
   "execution_count": 80,
   "metadata": {},
   "outputs": [
    {
     "name": "stdout",
     "output_type": "stream",
     "text": [
      "Epoch 1/2\n",
      "5/5 [==============================] - 139s 28s/step - loss: 0.3347 - mean_io_u_3: 0.3333 - val_loss: 0.0408 - val_mean_io_u_3: 0.3333\n",
      "Epoch 2/2\n",
      "5/5 [==============================] - 136s 27s/step - loss: 0.0427 - mean_io_u_3: 0.3333 - val_loss: 0.0408 - val_mean_io_u_3: 0.3333\n"
     ]
    },
    {
     "data": {
      "text/plain": [
       "<keras.src.callbacks.History at 0x76f11aa60910>"
      ]
     },
     "execution_count": 80,
     "metadata": {},
     "output_type": "execute_result"
    }
   ],
   "source": [
    "# Train\n",
    "model.fit(\n",
    "    training_dataset,\n",
    "    validation_data=validation_dataset,\n",
    "    epochs=2,\n",
    ")"
   ]
  },
  {
   "cell_type": "code",
   "execution_count": 81,
   "metadata": {},
   "outputs": [
    {
     "name": "stdout",
     "output_type": "stream",
     "text": [
      "1/1 [==============================] - 6s 6s/step\n",
      "1/1 [==============================] - 1s 1s/step\n",
      "Per-class IoU: [0.95922303 0.         0.        ]\n",
      "Mean IoU: 0.3197410116390147\n"
     ]
    }
   ],
   "source": [
    "iou_scores, mean_iou = compute_iou_dataset(model, validation_dataset)\n",
    "\n",
    "print(\"Per-class IoU:\", iou_scores)\n",
    "print(\"Mean IoU:\", mean_iou)"
   ]
  },
  {
   "cell_type": "markdown",
   "metadata": {},
   "source": [
    "<a name=\"references\"></a> \n",
    "## <font color=\"orange\"> <b> References </b> </font>\n",
    "\n",
    "[TF Advanced Techniques Specialization](https://www.coursera.org/specializations/tensorflow-advanced-techniques)"
   ]
  }
 ],
 "metadata": {
  "accelerator": "GPU",
  "colab": {
   "gpuType": "T4",
   "provenance": []
  },
  "kernelspec": {
   "display_name": "Python 3 (ipykernel)",
   "language": "python",
   "name": "python3"
  },
  "language_info": {
   "codemirror_mode": {
    "name": "ipython",
    "version": 3
   },
   "file_extension": ".py",
   "mimetype": "text/x-python",
   "name": "python",
   "nbconvert_exporter": "python",
   "pygments_lexer": "ipython3",
   "version": "3.10.12"
  }
 },
 "nbformat": 4,
 "nbformat_minor": 4
}
